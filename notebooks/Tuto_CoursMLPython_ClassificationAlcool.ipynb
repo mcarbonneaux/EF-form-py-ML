{
 "cells": [
  {
   "cell_type": "markdown",
   "metadata": {},
   "source": [
    "# Prédire les habitudes de consommation d'alcool des adolescents"
   ]
  },
  {
   "cell_type": "code",
   "execution_count": 1,
   "metadata": {},
   "outputs": [],
   "source": [
    "import pandas as pd\n",
    "import numpy as np\n",
    "%matplotlib inline"
   ]
  },
  {
   "cell_type": "code",
   "execution_count": 2,
   "metadata": {},
   "outputs": [],
   "source": [
    "student = pd.read_csv(\"https://raw.githubusercontent.com/udacity/machine-learning/master/projects/student_intervention/student-data.csv\", sep=\",\").dropna()\n",
    "student.rename(columns={'sex':'gender'}, inplace=True)\n",
    "student['alcohol_index'] = (5*student['Dalc'] + 2*student['Walc'])/7\n",
    "# Niveau de consommation d'alcool\n",
    "student['acl'] = student['alcohol_index'] <= 2\n",
    "student['acl'] = student['acl'].map({True: 'Low', False: 'High'})"
   ]
  },
  {
   "cell_type": "code",
   "execution_count": 3,
   "metadata": {},
   "outputs": [
    {
     "data": {
      "text/html": [
       "<div>\n",
       "<style scoped>\n",
       "    .dataframe tbody tr th:only-of-type {\n",
       "        vertical-align: middle;\n",
       "    }\n",
       "\n",
       "    .dataframe tbody tr th {\n",
       "        vertical-align: top;\n",
       "    }\n",
       "\n",
       "    .dataframe thead th {\n",
       "        text-align: right;\n",
       "    }\n",
       "</style>\n",
       "<table border=\"1\" class=\"dataframe\">\n",
       "  <thead>\n",
       "    <tr style=\"text-align: right;\">\n",
       "      <th></th>\n",
       "      <th>school</th>\n",
       "      <th>gender</th>\n",
       "      <th>age</th>\n",
       "      <th>address</th>\n",
       "      <th>famsize</th>\n",
       "      <th>Pstatus</th>\n",
       "      <th>Medu</th>\n",
       "      <th>Fedu</th>\n",
       "      <th>Mjob</th>\n",
       "      <th>Fjob</th>\n",
       "      <th>...</th>\n",
       "      <th>famrel</th>\n",
       "      <th>freetime</th>\n",
       "      <th>goout</th>\n",
       "      <th>Dalc</th>\n",
       "      <th>Walc</th>\n",
       "      <th>health</th>\n",
       "      <th>absences</th>\n",
       "      <th>passed</th>\n",
       "      <th>alcohol_index</th>\n",
       "      <th>acl</th>\n",
       "    </tr>\n",
       "  </thead>\n",
       "  <tbody>\n",
       "    <tr>\n",
       "      <th>0</th>\n",
       "      <td>GP</td>\n",
       "      <td>F</td>\n",
       "      <td>18</td>\n",
       "      <td>U</td>\n",
       "      <td>GT3</td>\n",
       "      <td>A</td>\n",
       "      <td>4</td>\n",
       "      <td>4</td>\n",
       "      <td>at_home</td>\n",
       "      <td>teacher</td>\n",
       "      <td>...</td>\n",
       "      <td>4</td>\n",
       "      <td>3</td>\n",
       "      <td>4</td>\n",
       "      <td>1</td>\n",
       "      <td>1</td>\n",
       "      <td>3</td>\n",
       "      <td>6</td>\n",
       "      <td>no</td>\n",
       "      <td>1.000000</td>\n",
       "      <td>Low</td>\n",
       "    </tr>\n",
       "    <tr>\n",
       "      <th>1</th>\n",
       "      <td>GP</td>\n",
       "      <td>F</td>\n",
       "      <td>17</td>\n",
       "      <td>U</td>\n",
       "      <td>GT3</td>\n",
       "      <td>T</td>\n",
       "      <td>1</td>\n",
       "      <td>1</td>\n",
       "      <td>at_home</td>\n",
       "      <td>other</td>\n",
       "      <td>...</td>\n",
       "      <td>5</td>\n",
       "      <td>3</td>\n",
       "      <td>3</td>\n",
       "      <td>1</td>\n",
       "      <td>1</td>\n",
       "      <td>3</td>\n",
       "      <td>4</td>\n",
       "      <td>no</td>\n",
       "      <td>1.000000</td>\n",
       "      <td>Low</td>\n",
       "    </tr>\n",
       "    <tr>\n",
       "      <th>2</th>\n",
       "      <td>GP</td>\n",
       "      <td>F</td>\n",
       "      <td>15</td>\n",
       "      <td>U</td>\n",
       "      <td>LE3</td>\n",
       "      <td>T</td>\n",
       "      <td>1</td>\n",
       "      <td>1</td>\n",
       "      <td>at_home</td>\n",
       "      <td>other</td>\n",
       "      <td>...</td>\n",
       "      <td>4</td>\n",
       "      <td>3</td>\n",
       "      <td>2</td>\n",
       "      <td>2</td>\n",
       "      <td>3</td>\n",
       "      <td>3</td>\n",
       "      <td>10</td>\n",
       "      <td>yes</td>\n",
       "      <td>2.285714</td>\n",
       "      <td>High</td>\n",
       "    </tr>\n",
       "  </tbody>\n",
       "</table>\n",
       "<p>3 rows × 33 columns</p>\n",
       "</div>"
      ],
      "text/plain": [
       "  school gender  age address famsize Pstatus  Medu  Fedu     Mjob     Fjob  \\\n",
       "0     GP      F   18       U     GT3       A     4     4  at_home  teacher   \n",
       "1     GP      F   17       U     GT3       T     1     1  at_home    other   \n",
       "2     GP      F   15       U     LE3       T     1     1  at_home    other   \n",
       "\n",
       "   ... famrel freetime  goout  Dalc  Walc health absences passed  \\\n",
       "0  ...      4        3      4     1     1      3        6     no   \n",
       "1  ...      5        3      3     1     1      3        4     no   \n",
       "2  ...      4        3      2     2     3      3       10    yes   \n",
       "\n",
       "  alcohol_index   acl  \n",
       "0      1.000000   Low  \n",
       "1      1.000000   Low  \n",
       "2      2.285714  High  \n",
       "\n",
       "[3 rows x 33 columns]"
      ]
     },
     "execution_count": 3,
     "metadata": {},
     "output_type": "execute_result"
    }
   ],
   "source": [
    "student.head(3)"
   ]
  },
  {
   "cell_type": "code",
   "execution_count": 4,
   "metadata": {},
   "outputs": [
    {
     "data": {
      "text/plain": [
       "school            object\n",
       "gender            object\n",
       "age                int64\n",
       "address           object\n",
       "famsize           object\n",
       "Pstatus           object\n",
       "Medu               int64\n",
       "Fedu               int64\n",
       "Mjob              object\n",
       "Fjob              object\n",
       "reason            object\n",
       "guardian          object\n",
       "traveltime         int64\n",
       "studytime          int64\n",
       "failures           int64\n",
       "schoolsup         object\n",
       "famsup            object\n",
       "paid              object\n",
       "activities        object\n",
       "nursery           object\n",
       "higher            object\n",
       "internet          object\n",
       "romantic          object\n",
       "famrel             int64\n",
       "freetime           int64\n",
       "goout              int64\n",
       "Dalc               int64\n",
       "Walc               int64\n",
       "health             int64\n",
       "absences           int64\n",
       "passed            object\n",
       "alcohol_index    float64\n",
       "acl               object\n",
       "dtype: object"
      ]
     },
     "execution_count": 4,
     "metadata": {},
     "output_type": "execute_result"
    }
   ],
   "source": [
    "student.dtypes"
   ]
  },
  {
   "cell_type": "code",
   "execution_count": 5,
   "metadata": {},
   "outputs": [
    {
     "data": {
      "text/plain": [
       "Index(['school', 'gender', 'age', 'address', 'famsize', 'Pstatus', 'Medu',\n",
       "       'Fedu', 'Mjob', 'Fjob', 'reason', 'guardian', 'traveltime', 'studytime',\n",
       "       'failures', 'schoolsup', 'famsup', 'paid', 'activities', 'nursery',\n",
       "       'higher', 'internet', 'romantic', 'famrel', 'freetime', 'goout', 'Dalc',\n",
       "       'Walc', 'health', 'absences', 'passed', 'alcohol_index', 'acl'],\n",
       "      dtype='object')"
      ]
     },
     "execution_count": 5,
     "metadata": {},
     "output_type": "execute_result"
    }
   ],
   "source": [
    "student.columns"
   ]
  },
  {
   "cell_type": "markdown",
   "metadata": {},
   "source": [
    "student's home address type (binary: 'U' - urban or 'R' - rural) \n",
    "Family size (binary: 'LE3' - less or equal to 3 or 'GT3' - greater than 3)\n",
    "PSTATUS Parent's cohabitation status (binary: 'T' - living together or 'A' - living apart)\n",
    "FEDU MEDU Mother's education (numeric: 0 - none, 1 - primary education (4th grade), 2 - 5th to 9th grade, 3 - secondary education, or 4 - higher education)\n",
    "MJOB FJOB Mother's job (nominal: 'teacher', 'health' care related, civil 'services' (e.g. administrative or police), 'at_home' or 'other')\n",
    "REASON Reason to choose this school (nominal: close to 'home', school 'reputation', 'course' preference or 'other')\n",
    "GUARDIAN Student's guardian (nominal: 'mother', 'father' or 'other')\n",
    "TRAVELTIME Home to school travel time (numeric: 1 - &lt;15 min., 2 - 15 to 30 min., 3 - 30 min. to 1 hour, or 4 - &gt;1 hour)\n",
    "STUDYTIME Weekly study time (numeric: 1 - &lt;2 hours, 2 - 2 to 5 hours, 3 - 5 to 10 hours, or 4 - &gt;10 hours)\n",
    "failures           Number of past class failures (numeric: n if 1&lt;=n&lt;3, else 4)\n",
    "SCHOOLSUP Extra educational support (binary: yes or no)\n",
    "FAMSUP Family educational support (binary: yes or no)\n",
    "PAID Extra paid classes within the course subject (Math or Portuguese) (binary: yes or no)\n",
    "ACTIVITIES Extra-curricular activities (binary: yes or no) \n",
    "NURSERY  Attended nursery school (binary: yes or no)\n",
    "HIGHER Wants to take higher education (binary: yes or no)\n",
    "INTERNET  Internet access at home (binary: yes or no)\n",
    "ROMANTIC With a romantic relationship (binary: yes or no)\n",
    "FAMREL Quality of family relationships (numeric: from 1 - very bad to 5 - excellent)\n",
    "FREETIME free time after school (numeric: from 1 - very low to 5 - very high)\n",
    "GOOUT Going out with friends (numeric: from 1 - very low to 5 - very high)\n",
    "HEALTH Current health status (numeric: from 1 - very bad to 5 - very good)"
   ]
  },
  {
   "cell_type": "code",
   "execution_count": 6,
   "metadata": {},
   "outputs": [],
   "source": [
    "features = ['school', 'gender', 'age', 'address', 'famsize', 'Pstatus', 'Medu',\n",
    "       'Fedu', 'Mjob', 'Fjob', 'reason', 'guardian', 'traveltime', 'studytime',\n",
    "       'failures', 'schoolsup', 'famsup', 'paid', 'activities', 'nursery',\n",
    "       'higher', 'internet', 'romantic', 'famrel', 'freetime', 'goout','health' ]"
   ]
  },
  {
   "cell_type": "code",
   "execution_count": 7,
   "metadata": {},
   "outputs": [],
   "source": [
    "# on garde certaines variables socio démo (suppression des variables de conso dalcool et de scolarité)\n",
    "#features = ['school','gender','famsize','age','Pstatus','Medu',\"Fedu\",\"Mjob\",\"Fjob\",'studytime','famrel','goout','freetime','G3']"
   ]
  },
  {
   "cell_type": "code",
   "execution_count": 8,
   "metadata": {},
   "outputs": [
    {
     "data": {
      "text/html": [
       "<div>\n",
       "<style scoped>\n",
       "    .dataframe tbody tr th:only-of-type {\n",
       "        vertical-align: middle;\n",
       "    }\n",
       "\n",
       "    .dataframe tbody tr th {\n",
       "        vertical-align: top;\n",
       "    }\n",
       "\n",
       "    .dataframe thead th {\n",
       "        text-align: right;\n",
       "    }\n",
       "</style>\n",
       "<table border=\"1\" class=\"dataframe\">\n",
       "  <thead>\n",
       "    <tr style=\"text-align: right;\">\n",
       "      <th></th>\n",
       "      <th>school</th>\n",
       "      <th>gender</th>\n",
       "      <th>age</th>\n",
       "      <th>address</th>\n",
       "      <th>famsize</th>\n",
       "      <th>Pstatus</th>\n",
       "      <th>Medu</th>\n",
       "      <th>Fedu</th>\n",
       "      <th>Mjob</th>\n",
       "      <th>Fjob</th>\n",
       "      <th>...</th>\n",
       "      <th>paid</th>\n",
       "      <th>activities</th>\n",
       "      <th>nursery</th>\n",
       "      <th>higher</th>\n",
       "      <th>internet</th>\n",
       "      <th>romantic</th>\n",
       "      <th>famrel</th>\n",
       "      <th>freetime</th>\n",
       "      <th>goout</th>\n",
       "      <th>health</th>\n",
       "    </tr>\n",
       "  </thead>\n",
       "  <tbody>\n",
       "    <tr>\n",
       "      <th>count</th>\n",
       "      <td>395</td>\n",
       "      <td>395</td>\n",
       "      <td>395.000000</td>\n",
       "      <td>395</td>\n",
       "      <td>395</td>\n",
       "      <td>395</td>\n",
       "      <td>395.000000</td>\n",
       "      <td>395.000000</td>\n",
       "      <td>395</td>\n",
       "      <td>395</td>\n",
       "      <td>...</td>\n",
       "      <td>395</td>\n",
       "      <td>395</td>\n",
       "      <td>395</td>\n",
       "      <td>395</td>\n",
       "      <td>395</td>\n",
       "      <td>395</td>\n",
       "      <td>395.000000</td>\n",
       "      <td>395.000000</td>\n",
       "      <td>395.000000</td>\n",
       "      <td>395.000000</td>\n",
       "    </tr>\n",
       "    <tr>\n",
       "      <th>unique</th>\n",
       "      <td>2</td>\n",
       "      <td>2</td>\n",
       "      <td>NaN</td>\n",
       "      <td>2</td>\n",
       "      <td>2</td>\n",
       "      <td>2</td>\n",
       "      <td>NaN</td>\n",
       "      <td>NaN</td>\n",
       "      <td>5</td>\n",
       "      <td>5</td>\n",
       "      <td>...</td>\n",
       "      <td>2</td>\n",
       "      <td>2</td>\n",
       "      <td>2</td>\n",
       "      <td>2</td>\n",
       "      <td>2</td>\n",
       "      <td>2</td>\n",
       "      <td>NaN</td>\n",
       "      <td>NaN</td>\n",
       "      <td>NaN</td>\n",
       "      <td>NaN</td>\n",
       "    </tr>\n",
       "    <tr>\n",
       "      <th>top</th>\n",
       "      <td>GP</td>\n",
       "      <td>F</td>\n",
       "      <td>NaN</td>\n",
       "      <td>U</td>\n",
       "      <td>GT3</td>\n",
       "      <td>T</td>\n",
       "      <td>NaN</td>\n",
       "      <td>NaN</td>\n",
       "      <td>other</td>\n",
       "      <td>other</td>\n",
       "      <td>...</td>\n",
       "      <td>no</td>\n",
       "      <td>yes</td>\n",
       "      <td>yes</td>\n",
       "      <td>yes</td>\n",
       "      <td>yes</td>\n",
       "      <td>no</td>\n",
       "      <td>NaN</td>\n",
       "      <td>NaN</td>\n",
       "      <td>NaN</td>\n",
       "      <td>NaN</td>\n",
       "    </tr>\n",
       "    <tr>\n",
       "      <th>freq</th>\n",
       "      <td>349</td>\n",
       "      <td>208</td>\n",
       "      <td>NaN</td>\n",
       "      <td>307</td>\n",
       "      <td>281</td>\n",
       "      <td>354</td>\n",
       "      <td>NaN</td>\n",
       "      <td>NaN</td>\n",
       "      <td>141</td>\n",
       "      <td>217</td>\n",
       "      <td>...</td>\n",
       "      <td>214</td>\n",
       "      <td>201</td>\n",
       "      <td>314</td>\n",
       "      <td>375</td>\n",
       "      <td>329</td>\n",
       "      <td>263</td>\n",
       "      <td>NaN</td>\n",
       "      <td>NaN</td>\n",
       "      <td>NaN</td>\n",
       "      <td>NaN</td>\n",
       "    </tr>\n",
       "    <tr>\n",
       "      <th>mean</th>\n",
       "      <td>NaN</td>\n",
       "      <td>NaN</td>\n",
       "      <td>16.696203</td>\n",
       "      <td>NaN</td>\n",
       "      <td>NaN</td>\n",
       "      <td>NaN</td>\n",
       "      <td>2.749367</td>\n",
       "      <td>2.521519</td>\n",
       "      <td>NaN</td>\n",
       "      <td>NaN</td>\n",
       "      <td>...</td>\n",
       "      <td>NaN</td>\n",
       "      <td>NaN</td>\n",
       "      <td>NaN</td>\n",
       "      <td>NaN</td>\n",
       "      <td>NaN</td>\n",
       "      <td>NaN</td>\n",
       "      <td>3.944304</td>\n",
       "      <td>3.235443</td>\n",
       "      <td>3.108861</td>\n",
       "      <td>3.554430</td>\n",
       "    </tr>\n",
       "    <tr>\n",
       "      <th>std</th>\n",
       "      <td>NaN</td>\n",
       "      <td>NaN</td>\n",
       "      <td>1.276043</td>\n",
       "      <td>NaN</td>\n",
       "      <td>NaN</td>\n",
       "      <td>NaN</td>\n",
       "      <td>1.094735</td>\n",
       "      <td>1.088201</td>\n",
       "      <td>NaN</td>\n",
       "      <td>NaN</td>\n",
       "      <td>...</td>\n",
       "      <td>NaN</td>\n",
       "      <td>NaN</td>\n",
       "      <td>NaN</td>\n",
       "      <td>NaN</td>\n",
       "      <td>NaN</td>\n",
       "      <td>NaN</td>\n",
       "      <td>0.896659</td>\n",
       "      <td>0.998862</td>\n",
       "      <td>1.113278</td>\n",
       "      <td>1.390303</td>\n",
       "    </tr>\n",
       "    <tr>\n",
       "      <th>min</th>\n",
       "      <td>NaN</td>\n",
       "      <td>NaN</td>\n",
       "      <td>15.000000</td>\n",
       "      <td>NaN</td>\n",
       "      <td>NaN</td>\n",
       "      <td>NaN</td>\n",
       "      <td>0.000000</td>\n",
       "      <td>0.000000</td>\n",
       "      <td>NaN</td>\n",
       "      <td>NaN</td>\n",
       "      <td>...</td>\n",
       "      <td>NaN</td>\n",
       "      <td>NaN</td>\n",
       "      <td>NaN</td>\n",
       "      <td>NaN</td>\n",
       "      <td>NaN</td>\n",
       "      <td>NaN</td>\n",
       "      <td>1.000000</td>\n",
       "      <td>1.000000</td>\n",
       "      <td>1.000000</td>\n",
       "      <td>1.000000</td>\n",
       "    </tr>\n",
       "    <tr>\n",
       "      <th>25%</th>\n",
       "      <td>NaN</td>\n",
       "      <td>NaN</td>\n",
       "      <td>16.000000</td>\n",
       "      <td>NaN</td>\n",
       "      <td>NaN</td>\n",
       "      <td>NaN</td>\n",
       "      <td>2.000000</td>\n",
       "      <td>2.000000</td>\n",
       "      <td>NaN</td>\n",
       "      <td>NaN</td>\n",
       "      <td>...</td>\n",
       "      <td>NaN</td>\n",
       "      <td>NaN</td>\n",
       "      <td>NaN</td>\n",
       "      <td>NaN</td>\n",
       "      <td>NaN</td>\n",
       "      <td>NaN</td>\n",
       "      <td>4.000000</td>\n",
       "      <td>3.000000</td>\n",
       "      <td>2.000000</td>\n",
       "      <td>3.000000</td>\n",
       "    </tr>\n",
       "    <tr>\n",
       "      <th>50%</th>\n",
       "      <td>NaN</td>\n",
       "      <td>NaN</td>\n",
       "      <td>17.000000</td>\n",
       "      <td>NaN</td>\n",
       "      <td>NaN</td>\n",
       "      <td>NaN</td>\n",
       "      <td>3.000000</td>\n",
       "      <td>2.000000</td>\n",
       "      <td>NaN</td>\n",
       "      <td>NaN</td>\n",
       "      <td>...</td>\n",
       "      <td>NaN</td>\n",
       "      <td>NaN</td>\n",
       "      <td>NaN</td>\n",
       "      <td>NaN</td>\n",
       "      <td>NaN</td>\n",
       "      <td>NaN</td>\n",
       "      <td>4.000000</td>\n",
       "      <td>3.000000</td>\n",
       "      <td>3.000000</td>\n",
       "      <td>4.000000</td>\n",
       "    </tr>\n",
       "    <tr>\n",
       "      <th>75%</th>\n",
       "      <td>NaN</td>\n",
       "      <td>NaN</td>\n",
       "      <td>18.000000</td>\n",
       "      <td>NaN</td>\n",
       "      <td>NaN</td>\n",
       "      <td>NaN</td>\n",
       "      <td>4.000000</td>\n",
       "      <td>3.000000</td>\n",
       "      <td>NaN</td>\n",
       "      <td>NaN</td>\n",
       "      <td>...</td>\n",
       "      <td>NaN</td>\n",
       "      <td>NaN</td>\n",
       "      <td>NaN</td>\n",
       "      <td>NaN</td>\n",
       "      <td>NaN</td>\n",
       "      <td>NaN</td>\n",
       "      <td>5.000000</td>\n",
       "      <td>4.000000</td>\n",
       "      <td>4.000000</td>\n",
       "      <td>5.000000</td>\n",
       "    </tr>\n",
       "    <tr>\n",
       "      <th>max</th>\n",
       "      <td>NaN</td>\n",
       "      <td>NaN</td>\n",
       "      <td>22.000000</td>\n",
       "      <td>NaN</td>\n",
       "      <td>NaN</td>\n",
       "      <td>NaN</td>\n",
       "      <td>4.000000</td>\n",
       "      <td>4.000000</td>\n",
       "      <td>NaN</td>\n",
       "      <td>NaN</td>\n",
       "      <td>...</td>\n",
       "      <td>NaN</td>\n",
       "      <td>NaN</td>\n",
       "      <td>NaN</td>\n",
       "      <td>NaN</td>\n",
       "      <td>NaN</td>\n",
       "      <td>NaN</td>\n",
       "      <td>5.000000</td>\n",
       "      <td>5.000000</td>\n",
       "      <td>5.000000</td>\n",
       "      <td>5.000000</td>\n",
       "    </tr>\n",
       "  </tbody>\n",
       "</table>\n",
       "<p>11 rows × 27 columns</p>\n",
       "</div>"
      ],
      "text/plain": [
       "       school gender         age address famsize Pstatus        Medu  \\\n",
       "count     395    395  395.000000     395     395     395  395.000000   \n",
       "unique      2      2         NaN       2       2       2         NaN   \n",
       "top        GP      F         NaN       U     GT3       T         NaN   \n",
       "freq      349    208         NaN     307     281     354         NaN   \n",
       "mean      NaN    NaN   16.696203     NaN     NaN     NaN    2.749367   \n",
       "std       NaN    NaN    1.276043     NaN     NaN     NaN    1.094735   \n",
       "min       NaN    NaN   15.000000     NaN     NaN     NaN    0.000000   \n",
       "25%       NaN    NaN   16.000000     NaN     NaN     NaN    2.000000   \n",
       "50%       NaN    NaN   17.000000     NaN     NaN     NaN    3.000000   \n",
       "75%       NaN    NaN   18.000000     NaN     NaN     NaN    4.000000   \n",
       "max       NaN    NaN   22.000000     NaN     NaN     NaN    4.000000   \n",
       "\n",
       "              Fedu   Mjob   Fjob  ... paid activities  nursery  higher  \\\n",
       "count   395.000000    395    395  ...  395        395      395     395   \n",
       "unique         NaN      5      5  ...    2          2        2       2   \n",
       "top            NaN  other  other  ...   no        yes      yes     yes   \n",
       "freq           NaN    141    217  ...  214        201      314     375   \n",
       "mean      2.521519    NaN    NaN  ...  NaN        NaN      NaN     NaN   \n",
       "std       1.088201    NaN    NaN  ...  NaN        NaN      NaN     NaN   \n",
       "min       0.000000    NaN    NaN  ...  NaN        NaN      NaN     NaN   \n",
       "25%       2.000000    NaN    NaN  ...  NaN        NaN      NaN     NaN   \n",
       "50%       2.000000    NaN    NaN  ...  NaN        NaN      NaN     NaN   \n",
       "75%       3.000000    NaN    NaN  ...  NaN        NaN      NaN     NaN   \n",
       "max       4.000000    NaN    NaN  ...  NaN        NaN      NaN     NaN   \n",
       "\n",
       "        internet romantic      famrel    freetime       goout      health  \n",
       "count        395      395  395.000000  395.000000  395.000000  395.000000  \n",
       "unique         2        2         NaN         NaN         NaN         NaN  \n",
       "top          yes       no         NaN         NaN         NaN         NaN  \n",
       "freq         329      263         NaN         NaN         NaN         NaN  \n",
       "mean         NaN      NaN    3.944304    3.235443    3.108861    3.554430  \n",
       "std          NaN      NaN    0.896659    0.998862    1.113278    1.390303  \n",
       "min          NaN      NaN    1.000000    1.000000    1.000000    1.000000  \n",
       "25%          NaN      NaN    4.000000    3.000000    2.000000    3.000000  \n",
       "50%          NaN      NaN    4.000000    3.000000    3.000000    4.000000  \n",
       "75%          NaN      NaN    5.000000    4.000000    4.000000    5.000000  \n",
       "max          NaN      NaN    5.000000    5.000000    5.000000    5.000000  \n",
       "\n",
       "[11 rows x 27 columns]"
      ]
     },
     "execution_count": 8,
     "metadata": {},
     "output_type": "execute_result"
    }
   ],
   "source": [
    "student[features].describe(include='all')"
   ]
  },
  {
   "cell_type": "code",
   "execution_count": 9,
   "metadata": {},
   "outputs": [
    {
     "data": {
      "text/html": [
       "<div>\n",
       "<style scoped>\n",
       "    .dataframe tbody tr th:only-of-type {\n",
       "        vertical-align: middle;\n",
       "    }\n",
       "\n",
       "    .dataframe tbody tr th {\n",
       "        vertical-align: top;\n",
       "    }\n",
       "\n",
       "    .dataframe thead th {\n",
       "        text-align: right;\n",
       "    }\n",
       "</style>\n",
       "<table border=\"1\" class=\"dataframe\">\n",
       "  <thead>\n",
       "    <tr style=\"text-align: right;\">\n",
       "      <th></th>\n",
       "      <th>school</th>\n",
       "      <th>gender</th>\n",
       "      <th>famsize</th>\n",
       "      <th>address</th>\n",
       "      <th>Pstatus</th>\n",
       "      <th>Mjob</th>\n",
       "      <th>Fjob</th>\n",
       "      <th>reason</th>\n",
       "      <th>guardian</th>\n",
       "      <th>schoolsup</th>\n",
       "      <th>famsup</th>\n",
       "      <th>paid</th>\n",
       "      <th>activities</th>\n",
       "      <th>nursery</th>\n",
       "      <th>higher</th>\n",
       "      <th>internet</th>\n",
       "      <th>romantic</th>\n",
       "    </tr>\n",
       "  </thead>\n",
       "  <tbody>\n",
       "    <tr>\n",
       "      <th>count</th>\n",
       "      <td>395</td>\n",
       "      <td>395</td>\n",
       "      <td>395</td>\n",
       "      <td>395</td>\n",
       "      <td>395</td>\n",
       "      <td>395</td>\n",
       "      <td>395</td>\n",
       "      <td>395</td>\n",
       "      <td>395</td>\n",
       "      <td>395</td>\n",
       "      <td>395</td>\n",
       "      <td>395</td>\n",
       "      <td>395</td>\n",
       "      <td>395</td>\n",
       "      <td>395</td>\n",
       "      <td>395</td>\n",
       "      <td>395</td>\n",
       "    </tr>\n",
       "    <tr>\n",
       "      <th>unique</th>\n",
       "      <td>2</td>\n",
       "      <td>2</td>\n",
       "      <td>2</td>\n",
       "      <td>2</td>\n",
       "      <td>2</td>\n",
       "      <td>5</td>\n",
       "      <td>5</td>\n",
       "      <td>4</td>\n",
       "      <td>3</td>\n",
       "      <td>2</td>\n",
       "      <td>2</td>\n",
       "      <td>2</td>\n",
       "      <td>2</td>\n",
       "      <td>2</td>\n",
       "      <td>2</td>\n",
       "      <td>2</td>\n",
       "      <td>2</td>\n",
       "    </tr>\n",
       "    <tr>\n",
       "      <th>top</th>\n",
       "      <td>GP</td>\n",
       "      <td>F</td>\n",
       "      <td>GT3</td>\n",
       "      <td>U</td>\n",
       "      <td>T</td>\n",
       "      <td>other</td>\n",
       "      <td>other</td>\n",
       "      <td>course</td>\n",
       "      <td>mother</td>\n",
       "      <td>no</td>\n",
       "      <td>yes</td>\n",
       "      <td>no</td>\n",
       "      <td>yes</td>\n",
       "      <td>yes</td>\n",
       "      <td>yes</td>\n",
       "      <td>yes</td>\n",
       "      <td>no</td>\n",
       "    </tr>\n",
       "    <tr>\n",
       "      <th>freq</th>\n",
       "      <td>349</td>\n",
       "      <td>208</td>\n",
       "      <td>281</td>\n",
       "      <td>307</td>\n",
       "      <td>354</td>\n",
       "      <td>141</td>\n",
       "      <td>217</td>\n",
       "      <td>145</td>\n",
       "      <td>273</td>\n",
       "      <td>344</td>\n",
       "      <td>242</td>\n",
       "      <td>214</td>\n",
       "      <td>201</td>\n",
       "      <td>314</td>\n",
       "      <td>375</td>\n",
       "      <td>329</td>\n",
       "      <td>263</td>\n",
       "    </tr>\n",
       "  </tbody>\n",
       "</table>\n",
       "</div>"
      ],
      "text/plain": [
       "       school gender famsize address Pstatus   Mjob   Fjob  reason guardian  \\\n",
       "count     395    395     395     395     395    395    395     395      395   \n",
       "unique      2      2       2       2       2      5      5       4        3   \n",
       "top        GP      F     GT3       U       T  other  other  course   mother   \n",
       "freq      349    208     281     307     354    141    217     145      273   \n",
       "\n",
       "       schoolsup famsup paid activities nursery higher internet romantic  \n",
       "count        395    395  395        395     395    395      395      395  \n",
       "unique         2      2    2          2       2      2        2        2  \n",
       "top           no    yes   no        yes     yes    yes      yes       no  \n",
       "freq         344    242  214        201     314    375      329      263  "
      ]
     },
     "execution_count": 9,
     "metadata": {},
     "output_type": "execute_result"
    }
   ],
   "source": [
    "featuresquali = ['school','gender','famsize','address','Pstatus','Mjob','Fjob','reason','guardian','schoolsup', 'famsup', 'paid', 'activities', 'nursery',\n",
    "       'higher', 'internet', 'romantic']\n",
    "student[featuresquali].describe(include='all')"
   ]
  },
  {
   "cell_type": "code",
   "execution_count": 10,
   "metadata": {},
   "outputs": [],
   "source": [
    "featuresquanti = ['age', 'Medu','Fedu',  'traveltime', 'studytime',\n",
    "       'failures',  'famrel', 'freetime', 'goout','health']\n",
    "target = 'acl'"
   ]
  },
  {
   "cell_type": "markdown",
   "metadata": {},
   "source": [
    "## Préparation de l'apprentissage"
   ]
  },
  {
   "cell_type": "markdown",
   "metadata": {},
   "source": [
    "### Important: Scikit-learn ne comprend que les chiffres!"
   ]
  },
  {
   "cell_type": "markdown",
   "metadata": {},
   "source": [
    "C'est pourquoi nous devons créer ce qu'on appelle \"dummy\" features ou one-hot encoded features."
   ]
  },
  {
   "cell_type": "code",
   "execution_count": 11,
   "metadata": {},
   "outputs": [],
   "source": [
    "# For gender: Female will be 0, Male will be 1\n",
    "#student['gender'] = student['gender'].map({'F':0, 'M':1}).astype(int)\n",
    "# For famsize: 'LE3' - less or equal to 3 will be 0. 'GT3' - greater than 3 will be one\n",
    "#student['famsize'] = student['famsize'].map({'LE3':0, 'GT3':1}).astype(int)\n",
    "# for acl: 'Low' will be 0, 'High' will be 1\n",
    "student['acl'] = student['acl'].map({'Low':0, 'High':1}).astype(int)"
   ]
  },
  {
   "cell_type": "code",
   "execution_count": 12,
   "metadata": {},
   "outputs": [],
   "source": [
    "# ca va plus vite avec get dummies\n",
    "dummies_nb = pd.get_dummies(student[featuresquali], drop_first=True)\n",
    "# on réunit les var quanti et les dummies\n",
    "studentPrep = pd.concat([student[featuresquanti], dummies_nb], axis=1)"
   ]
  },
  {
   "cell_type": "code",
   "execution_count": 13,
   "metadata": {},
   "outputs": [],
   "source": [
    "X = studentPrep\n",
    "y = student[target]"
   ]
  },
  {
   "cell_type": "code",
   "execution_count": 14,
   "metadata": {},
   "outputs": [
    {
     "data": {
      "text/plain": [
       "0    0\n",
       "1    0\n",
       "2    1\n",
       "3    0\n",
       "4    0\n",
       "Name: acl, dtype: int32"
      ]
     },
     "execution_count": 14,
     "metadata": {},
     "output_type": "execute_result"
    }
   ],
   "source": [
    "y.head()"
   ]
  },
  {
   "cell_type": "markdown",
   "metadata": {},
   "source": [
    "### étude de la variable cible"
   ]
  },
  {
   "cell_type": "code",
   "execution_count": 15,
   "metadata": {},
   "outputs": [
    {
     "data": {
      "text/plain": [
       "0    0.736709\n",
       "1    0.263291\n",
       "Name: acl, dtype: float64"
      ]
     },
     "execution_count": 15,
     "metadata": {},
     "output_type": "execute_result"
    }
   ],
   "source": [
    "y.value_counts(normalize=True)"
   ]
  },
  {
   "cell_type": "code",
   "execution_count": 16,
   "metadata": {},
   "outputs": [
    {
     "data": {
      "text/plain": [
       "count    395.000000\n",
       "mean       0.263291\n",
       "std        0.440978\n",
       "min        0.000000\n",
       "25%        0.000000\n",
       "50%        0.000000\n",
       "75%        1.000000\n",
       "max        1.000000\n",
       "Name: acl, dtype: float64"
      ]
     },
     "execution_count": 16,
     "metadata": {},
     "output_type": "execute_result"
    }
   ],
   "source": [
    "y.describe()"
   ]
  },
  {
   "cell_type": "markdown",
   "metadata": {},
   "source": [
    "### Modèle avec Cross Validation pour éviter de faire un éch test"
   ]
  },
  {
   "cell_type": "markdown",
   "metadata": {},
   "source": [
    "L'arbre de décision est un modèle de classification qui va découper la population en feuilles les plus pures possible en event 1 ou 0"
   ]
  },
  {
   "cell_type": "code",
   "execution_count": 17,
   "metadata": {},
   "outputs": [],
   "source": [
    "from sklearn.tree import DecisionTreeClassifier\n",
    "from sklearn import model_selection"
   ]
  },
  {
   "cell_type": "markdown",
   "metadata": {},
   "source": [
    "On fait un modèle avec de la cross validation et pas d'éch test"
   ]
  },
  {
   "cell_type": "code",
   "execution_count": 18,
   "metadata": {},
   "outputs": [],
   "source": [
    "modele_arbreCV = model_selection.cross_validate(\n",
    "                DecisionTreeClassifier(random_state = 2016, max_depth = 3, min_samples_leaf = 30),\n",
    "                                        X,\n",
    "                                        y,\n",
    "                                        scoring='roc_auc',\n",
    "                                        cv=4,\n",
    "                                        return_train_score=True)"
   ]
  },
  {
   "cell_type": "code",
   "execution_count": 19,
   "metadata": {},
   "outputs": [
    {
     "name": "stdout",
     "output_type": "stream",
     "text": [
      "[0.77152435 0.7609386  0.75520466 0.77801194] [0.68282403 0.70679663 0.71944152 0.62232906]\n"
     ]
    }
   ],
   "source": [
    "# calcule la métrique pour chaque fold \n",
    "print(modele_arbreCV['train_score'],modele_arbreCV['test_score'])\n",
    "# on voit une grosse perte en généralisation"
   ]
  },
  {
   "cell_type": "code",
   "execution_count": 20,
   "metadata": {},
   "outputs": [
    {
     "data": {
      "text/plain": [
       "0.08357207987054349"
      ]
     },
     "execution_count": 20,
     "metadata": {},
     "output_type": "execute_result"
    }
   ],
   "source": [
    "modele_arbreCV['train_score'].mean() - modele_arbreCV['test_score'].mean()"
   ]
  },
  {
   "cell_type": "markdown",
   "metadata": {},
   "source": [
    "### Modèle avec Partition train /  test"
   ]
  },
  {
   "cell_type": "code",
   "execution_count": 21,
   "metadata": {},
   "outputs": [],
   "source": [
    "# split Apprentissage Test\n",
    "from sklearn.model_selection import train_test_split "
   ]
  },
  {
   "cell_type": "code",
   "execution_count": 22,
   "metadata": {},
   "outputs": [],
   "source": [
    "# Application de la fonction avec tirage de 30% en test\n",
    "X_train, X_test, y_train, y_test = train_test_split(X,y, test_size=0.3)"
   ]
  },
  {
   "cell_type": "markdown",
   "metadata": {},
   "source": [
    "max depth et min samples leaf sont des hyper paramètres"
   ]
  },
  {
   "cell_type": "code",
   "execution_count": 23,
   "metadata": {},
   "outputs": [
    {
     "data": {
      "text/plain": [
       "DecisionTreeClassifier(class_weight=None, criterion='gini', max_depth=4,\n",
       "                       max_features=None, max_leaf_nodes=None,\n",
       "                       min_impurity_decrease=0.0, min_impurity_split=None,\n",
       "                       min_samples_leaf=20, min_samples_split=2,\n",
       "                       min_weight_fraction_leaf=0.0, presort=False,\n",
       "                       random_state=2016, splitter='best')"
      ]
     },
     "execution_count": 23,
     "metadata": {},
     "output_type": "execute_result"
    }
   ],
   "source": [
    "modele_arbre1 = DecisionTreeClassifier(random_state = 2016, max_depth = 4, min_samples_leaf = 20)\n",
    "modele_arbre1.fit(X_train, y_train)"
   ]
  },
  {
   "cell_type": "code",
   "execution_count": 24,
   "metadata": {},
   "outputs": [
    {
     "data": {
      "text/plain": [
       "[Text(651.0, 978.48, 'X[8] <= 3.5\\nentropy = 0.364\\nsamples = 100.0%\\nvalue = [0.761, 0.239]\\nclass = y[0]'),\n",
       " Text(398.5714285714286, 761.0400000000001, 'X[0] <= 16.5\\nentropy = 0.251\\nsamples = 64.1%\\nvalue = [0.853, 0.147]\\nclass = y[0]'),\n",
       " Text(212.57142857142858, 543.6, 'X[11] <= 0.5\\nentropy = 0.156\\nsamples = 34.1%\\nvalue = [0.915, 0.085]\\nclass = y[0]'),\n",
       " Text(106.28571428571429, 326.1600000000001, 'X[2] <= 2.5\\nentropy = 0.046\\nsamples = 15.2%\\nvalue = [0.976, 0.024]\\nclass = y[0]'),\n",
       " Text(53.142857142857146, 108.72000000000003, 'entropy = 0.091\\nsamples = 7.6%\\nvalue = [0.952, 0.048]\\nclass = y[0]'),\n",
       " Text(159.42857142857144, 108.72000000000003, 'entropy = 0.0\\nsamples = 7.6%\\nvalue = [1.0, 0.0]\\nclass = y[0]'),\n",
       " Text(318.8571428571429, 326.1600000000001, 'X[2] <= 2.5\\nentropy = 0.233\\nsamples = 18.8%\\nvalue = [0.865, 0.135]\\nclass = y[0]'),\n",
       " Text(265.7142857142857, 108.72000000000003, 'entropy = 0.087\\nsamples = 8.0%\\nvalue = [0.955, 0.045]\\nclass = y[0]'),\n",
       " Text(372.0, 108.72000000000003, 'entropy = 0.32\\nsamples = 10.9%\\nvalue = [0.8, 0.2]\\nclass = y[0]'),\n",
       " Text(584.5714285714286, 543.6, 'X[12] <= 0.5\\nentropy = 0.34\\nsamples = 30.1%\\nvalue = [0.783, 0.217]\\nclass = y[0]'),\n",
       " Text(531.4285714285714, 326.1600000000001, 'X[7] <= 3.5\\nentropy = 0.255\\nsamples = 21.7%\\nvalue = [0.85, 0.15]\\nclass = y[0]'),\n",
       " Text(478.28571428571433, 108.72000000000003, 'entropy = 0.139\\nsamples = 14.5%\\nvalue = [0.925, 0.075]\\nclass = y[0]'),\n",
       " Text(584.5714285714286, 108.72000000000003, 'entropy = 0.42\\nsamples = 7.2%\\nvalue = [0.7, 0.3]\\nclass = y[0]'),\n",
       " Text(637.7142857142858, 326.1600000000001, 'entropy = 0.476\\nsamples = 8.3%\\nvalue = [0.609, 0.391]\\nclass = y[0]'),\n",
       " Text(903.4285714285714, 761.0400000000001, 'X[11] <= 0.5\\nentropy = 0.482\\nsamples = 35.9%\\nvalue = [0.596, 0.404]\\nclass = y[0]'),\n",
       " Text(797.1428571428572, 543.6, 'X[7] <= 3.5\\nentropy = 0.335\\nsamples = 17.0%\\nvalue = [0.787, 0.213]\\nclass = y[0]'),\n",
       " Text(744.0, 326.1600000000001, 'entropy = 0.219\\nsamples = 8.7%\\nvalue = [0.875, 0.125]\\nclass = y[0]'),\n",
       " Text(850.2857142857143, 326.1600000000001, 'entropy = 0.423\\nsamples = 8.3%\\nvalue = [0.696, 0.304]\\nclass = y[0]'),\n",
       " Text(1009.7142857142858, 543.6, 'X[8] <= 4.5\\nentropy = 0.488\\nsamples = 18.8%\\nvalue = [0.423, 0.577]\\nclass = y[1]'),\n",
       " Text(956.5714285714287, 326.1600000000001, 'entropy = 0.495\\nsamples = 11.2%\\nvalue = [0.548, 0.452]\\nclass = y[0]'),\n",
       " Text(1062.857142857143, 326.1600000000001, 'entropy = 0.363\\nsamples = 7.6%\\nvalue = [0.238, 0.762]\\nclass = y[1]')]"
      ]
     },
     "execution_count": 24,
     "metadata": {},
     "output_type": "execute_result"
    },
    {
     "data": {
      "image/png": "[encoded data removed]",
      "text/plain": [
       "<Figure size 1440x1440 with 1 Axes>"
      ]
     },
     "metadata": {
      "needs_background": "light"
     },
     "output_type": "display_data"
    }
   ],
   "source": [
    "from sklearn import tree\n",
    "import matplotlib.pyplot as plt\n",
    "fig, ax = plt.subplots(figsize=(20, 20))\n",
    "tree.plot_tree(modele_arbre1,class_names=True, max_depth=4,proportion=True, fontsize=10,filled=True) "
   ]
  },
  {
   "cell_type": "markdown",
   "metadata": {},
   "source": [
    "### On va balayer une grille d'hyper paramètres avec la cross validation"
   ]
  },
  {
   "cell_type": "code",
   "execution_count": 26,
   "metadata": {},
   "outputs": [],
   "source": [
    "from sklearn.model_selection import GridSearchCV"
   ]
  },
  {
   "cell_type": "code",
   "execution_count": 27,
   "metadata": {},
   "outputs": [
    {
     "name": "stderr",
     "output_type": "stream",
     "text": [
      "C:\\Users\\dgr\\AppData\\Local\\Continuum\\anaconda3\\lib\\site-packages\\sklearn\\model_selection\\_search.py:813: DeprecationWarning: The default of the `iid` parameter will change from True to False in version 0.22 and will be removed in 0.24. This will change numeric results when test-set sizes are unequal.\n",
      "  DeprecationWarning)\n"
     ]
    }
   ],
   "source": [
    "# La grille\n",
    "param = [{ \"max_depth\": [2,3,4,5],  \"min_samples_leaf\": [20,30,40,50]}]\n",
    "\n",
    "# on declare le modele DecisionTreeClassifier sur lequel par cross validation on va balayer la grille\n",
    "#tree= GridSearchCV(DecisionTreeClassifier(), param, cv = 4, n_jobs = -1, scoring='roc_auc')\n",
    "modelCV= GridSearchCV(DecisionTreeClassifier(), param, cv = 4, n_jobs = -1, scoring='neg_log_loss')\n",
    "\n",
    "modelCV = modelCV.fit(X_train, y_train)"
   ]
  },
  {
   "cell_type": "code",
   "execution_count": 28,
   "metadata": {},
   "outputs": [
    {
     "data": {
      "text/plain": [
       "{'max_depth': 2, 'min_samples_leaf': 30}"
      ]
     },
     "execution_count": 28,
     "metadata": {},
     "output_type": "execute_result"
    }
   ],
   "source": [
    "# Les meilleurs paramètres sont selon la métrique :\n",
    "modelCV.best_params_"
   ]
  },
  {
   "cell_type": "markdown",
   "metadata": {},
   "source": [
    "### nouveau modèle avec la meilleure grille"
   ]
  },
  {
   "cell_type": "code",
   "execution_count": 29,
   "metadata": {},
   "outputs": [
    {
     "data": {
      "text/plain": [
       "DecisionTreeClassifier(class_weight=None, criterion='gini', max_depth=2,\n",
       "                       max_features=None, max_leaf_nodes=None,\n",
       "                       min_impurity_decrease=0.0, min_impurity_split=None,\n",
       "                       min_samples_leaf=30, min_samples_split=2,\n",
       "                       min_weight_fraction_leaf=0.0, presort=False,\n",
       "                       random_state=2016, splitter='best')"
      ]
     },
     "execution_count": 29,
     "metadata": {},
     "output_type": "execute_result"
    }
   ],
   "source": [
    "# On relance le modèle\n",
    "modele_arbre2 = DecisionTreeClassifier(random_state = 2016, max_depth = 2, min_samples_leaf = 30)\n",
    "modele_arbre2.fit(X_train, y_train)"
   ]
  },
  {
   "cell_type": "markdown",
   "metadata": {},
   "source": [
    "### On va utiliser des métriques pour évaluer le modèle\n",
    "certaines métriques dépendent d'un curseur sur la proba Y=1 (threshold dependant), d'autres au contraire sont comme la logloss une quantité (threshold invariant), c'est le cas de l'AUC qui plus elle est proche de 1 meilleur sera le modèle"
   ]
  },
  {
   "cell_type": "code",
   "execution_count": 30,
   "metadata": {},
   "outputs": [],
   "source": [
    "# importation de métriques\n",
    "from sklearn.metrics import classification_report,confusion_matrix,accuracy_score,f1_score,roc_auc_score,recall_score\n",
    "import matplotlib.pyplot as plt"
   ]
  },
  {
   "cell_type": "code",
   "execution_count": 31,
   "metadata": {},
   "outputs": [
    {
     "data": {
      "text/plain": [
       "array([[188,  22],\n",
       "       [ 36,  30]], dtype=int64)"
      ]
     },
     "execution_count": 31,
     "metadata": {},
     "output_type": "execute_result"
    }
   ],
   "source": [
    "# On récupère la prédiction, elle est faite au threshold de 0.5\n",
    "pred_train=modele_arbre2.predict(X_train)\n",
    "\n",
    "pred_test=modele_arbre2.predict(X_test)\n",
    "# \n",
    "confusion_matrix(y_train, pred_train)"
   ]
  },
  {
   "cell_type": "code",
   "execution_count": 32,
   "metadata": {},
   "outputs": [
    {
     "name": "stdout",
     "output_type": "stream",
     "text": [
      "col_0    0   1\n",
      "row_0         \n",
      "0      188  22\n",
      "1       36  30\n",
      "col_0         0         1\n",
      "row_0                    \n",
      "0      0.895238  0.104762\n",
      "1      0.545455  0.454545\n"
     ]
    }
   ],
   "source": [
    "# matrice de confusion manuelle\n",
    "import pandas as pd\n",
    "print(pd.crosstab(np.array(y_train),np.array(pred_train)))\n",
    "print(pd.crosstab(np.array(y_train),np.array(pred_train), normalize='index'))"
   ]
  },
  {
   "cell_type": "code",
   "execution_count": 33,
   "metadata": {},
   "outputs": [],
   "source": [
    "# répresenter la matrice de confusion\n",
    "\n",
    "import numpy as np\n",
    "\n",
    "def plot_confusion_matrix(y_true, y_pred, classes,                       \n",
    "                          title=None,\n",
    "                          cmap=plt.cm.Blues):\n",
    "   \n",
    "    # Compute confusion matrix\n",
    "    cm = confusion_matrix(y_true, y_pred)\n",
    "    # Only use the labels that appear in the data\n",
    "    print(cm)\n",
    "    cm = cm.astype('float') / cm.sum(axis=1)[:, np.newaxis]\n",
    "    print(cm)\n",
    "\n",
    "    fig, ax = plt.subplots()\n",
    "    im = ax.imshow(cm, interpolation='nearest', cmap=cmap)\n",
    "    ax.figure.colorbar(im, ax=ax)\n",
    "    # We want to show all ticks...\n",
    "    ax.set(xticks=np.arange(cm.shape[1]),\n",
    "           yticks=np.arange(cm.shape[0]),\n",
    "           # ... and label them with the respective list entries\n",
    "           xticklabels=classes, yticklabels=classes,\n",
    "           title=title,\n",
    "           ylabel='Variable cible observé',\n",
    "           xlabel='Variable cible prédite')\n",
    "\n",
    "    # Rotate the tick labels and set their alignment.\n",
    "    plt.setp(ax.get_xticklabels(), rotation=45, ha=\"right\",\n",
    "             rotation_mode=\"anchor\")\n",
    "\n",
    "    # Loop over data dimensions and create text annotations.\n",
    "    fmt = '.2f'\n",
    "    thresh = cm.max() / 2.\n",
    "    for i in range(cm.shape[0]):\n",
    "        for j in range(cm.shape[1]):\n",
    "            ax.text(j, i, format(cm[i, j], fmt),\n",
    "                    ha=\"center\", va=\"center\",\n",
    "                    color=\"white\" if cm[i, j] > thresh else \"black\")\n",
    "    fig.tight_layout()\n",
    "    return ax\n",
    "\n",
    "\n"
   ]
  },
  {
   "cell_type": "code",
   "execution_count": 34,
   "metadata": {},
   "outputs": [
    {
     "name": "stdout",
     "output_type": "stream",
     "text": [
      "[[77  4]\n",
      " [23 15]]\n",
      "[[0.95 0.05]\n",
      " [0.61 0.39]]\n"
     ]
    },
    {
     "data": {
      "text/plain": [
       "<matplotlib.axes._subplots.AxesSubplot at 0x20030dda860>"
      ]
     },
     "execution_count": 34,
     "metadata": {},
     "output_type": "execute_result"
    },
    {
     "data": {
      "image/png": "[encoded data removed]",
      "text/plain": [
       "<Figure size 432x288 with 2 Axes>"
      ]
     },
     "metadata": {
      "needs_background": "light"
     },
     "output_type": "display_data"
    }
   ],
   "source": [
    "np.set_printoptions(precision=2)\n",
    "# Plot normalized confusion matrix\n",
    "plot_confusion_matrix(y_test, pred_test, classes=[\"low risk\",\"high risk\"], \n",
    "                      title='Matrice de confusion échantillon Test')"
   ]
  },
  {
   "cell_type": "markdown",
   "metadata": {},
   "source": [
    "### métrics basées sur un cutoff :\n",
    "la métrique est calculable si le modèle a déjà pris une décision (au dela d'un cutoff entre 0 et 1, je prédis 1)\n",
    "\n",
    "Le recall est le poids de positifs bien prédits (true positive rate) , il exprime la couverture du phénomène\n",
    "accuracy est le taux de bien classés\n",
    "Sensibilité = Recall (capture) = ‟% d’event 1 (pos) bien prédit” = Vrais Positifs / Positif Observés\n",
    "\n",
    "La Precision = taux de vrais positifs parmi les positifs prédits, une précision faible signifie qu’on génère beaucoup de faux positifs\n",
    "Précision = Vrais Positifs /Positifs prédits = poids des biens prédits dans les prédits"
   ]
  },
  {
   "cell_type": "code",
   "execution_count": 35,
   "metadata": {},
   "outputs": [
    {
     "name": "stdout",
     "output_type": "stream",
     "text": [
      "f1 0.5263157894736843 recall 0.39473684210526316 precision 0.7894736842105263 accuracy 0.773109243697479\n"
     ]
    }
   ],
   "source": [
    "# dans y_pred il doit y avoir 0/1 pas une proba\n",
    "from sklearn.metrics import f1_score,recall_score,log_loss,accuracy_score, precision_score\n",
    "print(\"f1\",f1_score(y_test, pred_test) ,\"recall\",recall_score(y_test, pred_test),\"precision\",precision_score(y_test, pred_test) ,\"accuracy\",accuracy_score(y_test, pred_test) )"
   ]
  },
  {
   "cell_type": "code",
   "execution_count": 36,
   "metadata": {},
   "outputs": [
    {
     "ename": "NameError",
     "evalue": "name 'pred' is not defined",
     "output_type": "error",
     "traceback": [
      "\u001b[1;31m---------------------------------------------------------------------------\u001b[0m",
      "\u001b[1;31mNameError\u001b[0m                                 Traceback (most recent call last)",
      "\u001b[1;32m<ipython-input-36-f4834263b814>\u001b[0m in \u001b[0;36m<module>\u001b[1;34m\u001b[0m\n\u001b[1;32m----> 1\u001b[1;33m \u001b[0mprint\u001b[0m\u001b[1;33m(\u001b[0m\u001b[0maccuracy_score\u001b[0m\u001b[1;33m(\u001b[0m\u001b[0my_train\u001b[0m\u001b[1;33m,\u001b[0m \u001b[0mpred\u001b[0m\u001b[1;33m)\u001b[0m\u001b[1;33m,\u001b[0m\u001b[0maccuracy_score\u001b[0m\u001b[1;33m(\u001b[0m\u001b[0my_test\u001b[0m\u001b[1;33m,\u001b[0m \u001b[0mmodele_arbre2\u001b[0m\u001b[1;33m.\u001b[0m\u001b[0mpredict\u001b[0m\u001b[1;33m(\u001b[0m\u001b[0mX_test\u001b[0m\u001b[1;33m)\u001b[0m\u001b[1;33m)\u001b[0m\u001b[1;33m)\u001b[0m\u001b[1;33m\u001b[0m\u001b[1;33m\u001b[0m\u001b[0m\n\u001b[0m",
      "\u001b[1;31mNameError\u001b[0m: name 'pred' is not defined"
     ]
    }
   ],
   "source": [
    "print(accuracy_score(y_train, pred_train),accuracy_score(y_test, modele_arbre2.predict(X_test)))"
   ]
  },
  {
   "cell_type": "markdown",
   "metadata": {},
   "source": [
    "### métrics quantités qui ne dépendent pas d'un cutoff :\n",
    "la métrique est calculable à partir des probas/scores\n",
    "\n",
    "On peut tracer ainsi la courbe ROC : en abscisse le taux de faux positifs et en ordonnée le taux de vrai positif\n",
    "\n",
    "La courbe montre que lorsque le recall est bon (proche 1),\n",
    "1- spécificité est proche de 1 ce qui signifie que plus on capture d’évènements positif (bon recall),\n",
    "plus on en prédit et plus on crée de faux positifs (1-spécificité)\n",
    "ROC AUC : area under curve est l’aire sous la courbe entre compris entre 0,5 et  1\n",
    "\n",
    "\n",
    "\n",
    "LA fonction logLoss est une métrique alternative qui exprime la quantité d’erreur produite par le modèle, \n",
    "elle est très utilisée car elle mesure l’erreur en pénalisant les obs très mal classées \n",
    "(probabilité de la classe réelle très faible)\n",
    "\n"
   ]
  },
  {
   "cell_type": "code",
   "execution_count": 40,
   "metadata": {},
   "outputs": [
    {
     "data": {
      "text/plain": [
       "0.23913043478260865"
      ]
     },
     "execution_count": 40,
     "metadata": {},
     "output_type": "execute_result"
    }
   ],
   "source": [
    "# Récupérer les probas pour pouvoir calculer les métriques threshold invariant\n",
    "proba_train=modele_arbre2.predict_proba(X_train)[:,1]\n",
    "proba_test=modele_arbre2.predict_proba(X_test)[:,1]\n",
    "proba_train.mean()"
   ]
  },
  {
   "cell_type": "code",
   "execution_count": 41,
   "metadata": {},
   "outputs": [
    {
     "name": "stdout",
     "output_type": "stream",
     "text": [
      "logloss Train: 0.4728810054673654 logloss Test: 0.5777458423945595\n"
     ]
    }
   ],
   "source": [
    "#Log loss, aka logistic loss or cross-entropy loss.\n",
    "print(\"logloss Train:\",log_loss(y_train,proba_train),\"logloss Test:\",log_loss(y_test,proba_test))"
   ]
  },
  {
   "cell_type": "code",
   "execution_count": 42,
   "metadata": {},
   "outputs": [
    {
     "name": "stdout",
     "output_type": "stream",
     "text": [
      "Roc AUC Train: 0.7329004329004329 Roc AUC Test: 0.6400259909031839\n"
     ]
    }
   ],
   "source": [
    "# métrics non basés surun cut off\n",
    "from sklearn.metrics import roc_auc_score,roc_curve,average_precision_score\n",
    "# AUC\n",
    "print(\"Roc AUC Train:\",roc_auc_score(y_train,proba_train),\"Roc AUC Test:\",roc_auc_score(y_test,proba_test))"
   ]
  },
  {
   "cell_type": "code",
   "execution_count": 43,
   "metadata": {},
   "outputs": [
    {
     "name": "stdout",
     "output_type": "stream",
     "text": [
      "average prec Train: 0.43647801473888426 average prec  Test: 0.5198679949794333\n"
     ]
    }
   ],
   "source": [
    "# a precision-recall curve as the weighted mean of precisions achieved at each threshold,\n",
    "print(\"average prec Train:\",average_precision_score(y_train,proba_train),\"average prec  Test:\",average_precision_score(y_test,proba_test))"
   ]
  },
  {
   "cell_type": "markdown",
   "metadata": {},
   "source": [
    "Tracons la courbe ROC"
   ]
  },
  {
   "cell_type": "code",
   "execution_count": 44,
   "metadata": {},
   "outputs": [
    {
     "data": {
      "image/png": "[encoded data removed]",
      "text/plain": [
       "<Figure size 432x288 with 1 Axes>"
      ]
     },
     "metadata": {
      "needs_background": "light"
     },
     "output_type": "display_data"
    }
   ],
   "source": [
    "from sklearn.metrics import auc\n",
    "\n",
    "fpr, tpr, thresholds = roc_curve(y_test, proba_test)\n",
    "roc_auc = auc(fpr, tpr) # calcul AUC\n",
    "plt.figure()\n",
    "lw = 2\n",
    "plt.plot(fpr, tpr, color='darkorange',lw=lw, label='ROC curve (area = %0.2f)' % roc_auc)\n",
    "plt.plot([0, 1], [0, 1], color='navy', lw=lw, linestyle='--')\n",
    "plt.xlim([0.0, 1.0])\n",
    "plt.ylim([0.0, 1.05])\n",
    "plt.xlabel('False Positive Rate')\n",
    "plt.ylabel('True Positive Rate')\n",
    "plt.title('Receiver operating characteristic')\n",
    "plt.legend(loc=\"lower right\")\n",
    "plt.show()"
   ]
  },
  {
   "cell_type": "markdown",
   "metadata": {},
   "source": [
    "## Modèle de régression logistique pénalisée"
   ]
  },
  {
   "cell_type": "markdown",
   "metadata": {},
   "source": [
    "Une régression pénalisée de type ridge (L2) permet de contraindre l'espace des coef estimés pour ne pas qu'ils prennent des valeurs contradictoires et très élevées,\n",
    "Si la régression est de type lasso (L1) alors certains coefficients vont être annulés.\n",
    "Le paramètre C contrôle cela : \n",
    "C = Inverse of regularization strength; must be a positive float = smaller values specify stronger regularization.\n",
    "\n",
    "A noter que dans certaines classes, le paramètre est 1/C\n",
    "\n",
    "Tester plusieurs valeurs de C inf à 1 et regardez l'impact sur les coefficients"
   ]
  },
  {
   "cell_type": "code",
   "execution_count": 51,
   "metadata": {},
   "outputs": [],
   "source": [
    "from sklearn.preprocessing import StandardScaler\n",
    "scaler = StandardScaler()\n",
    "scaler.fit(X_train)  # normalise l’éch d’apprentissage\n",
    "X_train = scaler.transform(X_train)\n",
    "X_test = scaler.transform(X_test)  # applique à l’éch test\n",
    "X_train = pd.DataFrame(X_train)\n",
    "X_test = pd.DataFrame(X_test)\n",
    "# on récupère les noms de col\n",
    "X_train.columns = X.columns\n",
    "\n",
    "X_test.columns = X.columns"
   ]
  },
  {
   "cell_type": "code",
   "execution_count": 52,
   "metadata": {},
   "outputs": [],
   "source": [
    "from sklearn.linear_model import LogisticRegression\n",
    "student_classifier_logreg = LogisticRegression(penalty='l1',\n",
    "                                               tol=0.0001, C=0.1, fit_intercept=True,\n",
    "                                               solver='liblinear',\n",
    "                                               class_weight=None,max_iter=100)\n"
   ]
  },
  {
   "cell_type": "code",
   "execution_count": 53,
   "metadata": {},
   "outputs": [
    {
     "data": {
      "text/plain": [
       "LogisticRegression(C=0.1, class_weight=None, dual=False, fit_intercept=True,\n",
       "                   intercept_scaling=1, l1_ratio=None, max_iter=100,\n",
       "                   multi_class='warn', n_jobs=None, penalty='l1',\n",
       "                   random_state=None, solver='liblinear', tol=0.0001, verbose=0,\n",
       "                   warm_start=False)"
      ]
     },
     "execution_count": 53,
     "metadata": {},
     "output_type": "execute_result"
    }
   ],
   "source": [
    "student_classifier_logreg.fit(X_train, y_train)"
   ]
  },
  {
   "cell_type": "code",
   "execution_count": 54,
   "metadata": {},
   "outputs": [
    {
     "data": {
      "text/plain": [
       "36"
      ]
     },
     "execution_count": 54,
     "metadata": {},
     "output_type": "execute_result"
    }
   ],
   "source": [
    "coef=list(student_classifier_logreg.coef_[0])\n",
    "len(coef)"
   ]
  },
  {
   "cell_type": "code",
   "execution_count": 55,
   "metadata": {},
   "outputs": [
    {
     "name": "stdout",
     "output_type": "stream",
     "text": [
      "                   Coefficients\n",
      "age                    0.000000\n",
      "Medu                   0.000000\n",
      "Fedu                   0.000000\n",
      "traveltime             0.029174\n",
      "studytime             -0.021802\n",
      "failures               0.000000\n",
      "famrel                 0.000000\n",
      "freetime               0.048666\n",
      "goout                  0.451459\n",
      "health                 0.000000\n",
      "school_MS              0.035744\n",
      "gender_M               0.328446\n",
      "famsize_LE3            0.000000\n",
      "address_U             -0.110755\n",
      "Pstatus_T              0.000000\n",
      "Mjob_health            0.000000\n",
      "Mjob_other             0.000000\n",
      "Mjob_services          0.000000\n",
      "Mjob_teacher           0.000000\n",
      "Fjob_health            0.000000\n",
      "Fjob_other             0.000000\n",
      "Fjob_services          0.000000\n",
      "Fjob_teacher           0.000000\n",
      "reason_home            0.000000\n",
      "reason_other           0.046791\n",
      "reason_reputation      0.000000\n",
      "guardian_mother        0.000000\n",
      "guardian_other         0.000000\n",
      "schoolsup_yes          0.000000\n",
      "famsup_yes             0.000000\n",
      "paid_yes               0.000000\n",
      "activities_yes        -0.046978\n",
      "nursery_yes            0.000000\n",
      "higher_yes             0.000000\n",
      "internet_yes           0.000000\n",
      "romantic_yes           0.000000\n"
     ]
    }
   ],
   "source": [
    "print(pd.DataFrame({'Coefficients': list(coef)}, list(X_train.columns.values)))"
   ]
  },
  {
   "cell_type": "code",
   "execution_count": 56,
   "metadata": {},
   "outputs": [
    {
     "name": "stdout",
     "output_type": "stream",
     "text": [
      "                   Coefficients\n",
      "age                    0.096176\n",
      "Medu                   0.000000\n",
      "Fedu                   0.004590\n",
      "traveltime             0.134404\n",
      "studytime             -0.059786\n",
      "failures               0.000000\n",
      "famrel                -0.223327\n",
      "freetime               0.253484\n",
      "goout                  0.728068\n",
      "health                 0.031277\n",
      "school_MS              0.000000\n",
      "gender_M               0.593349\n",
      "famsize_LE3            0.237622\n",
      "address_U             -0.265870\n",
      "Pstatus_T              0.068854\n",
      "Mjob_health            0.000000\n",
      "Mjob_other             0.000000\n",
      "Mjob_services          0.000000\n",
      "Mjob_teacher          -0.022028\n",
      "Fjob_health            0.057023\n",
      "Fjob_other             0.000000\n",
      "Fjob_services          0.201460\n",
      "Fjob_teacher          -0.040446\n",
      "reason_home            0.000000\n",
      "reason_other           0.200727\n",
      "reason_reputation      0.000000\n",
      "guardian_mother        0.000000\n",
      "guardian_other        -0.004175\n",
      "schoolsup_yes          0.051626\n",
      "famsup_yes             0.000000\n",
      "paid_yes               0.191304\n",
      "activities_yes        -0.303729\n",
      "nursery_yes           -0.197665\n",
      "higher_yes             0.000000\n",
      "internet_yes          -0.073044\n",
      "romantic_yes          -0.100258\n"
     ]
    }
   ],
   "source": [
    "student_classifier_logreg = LogisticRegression(penalty='l1',\n",
    "                                               tol=0.0001, C=0.5, fit_intercept=True,\n",
    "                                               solver='liblinear',\n",
    "                                               class_weight=None,max_iter=1000)\n",
    "student_classifier_logreg.fit(X_train, y_train)\n",
    "coef=list(student_classifier_logreg.coef_[0])\n",
    "print(pd.DataFrame({'Coefficients': list(coef)}, list(X_train.columns.values)))"
   ]
  },
  {
   "cell_type": "code",
   "execution_count": 57,
   "metadata": {},
   "outputs": [
    {
     "data": {
      "text/plain": [
       "0.24637947421499531"
      ]
     },
     "execution_count": 57,
     "metadata": {},
     "output_type": "execute_result"
    }
   ],
   "source": [
    "# Récupérer les probas pour pouvoir calculer les métriques threshold invariant\n",
    "proba_train=student_classifier_logreg.predict_proba(X_train)[:,1]\n",
    "proba_test=student_classifier_logreg.predict_proba(X_test)[:,1]\n",
    "proba_train.mean()"
   ]
  },
  {
   "cell_type": "code",
   "execution_count": 59,
   "metadata": {},
   "outputs": [
    {
     "name": "stdout",
     "output_type": "stream",
     "text": [
      "Roc AUC Train: 0.8277056277056276 Roc AUC Test: 0.7846003898635479\n",
      "logloss Train: 0.4152754176975357 logloss Test: 0.5082393259001096\n"
     ]
    }
   ],
   "source": [
    "print(\"Roc AUC Train:\",roc_auc_score(y_train,proba_train),\"Roc AUC Test:\",roc_auc_score(y_test,proba_test))\n",
    "print(\"logloss Train:\",log_loss(y_train,proba_train),\"logloss Test:\",log_loss(y_test,proba_test))"
   ]
  },
  {
   "cell_type": "code",
   "execution_count": 161,
   "metadata": {},
   "outputs": [
    {
     "data": {
      "image/png": "[encoded data removed]",
      "text/plain": [
       "<Figure size 432x288 with 1 Axes>"
      ]
     },
     "metadata": {
      "needs_background": "light"
     },
     "output_type": "display_data"
    }
   ],
   "source": [
    "from sklearn.metrics import auc\n",
    "\n",
    "fpr, tpr, thresholds = roc_curve(y_test, proba_test)\n",
    "roc_auc = auc(fpr, tpr) # calcul AUC\n",
    "plt.figure()\n",
    "lw = 2\n",
    "plt.plot(fpr, tpr, color='darkorange',lw=lw, label='ROC curve (area = %0.2f)' % roc_auc)\n",
    "plt.plot([0, 1], [0, 1], color='navy', lw=lw, linestyle='--')\n",
    "plt.xlim([0.0, 1.0])\n",
    "plt.ylim([0.0, 1.05])\n",
    "plt.xlabel('False Positive Rate')\n",
    "plt.ylabel('True Positive Rate')\n",
    "plt.title('Receiver operating characteristic')\n",
    "plt.legend(loc=\"lower right\")\n",
    "plt.show()"
   ]
  }
 ],
 "metadata": {
  "kernelspec": {
   "display_name": "Python 3",
   "language": "python",
   "name": "python3"
  },
  "language_info": {
   "codemirror_mode": {
    "name": "ipython",
    "version": 3
   },
   "file_extension": ".py",
   "mimetype": "text/x-python",
   "name": "python",
   "nbconvert_exporter": "python",
   "pygments_lexer": "ipython3",
   "version": "3.7.3"
  },
  "name": "Python_Classification_exemple",
  "notebookId": 1320569712343186
 },
 "nbformat": 4,
 "nbformat_minor": 1
}
