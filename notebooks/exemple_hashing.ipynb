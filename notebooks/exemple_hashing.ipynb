{
 "cells": [
  {
   "cell_type": "code",
   "execution_count": 1,
   "metadata": {},
   "outputs": [],
   "source": [
    "\n",
    "from sklearn.feature_extraction import FeatureHasher"
   ]
  },
  {
   "cell_type": "code",
   "execution_count": 4,
   "metadata": {},
   "outputs": [
    {
     "name": "stdout",
     "output_type": "stream",
     "text": [
      "dict_keys(['dog', 'cat', 'elephant'])\n"
     ]
    }
   ],
   "source": [
    "\n",
    "# on déclare un hasher qui renvoie 10 valeurs\n",
    "h = FeatureHasher(n_features=10)\n",
    "D = [{'dog': 1, 'cat':2, 'elephant':4},{'dog': 2, 'run': 5}]\n",
    "k=D[0].keys()\n",
    "print(k)"
   ]
  },
  {
   "cell_type": "code",
   "execution_count": 5,
   "metadata": {},
   "outputs": [
    {
     "name": "stdout",
     "output_type": "stream",
     "text": [
      "  (0, 2)\t-4.0\n",
      "  (0, 3)\t-1.0\n",
      "  (0, 9)\t2.0\n",
      "  (1, 3)\t-2.0\n",
      "  (1, 4)\t-5.0\n"
     ]
    }
   ],
   "source": [
    "# on applique la methode Transform à la liste D, cela renvoie une  scipy.sparse matrix\n",
    "f = h.transform(D)\n",
    "print(f)"
   ]
  },
  {
   "cell_type": "code",
   "execution_count": 6,
   "metadata": {},
   "outputs": [
    {
     "data": {
      "text/plain": [
       "10"
      ]
     },
     "execution_count": 6,
     "metadata": {},
     "output_type": "execute_result"
    }
   ],
   "source": [
    "\n",
    "# 2 lignes\n",
    "f.shape[0]\n",
    "# 10 vars\n",
    "f.shape[1]\n"
   ]
  },
  {
   "cell_type": "code",
   "execution_count": 8,
   "metadata": {},
   "outputs": [
    {
     "name": "stdout",
     "output_type": "stream",
     "text": [
      "  (0, 2)\t-4.0\n",
      "  (0, 3)\t-1.0\n",
      "  (0, 9)\t2.0\n",
      "  (1, 3)\t-2.0\n",
      "  (1, 4)\t-5.0\n"
     ]
    }
   ],
   "source": [
    "print(f)\n",
    "# affichage de la matrice en format compressé\n",
    "# (num de obs, num de la var) et valeur variable\n"
   ]
  },
  {
   "cell_type": "code",
   "execution_count": 10,
   "metadata": {},
   "outputs": [
    {
     "name": "stdout",
     "output_type": "stream",
     "text": [
      "[[ 0.  0. -4. -1.  0.  0.  0.  0.  0.  2.]\n",
      " [ 0.  0.  0. -2. -5.  0.  0.  0.  0.  0.]]\n"
     ]
    }
   ],
   "source": [
    "# affichage en matrice (non compressé)\n",
    "MATRICE_CREUSE=f.toarray()\n",
    "\n",
    "# Voici une matrice creuse\n",
    "print(MATRICE_CREUSE)"
   ]
  },
  {
   "cell_type": "code",
   "execution_count": 12,
   "metadata": {},
   "outputs": [
    {
     "name": "stdout",
     "output_type": "stream",
     "text": [
      "  (0, 2)\t-4.0\n",
      "  (0, 3)\t-1.0\n",
      "  (0, 9)\t2.0\n",
      "  (1, 3)\t-2.0\n",
      "  (1, 4)\t-5.0\n"
     ]
    }
   ],
   "source": [
    "\n",
    "# représentation en mode compressé (SPARSE)\n",
    "from scipy import sparse\n",
    "print(sparse.csr_matrix(MATRICE_CREUSE))\n"
   ]
  }
 ],
 "metadata": {
  "kernelspec": {
   "display_name": "Python 3",
   "language": "python",
   "name": "python3"
  },
  "language_info": {
   "codemirror_mode": {
    "name": "ipython",
    "version": 3
   },
   "file_extension": ".py",
   "mimetype": "text/x-python",
   "name": "python",
   "nbconvert_exporter": "python",
   "pygments_lexer": "ipython3",
   "version": "3.7.0"
  }
 },
 "nbformat": 4,
 "nbformat_minor": 2
}
