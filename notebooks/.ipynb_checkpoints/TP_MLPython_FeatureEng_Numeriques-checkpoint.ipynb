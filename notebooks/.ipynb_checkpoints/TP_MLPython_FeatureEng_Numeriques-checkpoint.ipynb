{
 "cells": [
  {
   "cell_type": "markdown",
   "metadata": {},
   "source": [
    "# FEATURE ENGINEERING SUR LES VARIABLES NUMERIQUES"
   ]
  },
  {
   "cell_type": "code",
   "execution_count": 2,
   "metadata": {},
   "outputs": [],
   "source": [
    "#############################################################################################\n",
    "# Init on charge les données preparees\n",
    "#############################################################################################\n",
    "\n",
    "import pandas as pd\n",
    "import numpy as np\n",
    "#import module_lift as mdl\n",
    "import os\n",
    "repertoire = \"/home/jupyter/EF-form-py-ML/data\"\n",
    "os.chdir(repertoire)\n",
    "import pickle\n",
    "file=open(\"churn_prepared.pydata\",\"rb\")\n",
    "churn_df=pickle.load(file)\n",
    "file.close()"
   ]
  },
  {
   "cell_type": "markdown",
   "metadata": {},
   "source": [
    "## Transformation en quantiles pour supprimer de la variance"
   ]
  },
  {
   "cell_type": "code",
   "execution_count": 3,
   "metadata": {},
   "outputs": [
    {
     "data": {
      "text/html": [
       "<div>\n",
       "<style scoped>\n",
       "    .dataframe tbody tr th:only-of-type {\n",
       "        vertical-align: middle;\n",
       "    }\n",
       "\n",
       "    .dataframe tbody tr th {\n",
       "        vertical-align: top;\n",
       "    }\n",
       "\n",
       "    .dataframe thead th {\n",
       "        text-align: right;\n",
       "    }\n",
       "</style>\n",
       "<table border=\"1\" class=\"dataframe\">\n",
       "  <thead>\n",
       "    <tr style=\"text-align: right;\">\n",
       "      <th>col_0</th>\n",
       "      <th>count</th>\n",
       "    </tr>\n",
       "    <tr>\n",
       "      <th>decile_eve_calls</th>\n",
       "      <th></th>\n",
       "    </tr>\n",
       "  </thead>\n",
       "  <tbody>\n",
       "    <tr>\n",
       "      <th>0</th>\n",
       "      <td>0.105311</td>\n",
       "    </tr>\n",
       "    <tr>\n",
       "      <th>1</th>\n",
       "      <td>0.106811</td>\n",
       "    </tr>\n",
       "    <tr>\n",
       "      <th>2</th>\n",
       "      <td>0.104110</td>\n",
       "    </tr>\n",
       "    <tr>\n",
       "      <th>3</th>\n",
       "      <td>0.091809</td>\n",
       "    </tr>\n",
       "    <tr>\n",
       "      <th>4</th>\n",
       "      <td>0.093909</td>\n",
       "    </tr>\n",
       "    <tr>\n",
       "      <th>5</th>\n",
       "      <td>0.102610</td>\n",
       "    </tr>\n",
       "    <tr>\n",
       "      <th>6</th>\n",
       "      <td>0.112211</td>\n",
       "    </tr>\n",
       "    <tr>\n",
       "      <th>7</th>\n",
       "      <td>0.096910</td>\n",
       "    </tr>\n",
       "    <tr>\n",
       "      <th>8</th>\n",
       "      <td>0.088809</td>\n",
       "    </tr>\n",
       "    <tr>\n",
       "      <th>9</th>\n",
       "      <td>0.097510</td>\n",
       "    </tr>\n",
       "  </tbody>\n",
       "</table>\n",
       "</div>"
      ],
      "text/plain": [
       "col_0                count\n",
       "decile_eve_calls          \n",
       "0                 0.105311\n",
       "1                 0.106811\n",
       "2                 0.104110\n",
       "3                 0.091809\n",
       "4                 0.093909\n",
       "5                 0.102610\n",
       "6                 0.112211\n",
       "7                 0.096910\n",
       "8                 0.088809\n",
       "9                 0.097510"
      ]
     },
     "execution_count": 3,
     "metadata": {},
     "output_type": "execute_result"
    }
   ],
   "source": [
    "# On divise en déciles d'abord avec labels = None pour voir les bornes des déciles\n",
    "churn_df['decile_eve_calls']=pd.qcut(churn_df['Eve Calls'],10, labels=None)\n",
    "pd.crosstab(churn_df['decile_eve_calls'], columns = 'count', normalize=True)\n",
    "# labels = false permet de créer une variable en rang de 0 à 9 qui peut etre donc accepté par un modèle\n",
    "churn_df['decile_eve_calls']=pd.qcut(churn_df['Eve Calls'],10, labels=False)\n",
    "pd.crosstab(churn_df['decile_eve_calls'], columns = 'count', normalize=True)"
   ]
  },
  {
   "cell_type": "code",
   "execution_count": 4,
   "metadata": {},
   "outputs": [
    {
     "name": "stdout",
     "output_type": "stream",
     "text": [
      "col_0                             count\n",
      "quantile_CustServ_Calls                \n",
      "(-1.1889999999999998, -0.428]  0.563456\n",
      "(-0.428, 0.332]                0.227723\n",
      "(0.332, 1.093]                 0.128713\n",
      "(1.093, 5.654]                 0.080108\n",
      "col_0                       count\n",
      "quantile_CustServ_Calls          \n",
      "0                        0.563456\n",
      "1                        0.227723\n",
      "2                        0.128713\n",
      "3                        0.049805\n",
      "4                        0.030303\n"
     ]
    }
   ],
   "source": [
    "# Quand on fait les quantiles, il y a des duplicates bcp 0 donc mettre l'option duplicates='drop'\n",
    "churn_df['quantile_CustServ_Calls']=pd.qcut(churn_df['CustServ Calls'],10, labels=None,duplicates='drop')\n",
    "print(pd.crosstab(churn_df['quantile_CustServ_Calls'], columns = 'count', normalize=True))\n",
    "# labels = false permet de créer une variable en rang de 0 à 9 qui peut etre donc accepté par un modèle\n",
    "# on met 15 pour créer une classe supplémentaire\n",
    "churn_df['quantile_CustServ_Calls']=pd.qcut(churn_df['CustServ Calls'],15, labels=False,duplicates='drop')\n",
    "print(pd.crosstab(churn_df['quantile_CustServ_Calls'], columns = 'count', normalize=True))"
   ]
  },
  {
   "cell_type": "code",
   "execution_count": 5,
   "metadata": {},
   "outputs": [
    {
     "name": "stdout",
     "output_type": "stream",
     "text": [
      "col_0                      count\n",
      "quantile_VMail_Message          \n",
      "(-0.593, 0.87]          0.756076\n",
      "(0.87, 1.235]           0.052505\n",
      "(1.235, 1.527]          0.056706\n",
      "(1.527, 1.746]          0.043504\n",
      "(1.746, 2.039]          0.042304\n",
      "(2.039, 3.135]          0.048905\n",
      "col_0                      count\n",
      "quantile_VMail_Message          \n",
      "0                       0.756076\n",
      "1                       0.052505\n",
      "2                       0.056706\n",
      "3                       0.043504\n",
      "4                       0.042304\n",
      "5                       0.048905\n"
     ]
    }
   ],
   "source": [
    "# Quand on fait les quantiles, il y a des duplicates car 75% de 0 donc mettre l'option duplicates='drop'\n",
    "churn_df['quantile_VMail_Message']=pd.qcut(churn_df['VMail Message'],20, labels=None,duplicates='drop')\n",
    "print(pd.crosstab(churn_df['quantile_VMail_Message'], columns = 'count', normalize=True))\n",
    "churn_df['quantile_VMail_Message']=pd.qcut(churn_df['VMail Message'],20, labels=False,duplicates='drop')\n",
    "print(pd.crosstab(churn_df['quantile_VMail_Message'], columns = 'count', normalize=True))\n"
   ]
  },
  {
   "cell_type": "code",
   "execution_count": 6,
   "metadata": {},
   "outputs": [
    {
     "name": "stdout",
     "output_type": "stream",
     "text": [
      "col_0                             count\n",
      "quantile_CustServ_Calls                \n",
      "(-1.1889999999999998, -0.428]  0.563456\n",
      "(-0.428, 0.332]                0.227723\n",
      "(0.332, 1.093]                 0.128713\n",
      "(1.093, 5.654]                 0.080108\n",
      "col_0                       count\n",
      "quantile_CustServ_Calls          \n",
      "0                        0.563456\n",
      "1                        0.227723\n",
      "2                        0.128713\n",
      "3                        0.049805\n",
      "4                        0.030303\n"
     ]
    }
   ],
   "source": [
    "\n",
    "# Quand on fait les quantiles, il y a des duplicates bcp 0 donc mettre l'option duplicates='drop'\n",
    "churn_df['quantile_CustServ_Calls']=pd.qcut(churn_df['CustServ Calls'],10, labels=None,duplicates='drop')\n",
    "print(pd.crosstab(churn_df['quantile_CustServ_Calls'], columns = 'count', normalize=True))\n",
    "churn_df['quantile_CustServ_Calls']=pd.qcut(churn_df['CustServ Calls'],15, labels=False,duplicates='drop')\n",
    "print(pd.crosstab(churn_df['quantile_CustServ_Calls'], columns = 'count', normalize=True))"
   ]
  },
  {
   "cell_type": "markdown",
   "metadata": {},
   "source": [
    "##On peut aussi calculer de nouveaux indicateurs comme la part des appels à l'international"
   ]
  },
  {
   "cell_type": "code",
   "execution_count": 8,
   "metadata": {},
   "outputs": [],
   "source": [
    "# en minutes\n",
    "churn_df['ratio_Intl_mins']=churn_df['Intl Mins']/(churn_df['Day Mins']+churn_df['Eve Mins']+churn_df['Night Mins'])\n",
    "# en charge\n",
    "churn_df['ratio_Intl_charge']=churn_df['Intl Charge']/(churn_df['Day Charge']+churn_df['Eve Charge']+churn_df['Night Charge'])"
   ]
  },
  {
   "cell_type": "code",
   "execution_count": 10,
   "metadata": {},
   "outputs": [
    {
     "name": "stdout",
     "output_type": "stream",
     "text": [
      "col_0                            count\n",
      "ratio_Intl_mins                       \n",
      "(-3630.3140000000003, -1.774]  0.10021\n",
      "(-1.774, -0.76]                0.09991\n",
      "(-0.76, -0.398]                0.09991\n",
      "(-0.398, -0.193]               0.09991\n",
      "(-0.193, -0.0164]              0.10021\n",
      "(-0.0164, 0.167]               0.09991\n",
      "(0.167, 0.403]                 0.09991\n",
      "(0.403, 0.782]                 0.09991\n",
      "(0.782, 1.817]                 0.09991\n",
      "(1.817, 183.75]                0.10021\n",
      "col_0                count\n",
      "ratio_Intl_charge         \n",
      "(-511.52, -1.773]  0.10021\n",
      "(-1.773, -0.761]   0.09991\n",
      "(-0.761, -0.396]   0.09991\n",
      "(-0.396, -0.192]   0.09991\n",
      "(-0.192, -0.0182]  0.10021\n",
      "(-0.0182, 0.167]   0.09991\n",
      "(0.167, 0.404]     0.09991\n",
      "(0.404, 0.786]     0.09991\n",
      "(0.786, 1.81]      0.09991\n",
      "(1.81, 287.278]    0.10021\n"
     ]
    }
   ],
   "source": [
    "# analyse de la distrib\n",
    "print(pd.crosstab(pd.qcut(churn_df['ratio_Intl_mins'],10, labels=None,duplicates='drop'), columns = 'count', normalize=True))\n",
    "print(pd.crosstab(pd.qcut(churn_df['ratio_Intl_charge'],10, labels=None,duplicates='drop'), columns = 'count', normalize=True))"
   ]
  },
  {
   "cell_type": "code",
   "execution_count": null,
   "metadata": {},
   "outputs": [],
   "source": []
  }
 ],
 "metadata": {
  "environment": {
   "name": "tf2-gpu.2-1.m46",
   "type": "gcloud",
   "uri": "gcr.io/deeplearning-platform-release/tf2-gpu.2-1:m46"
  },
  "kernelspec": {
   "display_name": "Python 3",
   "language": "python",
   "name": "python3"
  },
  "language_info": {
   "codemirror_mode": {
    "name": "ipython",
    "version": 3
   },
   "file_extension": ".py",
   "mimetype": "text/x-python",
   "name": "python",
   "nbconvert_exporter": "python",
   "pygments_lexer": "ipython3",
   "version": "3.7.6"
  }
 },
 "nbformat": 4,
 "nbformat_minor": 4
}
