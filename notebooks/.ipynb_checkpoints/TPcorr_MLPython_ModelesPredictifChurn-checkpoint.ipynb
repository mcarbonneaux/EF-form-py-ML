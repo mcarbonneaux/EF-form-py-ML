{
 "cells": [
  {
   "cell_type": "markdown",
   "metadata": {},
   "source": [
    "# TP MODELISATION DU CHURN"
   ]
  },
  {
   "cell_type": "markdown",
   "metadata": {},
   "source": [
    "### Rechargement des données préparées"
   ]
  },
  {
   "cell_type": "code",
   "execution_count": 1,
   "metadata": {},
   "outputs": [],
   "source": [
    "import os\n",
    "repertoire = \"/home/jupyter/EF-form-py-ML/data\"\n",
    "os.chdir(repertoire)\n",
    "import pickle\n",
    "file=open(\"churn_prepared.pydata\",\"rb\")\n",
    "Xy=pickle.load(file)\n",
    "file.close()"
   ]
  },
  {
   "cell_type": "code",
   "execution_count": 2,
   "metadata": {},
   "outputs": [
    {
     "data": {
      "text/plain": [
       "churnMoy_state    float64\n",
       "Account Length    float64\n",
       "Int'l Plan        float64\n",
       "VMail Plan        float64\n",
       "VMail Message     float64\n",
       "Day Mins          float64\n",
       "Day Calls         float64\n",
       "Day Charge        float64\n",
       "Eve Mins          float64\n",
       "Eve Calls         float64\n",
       "Eve Charge        float64\n",
       "Night Mins        float64\n",
       "Night Calls       float64\n",
       "Night Charge      float64\n",
       "Intl Mins         float64\n",
       "Intl Calls        float64\n",
       "Intl Charge       float64\n",
       "CustServ Calls    float64\n",
       "area__415         float64\n",
       "area__510         float64\n",
       "Churn?               bool\n",
       "dtype: object"
      ]
     },
     "execution_count": 2,
     "metadata": {},
     "output_type": "execute_result"
    }
   ],
   "source": [
    "Xy.dtypes"
   ]
  },
  {
   "cell_type": "code",
   "execution_count": 3,
   "metadata": {},
   "outputs": [],
   "source": [
    "# Créer un X et un y\n",
    "X=Xy.drop('Churn?',axis=1)\n",
    "y=Xy['Churn?']"
   ]
  },
  {
   "cell_type": "code",
   "execution_count": 4,
   "metadata": {},
   "outputs": [],
   "source": [
    "# Partition Train / Test\n",
    "# split Apprentissage Test\n",
    "from sklearn.model_selection import train_test_split \n",
    "X_train, X_test, y_train, y_test = train_test_split(X,y, test_size=0.4,random_state=123)"
   ]
  },
  {
   "cell_type": "code",
   "execution_count": 5,
   "metadata": {},
   "outputs": [
    {
     "data": {
      "text/plain": [
       "['/home/jupyter/EF-form-py-ML/notebooks',\n",
       " '/opt/conda/lib/python37.zip',\n",
       " '/opt/conda/lib/python3.7',\n",
       " '/opt/conda/lib/python3.7/lib-dynload',\n",
       " '',\n",
       " '/opt/conda/lib/python3.7/site-packages',\n",
       " '/opt/conda/lib/python3.7/site-packages/IPython/extensions',\n",
       " '/home/jupyter/.ipython',\n",
       " '/home/jupyter/EF-form-py-ML/modules']"
      ]
     },
     "execution_count": 5,
     "metadata": {},
     "output_type": "execute_result"
    }
   ],
   "source": [
    "import sys\n",
    "sys.path.append(\"/home/jupyter/EF-form-py-ML/modules\")\n",
    "sys.path"
   ]
  },
  {
   "cell_type": "code",
   "execution_count": 6,
   "metadata": {},
   "outputs": [],
   "source": [
    "from fonctions_metrics import lift"
   ]
  },
  {
   "cell_type": "markdown",
   "metadata": {},
   "source": [
    "### Charger les librairies"
   ]
  },
  {
   "cell_type": "code",
   "execution_count": 7,
   "metadata": {},
   "outputs": [],
   "source": [
    "\n",
    "\n",
    "import pandas as pd\n",
    "import numpy as np\n",
    "from sklearn.ensemble import RandomForestClassifier\n",
    "\n",
    "from sklearn.metrics import roc_auc_score\n",
    "from sklearn.model_selection import GridSearchCV\n",
    "from sklearn.linear_model import LogisticRegression\n",
    "\n",
    "from sklearn.metrics import classification_report,confusion_matrix,accuracy_score,f1_score,roc_auc_score,roc_curve,auc\n",
    "\n",
    "import matplotlib.pyplot as plt"
   ]
  },
  {
   "cell_type": "markdown",
   "metadata": {},
   "source": [
    "### PARAMETRER LE MODELE REG PENALISEE\n",
    "Choisir ridge (L2) ou lasso (L1) ou elasticnet, avec la classe LogisticRegression\n",
    "Définir une grille d'hyper param pour C\n",
    "et utliser GridSearchCV pour la balayer"
   ]
  },
  {
   "cell_type": "code",
   "execution_count": 8,
   "metadata": {},
   "outputs": [],
   "source": [
    "## Regression logistique avec pénalité lasso et grid search\n",
    "#### on cherche par CV le meilleur C (1/alpha) le coef de regularisation"
   ]
  },
  {
   "cell_type": "code",
   "execution_count": 9,
   "metadata": {},
   "outputs": [
    {
     "data": {
      "text/plain": [
       "{'C': 0.05}"
      ]
     },
     "execution_count": 9,
     "metadata": {},
     "output_type": "execute_result"
    }
   ],
   "source": [
    "param = [{\"C\":(0.001,0.01,0.05,0.1,0.2,0.3,0.4)}]\n",
    "modeleLassoCV = GridSearchCV (LogisticRegression(penalty = \"l1\",solver='liblinear'), param, cv = 4,n_jobs=1,scoring='roc_auc')\n",
    "#logit = GridSearchCV (LogisticRegression(penalty = \"l1\",class_weight='balanced'), param, cv = 4,n_jobs=4,scoring='f1')\n",
    "modeleLassoCV = modeleLassoCV.fit(X_train,y_train)\n",
    "# CV = 4 , validation croisée en scindant l'app en 4 (folds)\n",
    "# meilleure grille\n",
    "modeleLassoCV.best_params_"
   ]
  },
  {
   "cell_type": "code",
   "execution_count": 10,
   "metadata": {},
   "outputs": [],
   "source": [
    "# design du modele et app\n",
    "model_LogitL1 =LogisticRegression( penalty = \"l1\",C=0.05,solver='liblinear').fit(X_train,y_train)"
   ]
  },
  {
   "cell_type": "code",
   "execution_count": 11,
   "metadata": {},
   "outputs": [
    {
     "data": {
      "text/plain": [
       "20"
      ]
     },
     "execution_count": 11,
     "metadata": {},
     "output_type": "execute_result"
    }
   ],
   "source": [
    "# récupérer les coef\n",
    "coef=list(model_LogitL1.coef_[0]) # c un array2d, \n",
    "len(coef) # il y a 20 "
   ]
  },
  {
   "cell_type": "code",
   "execution_count": 12,
   "metadata": {},
   "outputs": [
    {
     "name": "stdout",
     "output_type": "stream",
     "text": [
      "                Coefficients\n",
      "churnMoy_state      0.176749\n",
      "Account Length      0.000000\n",
      "Int'l Plan          0.462746\n",
      "VMail Plan         -0.230200\n",
      "VMail Message       0.000000\n",
      "Day Mins            0.228590\n",
      "Day Calls           0.000000\n",
      "Day Charge          0.282681\n",
      "Eve Mins            0.043384\n",
      "Eve Calls           0.000000\n",
      "Eve Charge          0.183522\n",
      "Night Mins          0.000000\n",
      "Night Calls         0.000000\n",
      "Night Charge        0.000000\n",
      "Intl Mins           0.000000\n",
      "Intl Calls         -0.105608\n",
      "Intl Charge         0.097884\n",
      "CustServ Calls      0.473114\n",
      "area__415           0.000000\n",
      "area__510           0.000000\n"
     ]
    }
   ],
   "source": [
    "print(pd.DataFrame({'Coefficients': list(model_LogitL1.coef_[0])}, list(X.columns.values)))"
   ]
  },
  {
   "cell_type": "code",
   "execution_count": 13,
   "metadata": {},
   "outputs": [
    {
     "name": "stdout",
     "output_type": "stream",
     "text": [
      "10\n"
     ]
    }
   ],
   "source": [
    "# combien d'élemnts non nuls ?\n",
    "feature_0= list(map(lambda x: x==0.0, coef)) #print(feature_0)\n",
    "print(feature_0.count(True)) # 6\n",
    "del feature_0\n",
    "\n",
    "# PLus on baisse C, plus de colonnes s'annulent (0)\n",
    "# print(pd.DataFrame({'Coefficients': list(model_LogitL1.coef_[0])}, list(X.columns.values)))"
   ]
  },
  {
   "cell_type": "code",
   "execution_count": 14,
   "metadata": {},
   "outputs": [],
   "source": [
    "# Prediction des probabilités de 1 avec    model_LogitL1.predict_proba(X)\n",
    "probas_train=modeleLassoCV.predict_proba(X_train)[:,1]\n",
    "probas_test=modeleLassoCV.predict_proba(X_test)[:,1]"
   ]
  },
  {
   "cell_type": "code",
   "execution_count": 15,
   "metadata": {},
   "outputs": [
    {
     "data": {
      "text/plain": [
       "0.8524262131065533"
      ]
     },
     "execution_count": 15,
     "metadata": {},
     "output_type": "execute_result"
    }
   ],
   "source": [
    "# score: accuracy taux de bien classé global au cutoff de 0.5\n",
    "model_LogitL1.score(X_test, y_test)\n",
    "model_LogitL1.score(X_train,y_train)"
   ]
  },
  {
   "cell_type": "code",
   "execution_count": 16,
   "metadata": {},
   "outputs": [
    {
     "name": "stdout",
     "output_type": "stream",
     "text": [
      "0.8160043281526658 0.8444328922495273\n"
     ]
    }
   ],
   "source": [
    "#AUC\n",
    "print(roc_auc_score(y_train,probas_train),roc_auc_score(y_test,probas_test))"
   ]
  },
  {
   "cell_type": "code",
   "execution_count": 17,
   "metadata": {},
   "outputs": [
    {
     "name": "stdout",
     "output_type": "stream",
     "text": [
      "lift at 10 percent : 3.31\n",
      "lift at 10 percent : 4.18\n",
      "3.31 4.18\n"
     ]
    }
   ],
   "source": [
    "from fonctions_metrics import lift\n",
    "#compute lift at 10%#\n",
    "print(lift(probas_train,X_train,y_train),lift(probas_test,X_test,y_test))"
   ]
  },
  {
   "cell_type": "code",
   "execution_count": 18,
   "metadata": {},
   "outputs": [
    {
     "name": "stdout",
     "output_type": "stream",
     "text": [
      "lift at 5 percent : 3.55\n",
      "lift at 5 percent : 4.67\n"
     ]
    },
    {
     "data": {
      "text/plain": [
       "4.67"
      ]
     },
     "execution_count": 18,
     "metadata": {},
     "output_type": "execute_result"
    }
   ],
   "source": [
    "#compute lift at 5%\n",
    "lift(probas_train,X_train,y_train,p=5)\n",
    "lift(probas_test,X_test,y_test,p=5)"
   ]
  },
  {
   "cell_type": "code",
   "execution_count": 19,
   "metadata": {},
   "outputs": [
    {
     "name": "stdout",
     "output_type": "stream",
     "text": [
      "lift at 5 percent : 4.67\n",
      "lift at 10 percent : 4.18\n"
     ]
    }
   ],
   "source": [
    "# ENR LES RESULTATS DANS UN DICTIONNAIRE POUR POUVOIR COMPARER\n",
    "model='Score Lasso'\n",
    "# métriques (liste de dictionnaires)\n",
    "metriques = [{'model':model,'AUC_test':round(roc_auc_score(y_test,probas_test),2),'lift at 5':lift(probas_test,X_test,y_test,p=5),'lift at 10':lift(probas_test,X_test,y_test,p=10)}]\n"
   ]
  },
  {
   "cell_type": "code",
   "execution_count": 20,
   "metadata": {},
   "outputs": [
    {
     "name": "stdout",
     "output_type": "stream",
     "text": [
      "[[796 354]\n",
      " [ 29 155]]\n"
     ]
    }
   ],
   "source": [
    "# mat de confusion à un cutoff donné\n",
    "pred = (probas_test > 0.14).astype(int)\n",
    "print(confusion_matrix(y_test, pred))"
   ]
  },
  {
   "cell_type": "code",
   "execution_count": 21,
   "metadata": {},
   "outputs": [
    {
     "name": "stdout",
     "output_type": "stream",
     "text": [
      "col_0          0         1\n",
      "Churn?                    \n",
      "False   0.692174  0.307826\n",
      "True    0.157609  0.842391\n",
      "col_0          0         1\n",
      "Churn?                    \n",
      "False   0.964848  0.695481\n",
      "True    0.035152  0.304519\n"
     ]
    }
   ],
   "source": [
    "# parmi les vrais 1 82% sont bien prédits\n",
    "print(pd.crosstab(y_test,pred).apply(lambda r: r/r.sum(), axis=1))\n",
    "# parmi les predits 1 34% sont des vrais positifs\n",
    "print(pd.crosstab(y_test,pred).apply(lambda r: r/r.sum(), axis=0))"
   ]
  },
  {
   "cell_type": "code",
   "execution_count": 22,
   "metadata": {},
   "outputs": [
    {
     "name": "stdout",
     "output_type": "stream",
     "text": [
      "              precision    recall  f1-score   support\n",
      "\n",
      "     Fidèles       0.96      0.69      0.81      1150\n",
      "    Churners       0.30      0.84      0.45       184\n",
      "\n",
      "    accuracy                           0.71      1334\n",
      "   macro avg       0.63      0.77      0.63      1334\n",
      "weighted avg       0.87      0.71      0.76      1334\n",
      "\n",
      "              precision    recall  f1-score   support\n",
      "\n",
      "     Fidèles       0.88      0.99      0.93      1150\n",
      "    Churners       0.68      0.17      0.28       184\n",
      "\n",
      "    accuracy                           0.87      1334\n",
      "   macro avg       0.78      0.58      0.60      1334\n",
      "weighted avg       0.85      0.87      0.84      1334\n",
      "\n"
     ]
    }
   ],
   "source": [
    "\n",
    "\n",
    "target_names = ['Fidèles','Churners']\n",
    "\n",
    "# métriques au cutoff donné\n",
    "print(classification_report(y_test,pred, target_names=target_names))\n",
    "# métriques au cutoff par défaut\n",
    "print(classification_report(y_test,model_LogitL1.predict(X_test), target_names=target_names))"
   ]
  },
  {
   "cell_type": "markdown",
   "metadata": {},
   "source": [
    "### PARAMETRER LE MODELE REG PENALISEE ELASTICNET"
   ]
  },
  {
   "cell_type": "code",
   "execution_count": 23,
   "metadata": {},
   "outputs": [
    {
     "data": {
      "text/plain": [
       "{'alpha': 0.025}"
      ]
     },
     "execution_count": 23,
     "metadata": {},
     "output_type": "execute_result"
    }
   ],
   "source": [
    "#### Régression logistique elastic net : SGDClassifier : loss = log --> logistique\n",
    "#### penalty = \"elasticnet\"\n",
    "#### alpha entre 1 et 1000 , et l1_ratio entre 0 et 1\n",
    "from sklearn.linear_model import SGDClassifier\n",
    "#Defaults to ‘hinge’, which gives a linear SVM. The ‘log’ loss gives logistic regression, a probabilistic classifier. \n",
    "#l1_ratio : float\n",
    "#The Elastic Net mixing parameter, with 0 <= l1_ratio <= 1. l1_ratio=0 corresponds to L2 penalty, l1_ratio=1 to L1. Defaults to 0.15\n",
    "\n",
    "param = [{\"alpha\":(0.001,0.01,0.025,0.05,0.1,0.2)} ]\n",
    "sgdElasticAUCnow = GridSearchCV (SGDClassifier(loss=\"log\", penalty=\"elasticnet\",l1_ratio=0.25,class_weight=None), param, cv = 4,n_jobs=4,scoring='roc_auc')\n",
    "\n",
    "cvelasticnet = sgdElasticAUCnow.fit(X_train,y_train)\n",
    "cvelasticnet.best_params_\n",
    "\n"
   ]
  },
  {
   "cell_type": "code",
   "execution_count": 24,
   "metadata": {},
   "outputs": [
    {
     "data": {
      "text/plain": [
       "array([[ 0.13283772,  0.        ,  0.37506285, -0.15168568,  0.        ,\n",
       "         0.21190102,  0.        ,  0.211965  ,  0.08414613,  0.        ,\n",
       "         0.08443408,  0.        ,  0.        ,  0.        ,  0.03917321,\n",
       "        -0.06107491,  0.03963014,  0.35677098,  0.        ,  0.        ]])"
      ]
     },
     "execution_count": 24,
     "metadata": {},
     "output_type": "execute_result"
    }
   ],
   "source": [
    "elasticnet = SGDClassifier(loss=\"log\", penalty=\"elasticnet\", alpha=0.05,l1_ratio=0.25,class_weight=None)\n",
    "# Apprentissage du modele\n",
    "elasticnet.fit(X_train,y_train)\n",
    "elasticnet.coef_\n",
    "  #compute lift at 10%#"
   ]
  },
  {
   "cell_type": "markdown",
   "metadata": {},
   "source": [
    "### Analyser les résultats et les performances\n"
   ]
  },
  {
   "cell_type": "code",
   "execution_count": null,
   "metadata": {},
   "outputs": [],
   "source": []
  },
  {
   "cell_type": "code",
   "execution_count": null,
   "metadata": {},
   "outputs": [],
   "source": []
  },
  {
   "cell_type": "code",
   "execution_count": null,
   "metadata": {},
   "outputs": [],
   "source": []
  },
  {
   "cell_type": "code",
   "execution_count": null,
   "metadata": {},
   "outputs": [],
   "source": []
  },
  {
   "cell_type": "code",
   "execution_count": null,
   "metadata": {},
   "outputs": [],
   "source": []
  },
  {
   "cell_type": "markdown",
   "metadata": {},
   "source": [
    "### PARAMETRER LE MODELE RANDOMFOREST\n",
    "Tester un modle light peu profond et un modele complexe"
   ]
  },
  {
   "cell_type": "code",
   "execution_count": null,
   "metadata": {},
   "outputs": [],
   "source": [
    "# exemple randomforest\n",
    "rf_light = RandomForestClassifier(n_estimators = 100,\n",
    "                            criterion = \"gini\",\n",
    "                                       max_features = ,\n",
    "                                       max_depth = ,\n",
    "                                       min_samples_leaf = ,                                       \n",
    "                                       bootstrap = True,\n",
    "                                       n_jobs = -1, # coeurs\n",
    "                                       random_state = 1234,\n",
    "                                       class_weight=\"balanced\"\n",
    "                                     ) \n",
    "# Apprentissage du modele avec methode fit"
   ]
  },
  {
   "cell_type": "code",
   "execution_count": 28,
   "metadata": {},
   "outputs": [],
   "source": [
    "rf_light = RandomForestClassifier(n_estimators = 100,\n",
    "                                       criterion = \"gini\",\n",
    "                                       max_features = 4,\n",
    "                                       max_depth = 3,\n",
    "                                       min_samples_split = 100,\n",
    "                                       min_samples_leaf = 50,                                                                              \n",
    "                                       bootstrap = True,                                      \n",
    "                                       n_jobs = -1, # coeurs\n",
    "                                       random_state = 1234,\n",
    "                                       class_weight=\"balanced\"\n",
    "                                       )"
   ]
  },
  {
   "cell_type": "code",
   "execution_count": 29,
   "metadata": {},
   "outputs": [],
   "source": [
    "rf_complex = RandomForestClassifier(n_estimators = 100,\n",
    "                                       criterion = \"gini\",\n",
    "                                       max_features = \"sqrt\",\n",
    "                                       max_depth = 7,\n",
    "                                       min_samples_split = 20,\n",
    "                                       min_samples_leaf = 5,                                       \n",
    "                                       max_leaf_nodes = 100,\n",
    "                                       bootstrap = True,                 \n",
    "                                       n_jobs = -1, # coeurs\n",
    "                                       random_state = 1234,\n",
    "                                       class_weight=\"balanced\"\n",
    "                                       )"
   ]
  },
  {
   "cell_type": "code",
   "execution_count": 36,
   "metadata": {},
   "outputs": [],
   "source": [
    "#2**7"
   ]
  },
  {
   "cell_type": "code",
   "execution_count": 30,
   "metadata": {},
   "outputs": [
    {
     "data": {
      "text/plain": [
       "RandomForestClassifier(bootstrap=True, ccp_alpha=0.0, class_weight='balanced',\n",
       "                       criterion='gini', max_depth=7, max_features='sqrt',\n",
       "                       max_leaf_nodes=100, max_samples=None,\n",
       "                       min_impurity_decrease=0.0, min_impurity_split=None,\n",
       "                       min_samples_leaf=5, min_samples_split=20,\n",
       "                       min_weight_fraction_leaf=0.0, n_estimators=100,\n",
       "                       n_jobs=-1, oob_score=False, random_state=1234, verbose=0,\n",
       "                       warm_start=False)"
      ]
     },
     "execution_count": 30,
     "metadata": {},
     "output_type": "execute_result"
    }
   ],
   "source": [
    "# Apprentissage du modele avec methode fit\n",
    "rf_light.fit(X_train,y_train)\n",
    "rf_complex.fit(X_train,y_train)"
   ]
  },
  {
   "cell_type": "markdown",
   "metadata": {},
   "source": [
    "### ANALYSER LES RESULTATS"
   ]
  },
  {
   "cell_type": "code",
   "execution_count": 31,
   "metadata": {},
   "outputs": [
    {
     "data": {
      "text/html": [
       "<div>\n",
       "<style scoped>\n",
       "    .dataframe tbody tr th:only-of-type {\n",
       "        vertical-align: middle;\n",
       "    }\n",
       "\n",
       "    .dataframe tbody tr th {\n",
       "        vertical-align: top;\n",
       "    }\n",
       "\n",
       "    .dataframe thead th {\n",
       "        text-align: right;\n",
       "    }\n",
       "</style>\n",
       "<table border=\"1\" class=\"dataframe\">\n",
       "  <thead>\n",
       "    <tr style=\"text-align: right;\">\n",
       "      <th></th>\n",
       "      <th>Importance</th>\n",
       "    </tr>\n",
       "  </thead>\n",
       "  <tbody>\n",
       "    <tr>\n",
       "      <th>Day Charge</th>\n",
       "      <td>0.230033</td>\n",
       "    </tr>\n",
       "    <tr>\n",
       "      <th>CustServ Calls</th>\n",
       "      <td>0.216743</td>\n",
       "    </tr>\n",
       "    <tr>\n",
       "      <th>Day Mins</th>\n",
       "      <td>0.194572</td>\n",
       "    </tr>\n",
       "    <tr>\n",
       "      <th>Int'l Plan</th>\n",
       "      <td>0.099513</td>\n",
       "    </tr>\n",
       "    <tr>\n",
       "      <th>Eve Charge</th>\n",
       "      <td>0.042728</td>\n",
       "    </tr>\n",
       "    <tr>\n",
       "      <th>Intl Mins</th>\n",
       "      <td>0.031512</td>\n",
       "    </tr>\n",
       "    <tr>\n",
       "      <th>Eve Mins</th>\n",
       "      <td>0.031496</td>\n",
       "    </tr>\n",
       "    <tr>\n",
       "      <th>Intl Charge</th>\n",
       "      <td>0.027673</td>\n",
       "    </tr>\n",
       "    <tr>\n",
       "      <th>churnMoy_state</th>\n",
       "      <td>0.021642</td>\n",
       "    </tr>\n",
       "    <tr>\n",
       "      <th>VMail Message</th>\n",
       "      <td>0.021210</td>\n",
       "    </tr>\n",
       "    <tr>\n",
       "      <th>Night Mins</th>\n",
       "      <td>0.019447</td>\n",
       "    </tr>\n",
       "    <tr>\n",
       "      <th>Intl Calls</th>\n",
       "      <td>0.017347</td>\n",
       "    </tr>\n",
       "    <tr>\n",
       "      <th>Night Charge</th>\n",
       "      <td>0.015000</td>\n",
       "    </tr>\n",
       "    <tr>\n",
       "      <th>VMail Plan</th>\n",
       "      <td>0.014540</td>\n",
       "    </tr>\n",
       "    <tr>\n",
       "      <th>Account Length</th>\n",
       "      <td>0.004934</td>\n",
       "    </tr>\n",
       "    <tr>\n",
       "      <th>Day Calls</th>\n",
       "      <td>0.004728</td>\n",
       "    </tr>\n",
       "    <tr>\n",
       "      <th>Eve Calls</th>\n",
       "      <td>0.003385</td>\n",
       "    </tr>\n",
       "    <tr>\n",
       "      <th>Night Calls</th>\n",
       "      <td>0.002950</td>\n",
       "    </tr>\n",
       "    <tr>\n",
       "      <th>area__415</th>\n",
       "      <td>0.000545</td>\n",
       "    </tr>\n",
       "    <tr>\n",
       "      <th>area__510</th>\n",
       "      <td>0.000000</td>\n",
       "    </tr>\n",
       "  </tbody>\n",
       "</table>\n",
       "</div>"
      ],
      "text/plain": [
       "                Importance\n",
       "Day Charge        0.230033\n",
       "CustServ Calls    0.216743\n",
       "Day Mins          0.194572\n",
       "Int'l Plan        0.099513\n",
       "Eve Charge        0.042728\n",
       "Intl Mins         0.031512\n",
       "Eve Mins          0.031496\n",
       "Intl Charge       0.027673\n",
       "churnMoy_state    0.021642\n",
       "VMail Message     0.021210\n",
       "Night Mins        0.019447\n",
       "Intl Calls        0.017347\n",
       "Night Charge      0.015000\n",
       "VMail Plan        0.014540\n",
       "Account Length    0.004934\n",
       "Day Calls         0.004728\n",
       "Eve Calls         0.003385\n",
       "Night Calls       0.002950\n",
       "area__415         0.000545\n",
       "area__510         0.000000"
      ]
     },
     "execution_count": 31,
     "metadata": {},
     "output_type": "execute_result"
    }
   ],
   "source": [
    "# Importance des variables\n",
    "df=pd.DataFrame(rf_light.feature_importances_,X.columns.values)\n",
    "df.columns=['Importance']\n",
    "df.sort_values(by='Importance',ascending=False)"
   ]
  },
  {
   "cell_type": "code",
   "execution_count": 32,
   "metadata": {},
   "outputs": [
    {
     "data": {
      "text/html": [
       "<div>\n",
       "<style scoped>\n",
       "    .dataframe tbody tr th:only-of-type {\n",
       "        vertical-align: middle;\n",
       "    }\n",
       "\n",
       "    .dataframe tbody tr th {\n",
       "        vertical-align: top;\n",
       "    }\n",
       "\n",
       "    .dataframe thead th {\n",
       "        text-align: right;\n",
       "    }\n",
       "</style>\n",
       "<table border=\"1\" class=\"dataframe\">\n",
       "  <thead>\n",
       "    <tr style=\"text-align: right;\">\n",
       "      <th></th>\n",
       "      <th>Importance</th>\n",
       "    </tr>\n",
       "  </thead>\n",
       "  <tbody>\n",
       "    <tr>\n",
       "      <th>Day Charge</th>\n",
       "      <td>0.172242</td>\n",
       "    </tr>\n",
       "    <tr>\n",
       "      <th>CustServ Calls</th>\n",
       "      <td>0.165173</td>\n",
       "    </tr>\n",
       "    <tr>\n",
       "      <th>Day Mins</th>\n",
       "      <td>0.156498</td>\n",
       "    </tr>\n",
       "    <tr>\n",
       "      <th>Int'l Plan</th>\n",
       "      <td>0.086102</td>\n",
       "    </tr>\n",
       "    <tr>\n",
       "      <th>Eve Mins</th>\n",
       "      <td>0.053227</td>\n",
       "    </tr>\n",
       "    <tr>\n",
       "      <th>Eve Charge</th>\n",
       "      <td>0.049556</td>\n",
       "    </tr>\n",
       "    <tr>\n",
       "      <th>Intl Mins</th>\n",
       "      <td>0.035148</td>\n",
       "    </tr>\n",
       "    <tr>\n",
       "      <th>Intl Calls</th>\n",
       "      <td>0.034233</td>\n",
       "    </tr>\n",
       "    <tr>\n",
       "      <th>VMail Message</th>\n",
       "      <td>0.032324</td>\n",
       "    </tr>\n",
       "    <tr>\n",
       "      <th>Intl Charge</th>\n",
       "      <td>0.032115</td>\n",
       "    </tr>\n",
       "    <tr>\n",
       "      <th>Night Mins</th>\n",
       "      <td>0.027004</td>\n",
       "    </tr>\n",
       "    <tr>\n",
       "      <th>churnMoy_state</th>\n",
       "      <td>0.026416</td>\n",
       "    </tr>\n",
       "    <tr>\n",
       "      <th>VMail Plan</th>\n",
       "      <td>0.025935</td>\n",
       "    </tr>\n",
       "    <tr>\n",
       "      <th>Night Charge</th>\n",
       "      <td>0.024912</td>\n",
       "    </tr>\n",
       "    <tr>\n",
       "      <th>Account Length</th>\n",
       "      <td>0.021062</td>\n",
       "    </tr>\n",
       "    <tr>\n",
       "      <th>Day Calls</th>\n",
       "      <td>0.020784</td>\n",
       "    </tr>\n",
       "    <tr>\n",
       "      <th>Eve Calls</th>\n",
       "      <td>0.017347</td>\n",
       "    </tr>\n",
       "    <tr>\n",
       "      <th>Night Calls</th>\n",
       "      <td>0.015133</td>\n",
       "    </tr>\n",
       "    <tr>\n",
       "      <th>area__415</th>\n",
       "      <td>0.002928</td>\n",
       "    </tr>\n",
       "    <tr>\n",
       "      <th>area__510</th>\n",
       "      <td>0.001859</td>\n",
       "    </tr>\n",
       "  </tbody>\n",
       "</table>\n",
       "</div>"
      ],
      "text/plain": [
       "                Importance\n",
       "Day Charge        0.172242\n",
       "CustServ Calls    0.165173\n",
       "Day Mins          0.156498\n",
       "Int'l Plan        0.086102\n",
       "Eve Mins          0.053227\n",
       "Eve Charge        0.049556\n",
       "Intl Mins         0.035148\n",
       "Intl Calls        0.034233\n",
       "VMail Message     0.032324\n",
       "Intl Charge       0.032115\n",
       "Night Mins        0.027004\n",
       "churnMoy_state    0.026416\n",
       "VMail Plan        0.025935\n",
       "Night Charge      0.024912\n",
       "Account Length    0.021062\n",
       "Day Calls         0.020784\n",
       "Eve Calls         0.017347\n",
       "Night Calls       0.015133\n",
       "area__415         0.002928\n",
       "area__510         0.001859"
      ]
     },
     "execution_count": 32,
     "metadata": {},
     "output_type": "execute_result"
    }
   ],
   "source": [
    "# Importance des variables\n",
    "df=pd.DataFrame(rf_complex.feature_importances_,X.columns.values)\n",
    "df.columns=['Importance']\n",
    "df.sort_values(by='Importance',ascending=False)"
   ]
  },
  {
   "cell_type": "code",
   "execution_count": 33,
   "metadata": {},
   "outputs": [],
   "source": [
    "# Prediction des probabilités de 1 ( array2d ) avec fonction predict_proba\n",
    "probas_train_complex=rf_complex.predict_proba(X_train)[:,1]\n",
    "probas_test_complex=rf_complex.predict_proba(X_test)[:,1]\n",
    "\n",
    "probas_train_light=rf_light.predict_proba(X_train)[:,1]\n",
    "probas_test_light=rf_light.predict_proba(X_test)[:,1]"
   ]
  },
  {
   "cell_type": "code",
   "execution_count": 34,
   "metadata": {},
   "outputs": [
    {
     "name": "stdout",
     "output_type": "stream",
     "text": [
      "rf light 0.8960121975211489 0.8846502835538752\n",
      "rf complex 0.9800472162108991 0.9064839319470701\n"
     ]
    }
   ],
   "source": [
    "#AUC sur train et test avec roc_auc_score\n",
    "\n",
    "print(\"rf light\",roc_auc_score(y_train,probas_train_light),roc_auc_score(y_test,probas_test_light))\n",
    "\n",
    "print(\"rf complex\",roc_auc_score(y_train,probas_train_complex),roc_auc_score(y_test,probas_test_complex))\n"
   ]
  },
  {
   "cell_type": "code",
   "execution_count": 35,
   "metadata": {},
   "outputs": [
    {
     "name": "stdout",
     "output_type": "stream",
     "text": [
      "lift at 10 percent : 4.82\n",
      "lift at 10 percent : 5.11\n",
      "lift at 10 percent : 6.59\n",
      "lift at 10 percent : 6.36\n"
     ]
    },
    {
     "data": {
      "text/plain": [
       "6.36"
      ]
     },
     "execution_count": 35,
     "metadata": {},
     "output_type": "execute_result"
    }
   ],
   "source": [
    "#compute lift at 10%#\n",
    "lift(probas_train_light,X_train,y_train)\n",
    "lift(probas_test_light,X_test,y_test)\n",
    "\n",
    "lift(probas_train_complex,X_train,y_train)\n",
    "lift(probas_test_complex,X_test,y_test)"
   ]
  },
  {
   "cell_type": "code",
   "execution_count": 36,
   "metadata": {},
   "outputs": [
    {
     "name": "stdout",
     "output_type": "stream",
     "text": [
      "lift at 5 percent : 6.69\n",
      "lift at 5 percent : 6.85\n"
     ]
    },
    {
     "data": {
      "text/plain": [
       "6.85"
      ]
     },
     "execution_count": 36,
     "metadata": {},
     "output_type": "execute_result"
    }
   ],
   "source": [
    "\n",
    "#compute lift at 5%\n",
    "lift(probas_train_complex,X_train,y_train,p=5)\n",
    "lift(probas_test_complex,X_test,y_test,p=5)"
   ]
  },
  {
   "cell_type": "code",
   "execution_count": null,
   "metadata": {},
   "outputs": [],
   "source": []
  },
  {
   "cell_type": "code",
   "execution_count": 37,
   "metadata": {},
   "outputs": [
    {
     "name": "stdout",
     "output_type": "stream",
     "text": [
      "lift at 5 percent : 6.09\n",
      "lift at 10 percent : 5.11\n"
     ]
    }
   ],
   "source": [
    "# métriques (liste de dictionnaires)\n",
    "metriques = metriques+[{'model':'rf_light','AUC_test':round(roc_auc_score(y_test,probas_test_light),2),'lift at 5':lift(probas_test_light,X_test,y_test,p=5),'lift at 10':lift(probas_test_light,X_test,y_test,p=10)}]\n",
    "\n",
    "# conclusion  le modele RF est plus predictif mais moins confiance dans sa capacité à etre robuste à moyen terme\n"
   ]
  },
  {
   "cell_type": "code",
   "execution_count": 47,
   "metadata": {},
   "outputs": [
    {
     "data": {
      "text/plain": [
       "[{'model': 'Score Lasso',\n",
       "  'AUC_test': 0.84,\n",
       "  'lift at 5': 4.67,\n",
       "  'lift at 10': 4.18},\n",
       " {'model': 'rf_light',\n",
       "  'AUC_test': 0.88,\n",
       "  'lift at 5': 6.09,\n",
       "  'lift at 10': 5.11}]"
      ]
     },
     "execution_count": 47,
     "metadata": {},
     "output_type": "execute_result"
    }
   ],
   "source": []
  },
  {
   "cell_type": "markdown",
   "metadata": {},
   "source": [
    "### PARAMETRER LE MODELE BOOSTING\n"
   ]
  },
  {
   "cell_type": "code",
   "execution_count": 25,
   "metadata": {},
   "outputs": [],
   "source": [
    "from sklearn.ensemble import GradientBoostingClassifier"
   ]
  },
  {
   "cell_type": "code",
   "execution_count": 39,
   "metadata": {},
   "outputs": [],
   "source": [
    "########### sans randomisation (subsample=1.0 = on prend tt l'échantillon)"
   ]
  },
  {
   "cell_type": "code",
   "execution_count": 47,
   "metadata": {},
   "outputs": [],
   "source": [
    "gbt_noRand05=GradientBoostingClassifier(loss='deviance', learning_rate=0.05,\n",
    "                           n_estimators=500,\n",
    "                           subsample=1, min_samples_split=20, min_samples_leaf=10,\n",
    "                           max_depth=4)"
   ]
  },
  {
   "cell_type": "code",
   "execution_count": 48,
   "metadata": {},
   "outputs": [
    {
     "data": {
      "text/plain": [
       "GradientBoostingClassifier(ccp_alpha=0.0, criterion='friedman_mse', init=None,\n",
       "                           learning_rate=0.05, loss='deviance', max_depth=4,\n",
       "                           max_features=None, max_leaf_nodes=None,\n",
       "                           min_impurity_decrease=0.0, min_impurity_split=None,\n",
       "                           min_samples_leaf=10, min_samples_split=20,\n",
       "                           min_weight_fraction_leaf=0.0, n_estimators=500,\n",
       "                           n_iter_no_change=None, presort='deprecated',\n",
       "                           random_state=None, subsample=1, tol=0.0001,\n",
       "                           validation_fraction=0.1, verbose=0,\n",
       "                           warm_start=False)"
      ]
     },
     "execution_count": 48,
     "metadata": {},
     "output_type": "execute_result"
    }
   ],
   "source": [
    "# Apprentissage du modele\n",
    "gbt_noRand05.fit(X_train,y_train)"
   ]
  },
  {
   "cell_type": "code",
   "execution_count": null,
   "metadata": {},
   "outputs": [],
   "source": [
    "# étude du nb iterations optimal en affichant la fonction de perte sur lech test"
   ]
  },
  {
   "cell_type": "code",
   "execution_count": 49,
   "metadata": {},
   "outputs": [
    {
     "data": {
      "text/plain": [
       "<matplotlib.legend.Legend at 0x7fbf4d718a10>"
      ]
     },
     "execution_count": 49,
     "metadata": {},
     "output_type": "execute_result"
    },
    {
     "data": {
      "image/png": "[encoded data removed]",
      "text/plain": [
       "<Figure size 576x432 with 1 Axes>"
      ]
     },
     "metadata": {
      "needs_background": "light"
     },
     "output_type": "display_data"
    }
   ],
   "source": [
    "niter=500\n",
    "iter = np.arange(niter) + 1\n",
    "test_deviance = np.zeros((niter,), dtype=np.float64)\n",
    "# staged_decision_functio : décision fonction à chaque iteration\n",
    "for i, y_pred in enumerate(gbt_noRand05.staged_decision_function(X_test)):\n",
    "    # clf.loss_ assumes that y_test[i] in {0, 1}\n",
    "    test_deviance[i] = gbt_noRand05.loss_(y_test, y_pred)\n",
    "\n",
    "plt.figure(figsize=(8, 6))\n",
    "# Erreur sur le test (evolution deviance)\n",
    "plt.plot(iter,test_deviance,label='Test',color='darkorange')\n",
    "        # min vers 100 \n",
    "# Erreur sur apprentissage (evolution deviance)\n",
    "plt.plot(iter,gbt_noRand05.train_score_,label='Apprentissage',color='navy')    \n",
    "# Diminution de l'erreur rapport modele precedant (par rapport au oob)\n",
    "#plt.plot(iter,gbt_noRand05.oob_improvement_)\n",
    "plt.legend(loc=\"upper right\", fontsize=12)\n"
   ]
  },
  {
   "cell_type": "code",
   "execution_count": null,
   "metadata": {},
   "outputs": [],
   "source": []
  },
  {
   "cell_type": "code",
   "execution_count": 50,
   "metadata": {},
   "outputs": [
    {
     "name": "stdout",
     "output_type": "stream",
     "text": [
      "lift at 10 percent : 6.69\n",
      "lift at 10 percent : 7.01\n",
      "lift at 5 percent : 7.28\n"
     ]
    },
    {
     "data": {
      "text/plain": [
       "7.28"
      ]
     },
     "execution_count": 50,
     "metadata": {},
     "output_type": "execute_result"
    }
   ],
   "source": [
    "# Prediction des probabilités de 1 , array2d\n",
    "probas_test = gbt_noRand05.predict_proba(X_test)[:,1]\n",
    "probas_train = gbt_noRand05.predict_proba(X_train)[:,1]\n",
    "  #AUC\n",
    "roc_auc_score(y_train,probas_train)\n",
    "# 1\n",
    "roc_auc_score(y_test,probas_test)\n",
    "# AUC 0.91 sur test\n",
    "\n",
    "#compute lift at 10%#\n",
    "lift(probas_train,X_train,y_train)\n",
    "lift(probas_test,X_test,y_test)\n",
    "# x 7.6\n",
    "#compute lift at 5%\n",
    "lift(probas_test,X_test,y_test,p=5)\n",
    "# 10.36"
   ]
  },
  {
   "cell_type": "code",
   "execution_count": 26,
   "metadata": {},
   "outputs": [
    {
     "data": {
      "text/plain": [
       "GradientBoostingClassifier(ccp_alpha=0.0, criterion='friedman_mse', init=None,\n",
       "                           learning_rate=0.05, loss='deviance', max_depth=3,\n",
       "                           max_features='sqrt', max_leaf_nodes=12,\n",
       "                           min_impurity_decrease=0.0, min_impurity_split=None,\n",
       "                           min_samples_leaf=20, min_samples_split=30,\n",
       "                           min_weight_fraction_leaf=0.005, n_estimators=500,\n",
       "                           n_iter_no_change=None, presort='deprecated',\n",
       "                           random_state=None, subsample=0.5, tol=0.0001,\n",
       "                           validation_fraction=0.1, verbose=0,\n",
       "                           warm_start=False)"
      ]
     },
     "execution_count": 26,
     "metadata": {},
     "output_type": "execute_result"
    }
   ],
   "source": [
    "########### algo avec randomisation subsample=0.5 et max_feature = racine(nb variable)\n",
    "###########\n",
    "gbt_Rand=GradientBoostingClassifier(loss='deviance', learning_rate=0.05,\n",
    "                           n_estimators=500,\n",
    "                           subsample=0.5, min_samples_split=30, min_samples_leaf=20,\n",
    "                           min_weight_fraction_leaf=0.005,\n",
    "                           max_depth=3,max_leaf_nodes=12,max_features=\"sqrt\")\n",
    "# Apprentissage du modele\n",
    "gbt_Rand.fit(X_train,y_train)"
   ]
  },
  {
   "cell_type": "code",
   "execution_count": 27,
   "metadata": {},
   "outputs": [],
   "source": [
    "niter=500\n",
    "iter = np.arange(niter) + 1\n",
    "test_deviance = np.zeros((niter,), dtype=np.float64)\n",
    "# staged_decision_functio : décision fonction à chaque iteration\n",
    "for i, y_pred in enumerate(gbt_Rand.staged_decision_function(X_test)):\n",
    "    # clf.loss_ assumes that y_test[i] in {0, 1}\n",
    "    test_deviance[i] = gbt_Rand.loss_(y_test, y_pred)\n",
    "\n",
    "# negative cumulative sum of oob improvements (améliration de l'erreur)\n",
    "#out-of-bag (OOB) estimates can be a useful heuristic to estimate the “optimal” number of boosting iterations. OOB estimates are almost identical to cross-validation estimates but they can be computed on-the-fly without the need for repeated model fitting. OOB estimates are only available for Stochastic Gradient Boosting (i.e. subsample < 1.0), the estimates are derived from the improvement in loss based on the examples not included in the bootstrap sample (the so-called out-of-bag examples). The OOB estimator is a pessimistic estimator of the true test loss, but remains a fairly good approximation for a small number of trees.\n",
    "cumsum = -np.cumsum(gbt_Rand.oob_improvement_)"
   ]
  },
  {
   "cell_type": "code",
   "execution_count": 31,
   "metadata": {},
   "outputs": [
    {
     "data": {
      "text/plain": [
       "[<matplotlib.lines.Line2D at 0x7f8034051d50>]"
      ]
     },
     "execution_count": 31,
     "metadata": {},
     "output_type": "execute_result"
    },
    {
     "data": {
      "image/png": "[encoded data removed]",
      "text/plain": [
       "<Figure size 576x432 with 1 Axes>"
      ]
     },
     "metadata": {
      "needs_background": "light"
     },
     "output_type": "display_data"
    }
   ],
   "source": [
    "plt.figure(figsize=(8, 6))\n",
    "plt.plot(iter,test_deviance,label='Test',color='darkorange')\n",
    "plt.plot(iter,gbt_Rand.train_score_,label='Apprentissage',color='navy')    "
   ]
  },
  {
   "cell_type": "code",
   "execution_count": 32,
   "metadata": {},
   "outputs": [
    {
     "data": {
      "text/plain": [
       "[<matplotlib.lines.Line2D at 0x7f802df92e10>]"
      ]
     },
     "execution_count": 32,
     "metadata": {},
     "output_type": "execute_result"
    },
    {
     "data": {
      "image/png": "[encoded data removed]",
      "text/plain": [
       "<Figure size 576x432 with 1 Axes>"
      ]
     },
     "metadata": {
      "needs_background": "light"
     },
     "output_type": "display_data"
    }
   ],
   "source": [
    "# Erreur mesuré sur les individus out of bag\n",
    "# A chaque itération, on utilise 50% pour entrainer litération (calculer nouveau modèle) du coup les 50% sont pas utilisés sont scorés par le modele\n",
    "# on garde l'erreur\n",
    "plt.figure(figsize=(8, 6))\n",
    "plt.plot(iter,cumsum,label='OOB loss')"
   ]
  },
  {
   "cell_type": "code",
   "execution_count": 30,
   "metadata": {},
   "outputs": [
    {
     "data": {
      "text/plain": [
       "<Figure size 576x432 with 0 Axes>"
      ]
     },
     "execution_count": 30,
     "metadata": {},
     "output_type": "execute_result"
    },
    {
     "data": {
      "text/plain": [
       "<Figure size 576x432 with 0 Axes>"
      ]
     },
     "metadata": {},
     "output_type": "display_data"
    }
   ],
   "source": []
  },
  {
   "cell_type": "code",
   "execution_count": 34,
   "metadata": {},
   "outputs": [
    {
     "data": {
      "text/plain": [
       "[<matplotlib.lines.Line2D at 0x7f80340d55d0>]"
      ]
     },
     "execution_count": 34,
     "metadata": {},
     "output_type": "execute_result"
    },
    {
     "data": {
      "image/png": "[encoded data removed]",
      "text/plain": [
       "<Figure size 576x432 with 1 Axes>"
      ]
     },
     "metadata": {
      "needs_background": "light"
     },
     "output_type": "display_data"
    },
    {
     "data": {
      "image/png": "[encoded data removed]",
      "text/plain": [
       "<Figure size 576x432 with 1 Axes>"
      ]
     },
     "metadata": {
      "needs_background": "light"
     },
     "output_type": "display_data"
    }
   ],
   "source": [
    "plt.figure(figsize=(8, 6))\n",
    "plt.plot(iter,gbt_Rand.oob_improvement_,label='amélioration loss sur OOB')\n",
    "\n",
    "plt.figure(figsize=(8, 6))\n",
    "        # min vers 100 \n",
    "# Erreur sur apprentissage (evolution deviance)\n",
    "plt.plot(iter,gbt_Rand.train_score_,label='Apprentissage',color='navy')    \n"
   ]
  },
  {
   "cell_type": "code",
   "execution_count": null,
   "metadata": {},
   "outputs": [],
   "source": []
  },
  {
   "cell_type": "code",
   "execution_count": 35,
   "metadata": {},
   "outputs": [
    {
     "name": "stdout",
     "output_type": "stream",
     "text": [
      "lift at 10 percent : 6.45\n",
      "lift at 10 percent : 6.2\n",
      "lift at 5 percent : 6.96\n"
     ]
    },
    {
     "data": {
      "text/plain": [
       "6.96"
      ]
     },
     "execution_count": 35,
     "metadata": {},
     "output_type": "execute_result"
    }
   ],
   "source": [
    "       # min vers 100\n",
    "     #   pred_at_eachstage=enumerate(gbt_Rand.staged_predict(X_testCR),100)\n",
    "gbt_Rand=GradientBoostingClassifier(loss='deviance', learning_rate=0.05,\n",
    "                           n_estimators=150,\n",
    "                           subsample=0.5, min_samples_split=30, min_samples_leaf=20,\n",
    "                           min_weight_fraction_leaf=0.005,\n",
    "                           max_depth=3,max_leaf_nodes=12,max_features=\"sqrt\")\n",
    "# Apprentissage du modele\n",
    "gbt_Rand.fit(X_train,y_train)\n",
    "\n",
    "\n",
    "probas_test = gbt_Rand.predict_proba(X_test)[:,1]\n",
    "probas_train = gbt_Rand.predict_proba(X_train)[:,1]\n",
    "  #AUC\n",
    "roc_auc_score(y_train,probas_train)\n",
    "# 0,979\n",
    "roc_auc_score(y_test,probas_test)\n",
    "# AUC 0.89 sur test\n",
    "\n",
    "#compute lift at 10%#\n",
    "lift(probas_train,X_train,y_train)\n",
    "lift(probas_test,X_test,y_test)\n",
    "# x 7.3\n",
    "#compute lift at 5%\n",
    "lift(probas_test,X_test,y_test,p=5)\n",
    "# 9.1"
   ]
  },
  {
   "cell_type": "code",
   "execution_count": null,
   "metadata": {},
   "outputs": [],
   "source": []
  }
 ],
 "metadata": {
  "environment": {
   "name": "tf2-gpu.2-1.m46",
   "type": "gcloud",
   "uri": "gcr.io/deeplearning-platform-release/tf2-gpu.2-1:m46"
  },
  "kernelspec": {
   "display_name": "Python 3",
   "language": "python",
   "name": "python3"
  },
  "language_info": {
   "codemirror_mode": {
    "name": "ipython",
    "version": 3
   },
   "file_extension": ".py",
   "mimetype": "text/x-python",
   "name": "python",
   "nbconvert_exporter": "python",
   "pygments_lexer": "ipython3",
   "version": "3.7.6"
  }
 },
 "nbformat": 4,
 "nbformat_minor": 4
}
