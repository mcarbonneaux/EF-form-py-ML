{
 "cells": [
  {
   "cell_type": "markdown",
   "metadata": {},
   "source": [
    "# TP CLUSTERING DANS UN BUT DE SEGMENTATION"
   ]
  },
  {
   "cell_type": "code",
   "execution_count": 1,
   "metadata": {},
   "outputs": [],
   "source": [
    "import matplotlib.pyplot as plt\n",
    "\n",
    "import pandas as pd\n",
    "import numpy as np\n",
    "import os\n",
    "os.chdir(\"/home/jupyter/EF-form-py-ML/data\")"
   ]
  },
  {
   "cell_type": "markdown",
   "metadata": {},
   "source": [
    "## LES DONNEES\n",
    "https://www.kaggle.com/apratim87/housingdata/version/1#housingdata.csv\n",
    "Housing data\n",
    "\n",
    "Variables in order: \n",
    "\n",
    "#CRIM per capita crime rate by town \n",
    "#ZN proportion of residential land zoned for lots over 25,000 sq.ft. \n",
    "#INDUS proportion of non-retail business acres per town \n",
    "#CHAS Charles River dummy variable (= 1 if tract bounds river; 0 otherwise) \n",
    "#NOX nitric oxides concentration (parts per 10 million) \n",
    "#RM average number of rooms per dwelling \n",
    "#AGE proportion of owner-occupied units built prior to 1940 \n",
    "#DIS weighted distances to five Boston employment centres \n",
    "#RAD index of accessibility to radial highways \n",
    "#TAX full-value property-tax rate per $10,000 \n",
    "#PTRATIO pupil-teacher ratio by town \n",
    "#Blackpop variable corrélée à la  proportion of blacks by town \n",
    "#LSTAT ratio de lower status of the population \n",
    "#MEDV Median value of owner-occupied homes en milliers de dollars\n"
   ]
  },
  {
   "cell_type": "code",
   "execution_count": 3,
   "metadata": {},
   "outputs": [],
   "source": [
    "housing = pd.read_csv('housingdata.csv',header=0,index_col=False,sep=',',\n",
    "names=[\"CRIM\",\"ZN\",\"INDUS\",\"CHAS\",\"NOX\",\"RM\",\"AGE\",\"DIS\",\"RAD\",\"TAX\", \"PTRATIO\",\"BlackPop\",\"LSTAT\",\"MEDV\"])"
   ]
  },
  {
   "cell_type": "code",
   "execution_count": 4,
   "metadata": {},
   "outputs": [
    {
     "name": "stdout",
     "output_type": "stream",
     "text": [
      "<class 'pandas.core.frame.DataFrame'>\n",
      "RangeIndex: 505 entries, 0 to 504\n",
      "Data columns (total 14 columns):\n",
      " #   Column    Non-Null Count  Dtype  \n",
      "---  ------    --------------  -----  \n",
      " 0   CRIM      505 non-null    float64\n",
      " 1   ZN        505 non-null    float64\n",
      " 2   INDUS     505 non-null    float64\n",
      " 3   CHAS      505 non-null    bool   \n",
      " 4   NOX       505 non-null    float64\n",
      " 5   RM        505 non-null    float64\n",
      " 6   AGE       505 non-null    float64\n",
      " 7   DIS       505 non-null    float64\n",
      " 8   RAD       505 non-null    int64  \n",
      " 9   TAX       505 non-null    int64  \n",
      " 10  PTRATIO   505 non-null    float64\n",
      " 11  BlackPop  505 non-null    float64\n",
      " 12  LSTAT     505 non-null    float64\n",
      " 13  MEDV      505 non-null    float64\n",
      "dtypes: bool(1), float64(11), int64(2)\n",
      "memory usage: 51.9 KB\n"
     ]
    },
    {
     "data": {
      "text/plain": [
       "Index(['CRIM', 'ZN', 'INDUS', 'CHAS', 'NOX', 'RM', 'AGE', 'DIS', 'RAD', 'TAX',\n",
       "       'PTRATIO', 'BlackPop', 'LSTAT', 'MEDV'],\n",
       "      dtype='object')"
      ]
     },
     "execution_count": 4,
     "metadata": {},
     "output_type": "execute_result"
    }
   ],
   "source": [
    "housing.CHAS=housing.CHAS.astype(bool)\n",
    "#Housing data\n",
    "housing.dtypes\n",
    "# nb de lignes 3333\n",
    "housing.shape[0]\n",
    "# nb de vars 21\n",
    "housing.shape[1]\n",
    "housing.info()\n",
    "housing.columns\n"
   ]
  },
  {
   "cell_type": "code",
   "execution_count": 4,
   "metadata": {},
   "outputs": [],
   "source": [
    "stats = housing.describe(include=\"all\")\n",
    "\n"
   ]
  },
  {
   "cell_type": "code",
   "execution_count": 5,
   "metadata": {},
   "outputs": [
    {
     "data": {
      "text/html": [
       "<div>\n",
       "<style scoped>\n",
       "    .dataframe tbody tr th:only-of-type {\n",
       "        vertical-align: middle;\n",
       "    }\n",
       "\n",
       "    .dataframe tbody tr th {\n",
       "        vertical-align: top;\n",
       "    }\n",
       "\n",
       "    .dataframe thead th {\n",
       "        text-align: right;\n",
       "    }\n",
       "</style>\n",
       "<table border=\"1\" class=\"dataframe\">\n",
       "  <thead>\n",
       "    <tr style=\"text-align: right;\">\n",
       "      <th></th>\n",
       "      <th>CRIM</th>\n",
       "      <th>ZN</th>\n",
       "      <th>INDUS</th>\n",
       "      <th>CHAS</th>\n",
       "      <th>NOX</th>\n",
       "      <th>RM</th>\n",
       "      <th>AGE</th>\n",
       "      <th>DIS</th>\n",
       "      <th>RAD</th>\n",
       "      <th>TAX</th>\n",
       "      <th>PTRATIO</th>\n",
       "      <th>BlackPop</th>\n",
       "      <th>LSTAT</th>\n",
       "      <th>MEDV</th>\n",
       "    </tr>\n",
       "  </thead>\n",
       "  <tbody>\n",
       "    <tr>\n",
       "      <th>count</th>\n",
       "      <td>505.000000</td>\n",
       "      <td>505.000000</td>\n",
       "      <td>505.000000</td>\n",
       "      <td>505</td>\n",
       "      <td>505.000000</td>\n",
       "      <td>505.000000</td>\n",
       "      <td>505.000000</td>\n",
       "      <td>505.000000</td>\n",
       "      <td>505.000000</td>\n",
       "      <td>505.000000</td>\n",
       "      <td>505.000000</td>\n",
       "      <td>505.000000</td>\n",
       "      <td>505.000000</td>\n",
       "      <td>505.000000</td>\n",
       "    </tr>\n",
       "    <tr>\n",
       "      <th>unique</th>\n",
       "      <td>NaN</td>\n",
       "      <td>NaN</td>\n",
       "      <td>NaN</td>\n",
       "      <td>2</td>\n",
       "      <td>NaN</td>\n",
       "      <td>NaN</td>\n",
       "      <td>NaN</td>\n",
       "      <td>NaN</td>\n",
       "      <td>NaN</td>\n",
       "      <td>NaN</td>\n",
       "      <td>NaN</td>\n",
       "      <td>NaN</td>\n",
       "      <td>NaN</td>\n",
       "      <td>NaN</td>\n",
       "    </tr>\n",
       "    <tr>\n",
       "      <th>top</th>\n",
       "      <td>NaN</td>\n",
       "      <td>NaN</td>\n",
       "      <td>NaN</td>\n",
       "      <td>False</td>\n",
       "      <td>NaN</td>\n",
       "      <td>NaN</td>\n",
       "      <td>NaN</td>\n",
       "      <td>NaN</td>\n",
       "      <td>NaN</td>\n",
       "      <td>NaN</td>\n",
       "      <td>NaN</td>\n",
       "      <td>NaN</td>\n",
       "      <td>NaN</td>\n",
       "      <td>NaN</td>\n",
       "    </tr>\n",
       "    <tr>\n",
       "      <th>freq</th>\n",
       "      <td>NaN</td>\n",
       "      <td>NaN</td>\n",
       "      <td>NaN</td>\n",
       "      <td>470</td>\n",
       "      <td>NaN</td>\n",
       "      <td>NaN</td>\n",
       "      <td>NaN</td>\n",
       "      <td>NaN</td>\n",
       "      <td>NaN</td>\n",
       "      <td>NaN</td>\n",
       "      <td>NaN</td>\n",
       "      <td>NaN</td>\n",
       "      <td>NaN</td>\n",
       "      <td>NaN</td>\n",
       "    </tr>\n",
       "    <tr>\n",
       "      <th>mean</th>\n",
       "      <td>3.620667</td>\n",
       "      <td>11.350495</td>\n",
       "      <td>11.154257</td>\n",
       "      <td>NaN</td>\n",
       "      <td>0.554728</td>\n",
       "      <td>6.284059</td>\n",
       "      <td>68.581584</td>\n",
       "      <td>3.794459</td>\n",
       "      <td>9.566337</td>\n",
       "      <td>408.459406</td>\n",
       "      <td>18.461782</td>\n",
       "      <td>356.594376</td>\n",
       "      <td>12.668257</td>\n",
       "      <td>22.529901</td>\n",
       "    </tr>\n",
       "    <tr>\n",
       "      <th>std</th>\n",
       "      <td>8.608572</td>\n",
       "      <td>23.343704</td>\n",
       "      <td>6.855868</td>\n",
       "      <td>NaN</td>\n",
       "      <td>0.115990</td>\n",
       "      <td>0.703195</td>\n",
       "      <td>28.176371</td>\n",
       "      <td>2.107757</td>\n",
       "      <td>8.707553</td>\n",
       "      <td>168.629992</td>\n",
       "      <td>2.162520</td>\n",
       "      <td>91.367787</td>\n",
       "      <td>7.139950</td>\n",
       "      <td>9.205991</td>\n",
       "    </tr>\n",
       "    <tr>\n",
       "      <th>min</th>\n",
       "      <td>0.009060</td>\n",
       "      <td>0.000000</td>\n",
       "      <td>0.460000</td>\n",
       "      <td>NaN</td>\n",
       "      <td>0.385000</td>\n",
       "      <td>3.561000</td>\n",
       "      <td>2.900000</td>\n",
       "      <td>1.129600</td>\n",
       "      <td>1.000000</td>\n",
       "      <td>187.000000</td>\n",
       "      <td>12.600000</td>\n",
       "      <td>0.320000</td>\n",
       "      <td>1.730000</td>\n",
       "      <td>5.000000</td>\n",
       "    </tr>\n",
       "    <tr>\n",
       "      <th>25%</th>\n",
       "      <td>0.082210</td>\n",
       "      <td>0.000000</td>\n",
       "      <td>5.190000</td>\n",
       "      <td>NaN</td>\n",
       "      <td>0.449000</td>\n",
       "      <td>5.885000</td>\n",
       "      <td>45.000000</td>\n",
       "      <td>2.100000</td>\n",
       "      <td>4.000000</td>\n",
       "      <td>279.000000</td>\n",
       "      <td>17.400000</td>\n",
       "      <td>375.330000</td>\n",
       "      <td>7.010000</td>\n",
       "      <td>17.000000</td>\n",
       "    </tr>\n",
       "    <tr>\n",
       "      <th>50%</th>\n",
       "      <td>0.259150</td>\n",
       "      <td>0.000000</td>\n",
       "      <td>9.690000</td>\n",
       "      <td>NaN</td>\n",
       "      <td>0.538000</td>\n",
       "      <td>6.208000</td>\n",
       "      <td>77.700000</td>\n",
       "      <td>3.199200</td>\n",
       "      <td>5.000000</td>\n",
       "      <td>330.000000</td>\n",
       "      <td>19.100000</td>\n",
       "      <td>391.430000</td>\n",
       "      <td>11.380000</td>\n",
       "      <td>21.200000</td>\n",
       "    </tr>\n",
       "    <tr>\n",
       "      <th>75%</th>\n",
       "      <td>3.678220</td>\n",
       "      <td>12.500000</td>\n",
       "      <td>18.100000</td>\n",
       "      <td>NaN</td>\n",
       "      <td>0.624000</td>\n",
       "      <td>6.625000</td>\n",
       "      <td>94.100000</td>\n",
       "      <td>5.211900</td>\n",
       "      <td>24.000000</td>\n",
       "      <td>666.000000</td>\n",
       "      <td>20.200000</td>\n",
       "      <td>396.210000</td>\n",
       "      <td>16.960000</td>\n",
       "      <td>25.000000</td>\n",
       "    </tr>\n",
       "    <tr>\n",
       "      <th>max</th>\n",
       "      <td>88.976200</td>\n",
       "      <td>100.000000</td>\n",
       "      <td>27.740000</td>\n",
       "      <td>NaN</td>\n",
       "      <td>0.871000</td>\n",
       "      <td>8.780000</td>\n",
       "      <td>100.000000</td>\n",
       "      <td>12.126500</td>\n",
       "      <td>24.000000</td>\n",
       "      <td>711.000000</td>\n",
       "      <td>22.000000</td>\n",
       "      <td>396.900000</td>\n",
       "      <td>37.970000</td>\n",
       "      <td>50.000000</td>\n",
       "    </tr>\n",
       "  </tbody>\n",
       "</table>\n",
       "</div>"
      ],
      "text/plain": [
       "              CRIM          ZN       INDUS   CHAS         NOX          RM  \\\n",
       "count   505.000000  505.000000  505.000000    505  505.000000  505.000000   \n",
       "unique         NaN         NaN         NaN      2         NaN         NaN   \n",
       "top            NaN         NaN         NaN  False         NaN         NaN   \n",
       "freq           NaN         NaN         NaN    470         NaN         NaN   \n",
       "mean      3.620667   11.350495   11.154257    NaN    0.554728    6.284059   \n",
       "std       8.608572   23.343704    6.855868    NaN    0.115990    0.703195   \n",
       "min       0.009060    0.000000    0.460000    NaN    0.385000    3.561000   \n",
       "25%       0.082210    0.000000    5.190000    NaN    0.449000    5.885000   \n",
       "50%       0.259150    0.000000    9.690000    NaN    0.538000    6.208000   \n",
       "75%       3.678220   12.500000   18.100000    NaN    0.624000    6.625000   \n",
       "max      88.976200  100.000000   27.740000    NaN    0.871000    8.780000   \n",
       "\n",
       "               AGE         DIS         RAD         TAX     PTRATIO  \\\n",
       "count   505.000000  505.000000  505.000000  505.000000  505.000000   \n",
       "unique         NaN         NaN         NaN         NaN         NaN   \n",
       "top            NaN         NaN         NaN         NaN         NaN   \n",
       "freq           NaN         NaN         NaN         NaN         NaN   \n",
       "mean     68.581584    3.794459    9.566337  408.459406   18.461782   \n",
       "std      28.176371    2.107757    8.707553  168.629992    2.162520   \n",
       "min       2.900000    1.129600    1.000000  187.000000   12.600000   \n",
       "25%      45.000000    2.100000    4.000000  279.000000   17.400000   \n",
       "50%      77.700000    3.199200    5.000000  330.000000   19.100000   \n",
       "75%      94.100000    5.211900   24.000000  666.000000   20.200000   \n",
       "max     100.000000   12.126500   24.000000  711.000000   22.000000   \n",
       "\n",
       "          BlackPop       LSTAT        MEDV  \n",
       "count   505.000000  505.000000  505.000000  \n",
       "unique         NaN         NaN         NaN  \n",
       "top            NaN         NaN         NaN  \n",
       "freq           NaN         NaN         NaN  \n",
       "mean    356.594376   12.668257   22.529901  \n",
       "std      91.367787    7.139950    9.205991  \n",
       "min       0.320000    1.730000    5.000000  \n",
       "25%     375.330000    7.010000   17.000000  \n",
       "50%     391.430000   11.380000   21.200000  \n",
       "75%     396.210000   16.960000   25.000000  \n",
       "max     396.900000   37.970000   50.000000  "
      ]
     },
     "execution_count": 5,
     "metadata": {},
     "output_type": "execute_result"
    }
   ],
   "source": [
    "housing.describe(include=\"all\")"
   ]
  },
  {
   "cell_type": "code",
   "execution_count": 6,
   "metadata": {},
   "outputs": [
    {
     "name": "stdout",
     "output_type": "stream",
     "text": [
      "<class 'pandas.core.frame.DataFrame'>\n",
      "RangeIndex: 505 entries, 0 to 504\n",
      "Data columns (total 15 columns):\n",
      " #   Column       Non-Null Count  Dtype  \n",
      "---  ------       --------------  -----  \n",
      " 0   CRIM         505 non-null    float64\n",
      " 1   ZN           505 non-null    float64\n",
      " 2   INDUS        505 non-null    float64\n",
      " 3   CHAS         505 non-null    bool   \n",
      " 4   NOX          505 non-null    float64\n",
      " 5   RM           505 non-null    float64\n",
      " 6   AGE          505 non-null    float64\n",
      " 7   DIS          505 non-null    float64\n",
      " 8   RAD          505 non-null    int64  \n",
      " 9   TAX          505 non-null    int64  \n",
      " 10  PTRATIO      505 non-null    float64\n",
      " 11  BlackPop     505 non-null    float64\n",
      " 12  LSTAT        505 non-null    float64\n",
      " 13  MEDV         505 non-null    float64\n",
      " 14  Valeur_Immo  505 non-null    object \n",
      "dtypes: bool(1), float64(11), int64(2), object(1)\n",
      "memory usage: 55.9+ KB\n",
      "<class 'pandas.core.frame.DataFrame'>\n",
      "RangeIndex: 505 entries, 0 to 504\n",
      "Data columns (total 15 columns):\n",
      " #   Column       Non-Null Count  Dtype   \n",
      "---  ------       --------------  -----   \n",
      " 0   CRIM         505 non-null    float64 \n",
      " 1   ZN           505 non-null    float64 \n",
      " 2   INDUS        505 non-null    float64 \n",
      " 3   CHAS         505 non-null    bool    \n",
      " 4   NOX          505 non-null    float64 \n",
      " 5   RM           505 non-null    float64 \n",
      " 6   AGE          505 non-null    float64 \n",
      " 7   DIS          505 non-null    float64 \n",
      " 8   RAD          505 non-null    int64   \n",
      " 9   TAX          505 non-null    int64   \n",
      " 10  PTRATIO      505 non-null    float64 \n",
      " 11  BlackPop     505 non-null    float64 \n",
      " 12  LSTAT        505 non-null    float64 \n",
      " 13  MEDV         505 non-null    float64 \n",
      " 14  Valeur_Immo  505 non-null    category\n",
      "dtypes: bool(1), category(1), float64(11), int64(2)\n",
      "memory usage: 52.5 KB\n"
     ]
    }
   ],
   "source": [
    "# créer 3 groupes de valeur des logements <15 , 15-25 et 25+\n",
    "housing[\"Valeur_Immo\"] = '2.15k-25k$'\n",
    "housing.loc[housing['MEDV'] >= 25, 'Valeur_Immo'] = '3.>25k$'\n",
    "housing.loc[housing['MEDV'] <15, 'Valeur_Immo'] = '1.<15k$'\n",
    "housing.Valeur_Immo.describe()\n",
    "housing.info()\n",
    "housing.Valeur_Immo=housing.Valeur_Immo.astype('category')\n",
    "housing.info() # réduction de la mém"
   ]
  },
  {
   "cell_type": "markdown",
   "metadata": {},
   "source": [
    "## REDUCTION DE DIMENSIONS AVEC ACP"
   ]
  },
  {
   "cell_type": "code",
   "execution_count": 7,
   "metadata": {},
   "outputs": [],
   "source": [
    "# ACP sur les var numériques\n",
    "# l'ACP doit être appliqué sur des données standardisées\n",
    "from sklearn.preprocessing import StandardScaler\n",
    "from sklearn.decomposition import PCA\n",
    "# MEDV est plus une variable qu'on veut projetter\n",
    "X = housing.drop([\"CHAS\",\"MEDV\",\"Valeur_Immo\"],axis=1)\n",
    "# on écrase et on standardise\n",
    "X = StandardScaler().fit_transform(housing.drop([\"CHAS\",\"MEDV\",\"Valeur_Immo\"],axis=1))"
   ]
  },
  {
   "cell_type": "code",
   "execution_count": 8,
   "metadata": {},
   "outputs": [],
   "source": [
    "# CALCUL ACP A LA MAIN\n",
    "matCorr = np.corrcoef(X,rowvar = False) # matrice des corrélations, rowvar =F signifie que les col sont en col\n",
    "# diagonalisation fonction eig donne  vecteur de valeurs propres et un array pour  les vecteurs propres, 1 par colonne\n",
    "eigenVal, eigenVec = np.linalg.eig(matCorr)\n",
    "# eigenVal permet d'apprécier le nb daxes selon critere de kaiser\n",
    "##ou\n",
    "#model_scaling =  StandardScaler().fit(X)\n",
    "## application du scaling à un nouvel individu\n",
    "#nouvel_individu=X[0:1,:]\n",
    "#nouvel_individu_cr=model_scaling.transform(nouvel_individu)"
   ]
  },
  {
   "cell_type": "code",
   "execution_count": 9,
   "metadata": {},
   "outputs": [
    {
     "data": {
      "text/plain": [
       "array([6.12511893, 1.34237511, 1.17972949, 0.83633363, 0.66505743,\n",
       "       0.53753416, 0.39666844, 0.06444181, 0.27731536, 0.16937287,\n",
       "       0.18628047, 0.21977229])"
      ]
     },
     "execution_count": 9,
     "metadata": {},
     "output_type": "execute_result"
    }
   ],
   "source": [
    "eigenVal"
   ]
  },
  {
   "cell_type": "code",
   "execution_count": 10,
   "metadata": {},
   "outputs": [],
   "source": [
    "# CALCUL ACP AVEC SKLEARN\n",
    "X.mean(axis=0)\n",
    "X.std(axis=0)\n",
    "pca_housing = PCA(n_components=X.shape[1]).fit(X)\n",
    "CP_housing = pca_housing.transform(X)\n",
    "# projection des 505 villes sur les nouvelles dimensions"
   ]
  },
  {
   "cell_type": "code",
   "execution_count": 11,
   "metadata": {},
   "outputs": [
    {
     "name": "stdout",
     "output_type": "stream",
     "text": [
      "[0.51042658 0.11186459 0.09831079 0.06969447 0.05542145 0.04479451\n",
      " 0.0330557  0.02310961 0.01831436 0.01552337 0.01411441 0.00537015]\n",
      "[ 51.04  62.23  72.06  79.03  84.57  89.05  92.36  94.67  96.5   98.05\n",
      "  99.46 100.  ]\n"
     ]
    },
    {
     "data": {
      "text/plain": [
       "[<matplotlib.lines.Line2D at 0x7f50b1f6f510>]"
      ]
     },
     "execution_count": 11,
     "metadata": {},
     "output_type": "execute_result"
    },
    {
     "data": {
      "image/png": "[encoded data removed]",
      "text/plain": [
       "<Figure size 432x288 with 1 Axes>"
      ]
     },
     "metadata": {
      "needs_background": "light"
     },
     "output_type": "display_data"
    },
    {
     "data": {
      "image/png": "[encoded data removed]",
      "text/plain": [
       "<Figure size 432x288 with 1 Axes>"
      ]
     },
     "metadata": {
      "needs_background": "light"
     },
     "output_type": "display_data"
    }
   ],
   "source": [
    "print(pca_housing.explained_variance_ratio_) # 3 composantes expliquent 72% de la variance des données\n",
    "print(np.cumsum(np.round(pca_housing.explained_variance_ratio_, decimals=4)*100))\n",
    "plt.plot(np.cumsum(np.round(pca_housing.explained_variance_ratio_, decimals=4)*100))\n",
    "plt.figure()\n",
    "plt.plot(np.round(pca_housing.explained_variance_ratio_, decimals=1))\n",
    "\n",
    "# les coordonnées des individus sur les deux axes\n",
    "# test=pd.DataFrame(CP_housing[0:12,0:2], columns = ['CP1', 'CP2'])"
   ]
  },
  {
   "cell_type": "code",
   "execution_count": 12,
   "metadata": {},
   "outputs": [
    {
     "name": "stdout",
     "output_type": "stream",
     "text": [
      "{'n_components': 12, 'copy': True, 'whiten': False, 'svd_solver': 'auto', 'tol': 0.0, 'iterated_power': 'auto', 'random_state': None, '_fit_svd_solver': 'full', 'mean_': array([-5.62806127e-17,  1.75876915e-17,  2.25122451e-16, -3.09543370e-16,\n",
      "       -3.16578447e-17,  1.82911991e-16,  1.68841838e-16,  0.00000000e+00,\n",
      "       -1.12561225e-16, -1.13968241e-15, -5.34665821e-16, -2.81403064e-17]), 'noise_variance_': 0.0, 'n_samples_': 505, 'n_features_': 12, 'components_': array([[ 0.25096807, -0.25632016,  0.34663549,  0.34298532, -0.18923569,\n",
      "         0.31379316, -0.32164886,  0.31972077,  0.338499  ,  0.20467099,\n",
      "        -0.20291546,  0.30970598],\n",
      "       [ 0.40220098,  0.4394281 , -0.1091282 , -0.16340448,  0.08068794,\n",
      "        -0.31397828,  0.32530173,  0.38537913,  0.32138566,  0.16927991,\n",
      "        -0.3374333 , -0.03592319],\n",
      "       [ 0.06548158,  0.08804452,  0.03366535,  0.2369054 ,  0.67851548,\n",
      "         0.1659233 , -0.25593269,  0.11087695,  0.07573032, -0.48657484,\n",
      "        -0.18551867, -0.29679359],\n",
      "       [ 0.0748803 ,  0.30480997, -0.00905398,  0.14776878, -0.3925085 ,\n",
      "         0.03366804,  0.07674293, -0.21694647, -0.14086427, -0.60888408,\n",
      "        -0.36221212,  0.38682598],\n",
      "       [-0.20671229, -0.35137106, -0.09203235, -0.14324543,  0.10424883,\n",
      "        -0.04165296, -0.01106331, -0.16445454, -0.21039464,  0.24528304,\n",
      "        -0.81051861, -0.06065173],\n",
      "       [ 0.77868886, -0.26912919, -0.33995768, -0.18965725,  0.07919625,\n",
      "         0.12986487, -0.11516036, -0.14021252, -0.31093571, -0.01498191,\n",
      "         0.09320744,  0.08955752],\n",
      "       [ 0.16043791, -0.4039198 ,  0.17504519,  0.07518736, -0.32926836,\n",
      "        -0.60210949, -0.11883519,  0.0794277 ,  0.0777239 , -0.31321782,\n",
      "        -0.00816257, -0.42334079],\n",
      "       [ 0.26185211,  0.36142982,  0.64056119, -0.01822916,  0.04341119,\n",
      "        -0.06196595, -0.1501472 , -0.47048454, -0.17738482,  0.25915953,\n",
      "        -0.04732452, -0.19914361],\n",
      "       [ 0.01854716,  0.26414981, -0.36868121,  0.23155707, -0.43288471,\n",
      "         0.36312179, -0.16952506,  0.02820682, -0.0373992 ,  0.14944169,\n",
      "        -0.09631091, -0.59878884],\n",
      "       [-0.10983544,  0.26312048, -0.30106859,  0.11376885,  0.05439448,\n",
      "        -0.45963918, -0.69752619,  0.0326394 , -0.10222685,  0.17294479,\n",
      "         0.0202633 ,  0.26928101],\n",
      "       [ 0.08693257, -0.07181852, -0.11293967,  0.80394252,  0.15255189,\n",
      "        -0.21211847,  0.39193931, -0.10591664, -0.21578554,  0.20912068,\n",
      "         0.04150795,  0.05556111],\n",
      "       [ 0.04467934, -0.0818639 , -0.24979072,  0.04837451,  0.04659487,\n",
      "        -0.03452651, -0.01953286, -0.63439223,  0.7208926 ,  0.01810328,\n",
      "        -0.00238816,  0.01867623]]), 'n_components_': 12, 'explained_variance_': array([6.13727195, 1.34503855, 1.18207022, 0.83799302, 0.66637699,\n",
      "       0.5386007 , 0.39745548, 0.27786559, 0.22020835, 0.18665007,\n",
      "       0.16970893, 0.06456967]), 'explained_variance_ratio_': array([0.51042658, 0.11186459, 0.09831079, 0.06969447, 0.05542145,\n",
      "       0.04479451, 0.0330557 , 0.02310961, 0.01831436, 0.01552337,\n",
      "       0.01411441, 0.00537015]), 'singular_values_': array([55.61641001, 26.0365019 , 24.4082648 , 20.55111877, 18.32631999,\n",
      "       16.47588393, 14.15335862, 11.83402971, 10.53494225,  9.69905333,\n",
      "        9.24842148,  5.70465732])}\n",
      "[55.61641001 26.0365019  24.4082648  20.55111877 18.32631999 16.47588393\n",
      " 14.15335862 11.83402971 10.53494225  9.69905333  9.24842148  5.70465732]\n",
      "[6.137271948257766, 1.3450385541588352, 1.18207021924674, 0.8379930215970155, 0.6663769925418073, 0.538600696662829, 0.39745547640602674, 0.27786559372679376, 0.22020834970713726, 0.186650070316655, 0.16970892829695142, 0.06456967289096988]\n"
     ]
    }
   ],
   "source": [
    "# examine l'objet\n",
    "print(pca_housing.__dict__)\n",
    "from math import sqrt \n",
    "print(pca_housing.singular_values_)\n",
    "# valeur propre λi=si**2/(n−1)\n",
    "print(list(map(lambda x:(x**2)/(len(X)-1),np.array(pca_housing.singular_values_))) )\n",
    "# On trouve des résultats proches de eigenval"
   ]
  },
  {
   "cell_type": "code",
   "execution_count": 13,
   "metadata": {},
   "outputs": [
    {
     "data": {
      "text/plain": [
       "<seaborn.axisgrid.PairGrid at 0x7f50b1d85390>"
      ]
     },
     "execution_count": 13,
     "metadata": {},
     "output_type": "execute_result"
    },
    {
     "data": {
      "image/png": "[encoded data removed]",
      "text/plain": [
       "<Figure size 452.75x360 with 1 Axes>"
      ]
     },
     "metadata": {
      "needs_background": "light"
     },
     "output_type": "display_data"
    },
    {
     "data": {
      "image/png": "[encoded data removed]",
      "text/plain": [
       "<Figure size 360x360 with 1 Axes>"
      ]
     },
     "metadata": {
      "needs_background": "light"
     },
     "output_type": "display_data"
    },
    {
     "data": {
      "image/png": "[encoded data removed]",
      "text/plain": [
       "<Figure size 452.75x360 with 1 Axes>"
      ]
     },
     "metadata": {
      "needs_background": "light"
     },
     "output_type": "display_data"
    }
   ],
   "source": [
    "import seaborn as sns\n",
    "targets = housing.Valeur_Immo.unique()\n",
    "\n",
    "# 3 axes\n",
    "finalDf = pd.concat([pd.DataFrame(CP_housing[:,0:3], columns = ['CP1', 'CP2','CP3']), housing[[\"CHAS\",\"MEDV\",'Valeur_Immo']]], axis = 1)\n",
    "sns.pairplot(x_vars='CP1', y_vars='CP2', data=finalDf, hue=\"Valeur_Immo\", height=5)\n",
    "sns.pairplot(x_vars='CP1', y_vars='CP2', data=finalDf, height=5)\n",
    "sns.pairplot(x_vars='CP1', y_vars='CP3', data=finalDf, hue=\"Valeur_Immo\", height=5)\n",
    "# Les 3 catégories de valeur immobilière sont assez corrélées avec l'axe 1 et 3"
   ]
  },
  {
   "cell_type": "markdown",
   "metadata": {},
   "source": [
    "## INTERPRETATION DES AXES\n",
    "\n",
    "#CP1 correle + avec\n",
    "#CRIM\n",
    "#INDUS\n",
    "#NOX\n",
    "#AGE\n",
    "#RAD\n",
    "#LSTAT\n",
    "#\n",
    "#et - avec\n",
    "#ZN\n",
    "#DIS\n",
    "#TAX\n",
    "#\n",
    "#CP2 +\n",
    "#CRIM ZN\n",
    "#RAD\n",
    "#TAX\n",
    "#\n",
    "#- black\n",
    "#age\n",
    "#\n",
    "#CP3\n",
    "#RM +\n",
    "#et ptration - \n",
    "#\n",
    "#à noter que MEDV est corree - avec CP1\n",
    "#et + avec CP3 et orthogonal à CP2"
   ]
  },
  {
   "cell_type": "code",
   "execution_count": 14,
   "metadata": {},
   "outputs": [
    {
     "data": {
      "image/png": "[encoded data removed]",
      "text/plain": [
       "<Figure size 432x288 with 2 Axes>"
      ]
     },
     "metadata": {
      "needs_background": "light"
     },
     "output_type": "display_data"
    }
   ],
   "source": [
    "\n",
    "# corrélations etre les axes et les variables\n",
    "#np.corrcoef(matNum,rowvar = False)\n",
    "# 7 valeurs propres >1\n",
    "import matplotlib.pyplot as plt\n",
    "analyse = pd.concat([pd.DataFrame(CP_housing[:,0:3], columns = ['CP1', 'CP2','CP3']), housing[[\"CRIM\",\"ZN\",\"INDUS\",\"NOX\",\"RM\",\"AGE\",\"DIS\",\"RAD\",\"TAX\", \"PTRATIO\",\"BlackPop\",\"LSTAT\",\"MEDV\"]]], axis = 1)\n",
    "corr=analyse.corr().loc[[\"CRIM\",\"ZN\",\"INDUS\",\"NOX\",\"RM\",\"AGE\",\"DIS\",\"RAD\",\"TAX\", \"PTRATIO\",\"BlackPop\",\"LSTAT\",\"MEDV\"],[\"CP1\",\"CP2\",\"CP3\"]]\n",
    "plt.figure()\n",
    "sns.heatmap(corr,xticklabels=corr.columns.values,yticklabels=corr.index.values)\n",
    "\n",
    "del corr\n"
   ]
  },
  {
   "cell_type": "code",
   "execution_count": 15,
   "metadata": {},
   "outputs": [
    {
     "ename": "NameError",
     "evalue": "name 'stats' is not defined",
     "output_type": "error",
     "traceback": [
      "\u001b[0;31m---------------------------------------------------------------------------\u001b[0m",
      "\u001b[0;31mNameError\u001b[0m                                 Traceback (most recent call last)",
      "\u001b[0;32m<ipython-input-15-5bf1c7d75509>\u001b[0m in \u001b[0;36m<module>\u001b[0;34m\u001b[0m\n\u001b[0;32m----> 1\u001b[0;31m \u001b[0;32mdel\u001b[0m \u001b[0mfinalDf\u001b[0m\u001b[0;34m,\u001b[0m \u001b[0mstats\u001b[0m\u001b[0;34m\u001b[0m\u001b[0;34m\u001b[0m\u001b[0m\n\u001b[0m",
      "\u001b[0;31mNameError\u001b[0m: name 'stats' is not defined"
     ]
    }
   ],
   "source": [
    "del finalDf, stats"
   ]
  },
  {
   "cell_type": "markdown",
   "metadata": {},
   "source": [
    "## CLUSTERING MIXTE\n",
    "\n",
    "La classification mixte permet de garder les qualités des méthodes de nuées dynamiques \n",
    "et de la classification hiérarchique en contournant leurs inconvénients.\n",
    "On commence par une k-means pour diminuer la dimension du problème \n",
    "puis on fait une classification hiérarchique sur les centroides."
   ]
  },
  {
   "cell_type": "code",
   "execution_count": 17,
   "metadata": {},
   "outputs": [],
   "source": [
    "from sklearn.cluster import KMeans\n",
    "from sklearn import metrics\n",
    "from scipy.spatial.distance import cdist\n",
    "from scipy import cluster\n",
    "from sklearn.cluster import AgglomerativeClustering"
   ]
  },
  {
   "cell_type": "code",
   "execution_count": 18,
   "metadata": {},
   "outputs": [],
   "source": [
    "# On fait une k-means avec beaucoup de clusters et on récupère les coordonnées des centroides\n",
    "\n",
    "k_means_cent = KMeans(n_clusters = 25, random_state = 2016).fit(CP_housing[:,0:3])\n",
    "# barycentres des 25 classes issues de la partition KM\n",
    "centroides = k_means_cent.cluster_centers_"
   ]
  },
  {
   "cell_type": "code",
   "execution_count": 19,
   "metadata": {},
   "outputs": [
    {
     "name": "stdout",
     "output_type": "stream",
     "text": [
      "[[ 1.77400636  0.82435211 -0.2225025 ]\n",
      " [-3.47306738  1.36189101  0.41801003]\n",
      " [-1.18513758 -0.44207935 -0.94948367]\n",
      " [ 0.84621546 -1.54484943  1.41611278]\n",
      " [ 4.91514818  1.97321173 -0.54392437]\n",
      " [-1.84874947 -0.66840854  1.24601441]\n",
      " [ 1.69271505 -1.46772263 -0.65687123]\n",
      " [ 3.56061037  0.42019317 -0.42673362]\n",
      " [-2.08117074  0.12483761 -0.60615355]\n",
      " [-2.94347252  1.13042526 -0.47824341]\n",
      " [-1.18406767 -0.80718756  0.14720477]\n",
      " [-0.08888742 -1.05710034 -0.34837238]\n",
      " [ 2.94162933  0.32867919  0.35240687]\n",
      " [-1.22641797 -1.16190909  2.86830805]\n",
      " [-2.59145635  0.31608337  0.59938125]\n",
      " [ 0.12241476 -0.79713382 -1.33581933]\n",
      " [ 4.13709132  0.2898781  -1.56075692]\n",
      " [ 2.07161825  0.39027801  1.62629039]\n",
      " [-4.06498744  2.14034004 -0.04836338]\n",
      " [ 2.34145431 -1.98739468  0.71717437]\n",
      " [ 5.01387925  3.85836466  1.28446166]\n",
      " [-4.3528161   1.55035768  1.80960754]\n",
      " [-1.88929331  0.48315521 -1.36119884]\n",
      " [-3.27604542  2.40468334 -1.88603398]\n",
      " [ 3.69353719  1.71139691  0.89600093]]\n"
     ]
    }
   ],
   "source": [
    "print(centroides)"
   ]
  },
  {
   "cell_type": "code",
   "execution_count": 17,
   "metadata": {},
   "outputs": [
    {
     "data": {
      "text/plain": [
       "{'icoord': [[15.0, 15.0, 25.0, 25.0],\n",
       "  [45.0, 45.0, 55.0, 55.0],\n",
       "  [35.0, 35.0, 50.0, 50.0],\n",
       "  [65.0, 65.0, 75.0, 75.0],\n",
       "  [42.5, 42.5, 70.0, 70.0],\n",
       "  [20.0, 20.0, 56.25, 56.25],\n",
       "  [5.0, 5.0, 38.125, 38.125],\n",
       "  [115.0, 115.0, 125.0, 125.0],\n",
       "  [105.0, 105.0, 120.0, 120.0],\n",
       "  [95.0, 95.0, 112.5, 112.5],\n",
       "  [85.0, 85.0, 103.75, 103.75],\n",
       "  [135.0, 135.0, 145.0, 145.0],\n",
       "  [155.0, 155.0, 165.0, 165.0],\n",
       "  [140.0, 140.0, 160.0, 160.0],\n",
       "  [175.0, 175.0, 185.0, 185.0],\n",
       "  [195.0, 195.0, 205.0, 205.0],\n",
       "  [215.0, 215.0, 225.0, 225.0],\n",
       "  [235.0, 235.0, 245.0, 245.0],\n",
       "  [220.0, 220.0, 240.0, 240.0],\n",
       "  [200.0, 200.0, 230.0, 230.0],\n",
       "  [180.0, 180.0, 215.0, 215.0],\n",
       "  [150.0, 150.0, 197.5, 197.5],\n",
       "  [94.375, 94.375, 173.75, 173.75],\n",
       "  [21.5625, 21.5625, 134.0625, 134.0625]],\n",
       " 'dcoord': [[0.0, 1.8945334137681231, 1.8945334137681231, 0.0],\n",
       "  [0.0, 1.198552313912313, 1.198552313912313, 0.0],\n",
       "  [0.0, 1.804395231458763, 1.804395231458763, 1.198552313912313],\n",
       "  [0.0, 2.105196445205521, 2.105196445205521, 0.0],\n",
       "  [1.804395231458763, 2.46867689084245, 2.46867689084245, 2.105196445205521],\n",
       "  [1.8945334137681231, 4.038798105283364, 4.038798105283364, 2.46867689084245],\n",
       "  [0.0, 4.871161158634173, 4.871161158634173, 4.038798105283364],\n",
       "  [0.0, 1.2872631599198476, 1.2872631599198476, 0.0],\n",
       "  [0.0, 1.5275401569928935, 1.5275401569928935, 1.2872631599198476],\n",
       "  [0.0, 2.4727432144898915, 2.4727432144898915, 1.5275401569928935],\n",
       "  [0.0, 2.5125561756043235, 2.5125561756043235, 2.4727432144898915],\n",
       "  [0.0, 1.4097318757374913, 1.4097318757374913, 0.0],\n",
       "  [0.0, 1.4490050078723062, 1.4490050078723062, 0.0],\n",
       "  [1.4097318757374913,\n",
       "   2.5092049163506567,\n",
       "   2.5092049163506567,\n",
       "   1.4490050078723062],\n",
       "  [0.0, 1.5468997758473821, 1.5468997758473821, 0.0],\n",
       "  [0.0, 0.9314453635081749, 0.9314453635081749, 0.0],\n",
       "  [0.0, 0.9453938823129632, 0.9453938823129632, 0.0],\n",
       "  [0.0, 1.0072514993957402, 1.0072514993957402, 0.0],\n",
       "  [0.9453938823129632,\n",
       "   2.060155488640881,\n",
       "   2.060155488640881,\n",
       "   1.0072514993957402],\n",
       "  [0.9314453635081749,\n",
       "   2.6466381590986114,\n",
       "   2.6466381590986114,\n",
       "   2.060155488640881],\n",
       "  [1.5468997758473821,\n",
       "   5.213917258670104,\n",
       "   5.213917258670104,\n",
       "   2.6466381590986114],\n",
       "  [2.5092049163506567,\n",
       "   6.780771518973696,\n",
       "   6.780771518973696,\n",
       "   5.213917258670104],\n",
       "  [2.5125561756043235,\n",
       "   10.79966715035006,\n",
       "   10.79966715035006,\n",
       "   6.780771518973696],\n",
       "  [4.871161158634173,\n",
       "   16.159053687440302,\n",
       "   16.159053687440302,\n",
       "   10.79966715035006]],\n",
       " 'ivl': ['19',\n",
       "  '6',\n",
       "  '15',\n",
       "  '3',\n",
       "  '1',\n",
       "  '16',\n",
       "  '11',\n",
       "  '21',\n",
       "  '9',\n",
       "  '14',\n",
       "  '20',\n",
       "  '0',\n",
       "  '8',\n",
       "  '7',\n",
       "  '17',\n",
       "  '10',\n",
       "  '23',\n",
       "  '4',\n",
       "  '22',\n",
       "  '2',\n",
       "  '13',\n",
       "  '12',\n",
       "  '18',\n",
       "  '5',\n",
       "  '24'],\n",
       " 'leaves': [19,\n",
       "  6,\n",
       "  15,\n",
       "  3,\n",
       "  1,\n",
       "  16,\n",
       "  11,\n",
       "  21,\n",
       "  9,\n",
       "  14,\n",
       "  20,\n",
       "  0,\n",
       "  8,\n",
       "  7,\n",
       "  17,\n",
       "  10,\n",
       "  23,\n",
       "  4,\n",
       "  22,\n",
       "  2,\n",
       "  13,\n",
       "  12,\n",
       "  18,\n",
       "  5,\n",
       "  24],\n",
       " 'color_list': ['g',\n",
       "  'g',\n",
       "  'g',\n",
       "  'g',\n",
       "  'g',\n",
       "  'g',\n",
       "  'g',\n",
       "  'r',\n",
       "  'r',\n",
       "  'r',\n",
       "  'r',\n",
       "  'r',\n",
       "  'r',\n",
       "  'r',\n",
       "  'r',\n",
       "  'r',\n",
       "  'r',\n",
       "  'r',\n",
       "  'r',\n",
       "  'r',\n",
       "  'r',\n",
       "  'r',\n",
       "  'r',\n",
       "  'b']}"
      ]
     },
     "execution_count": 17,
     "metadata": {},
     "output_type": "execute_result"
    },
    {
     "data": {
      "image/png": "[encoded data removed]",
      "text/plain": [
       "<Figure size 432x288 with 1 Axes>"
      ]
     },
     "metadata": {
      "needs_background": "light"
     },
     "output_type": "display_data"
    }
   ],
   "source": [
    "\n",
    "\n",
    "# 25 individus fictifs (barycentres)\n",
    "\n",
    "# On trace le dendogramme \n",
    "# étape préliminaire avec la cluster.hierarchy (CAH): bénéfice de pouvoir représenter\n",
    "Z = cluster.hierarchy.linkage(centroides, method='ward', metric='euclidean')\n",
    "plt.figure()\n",
    "\n",
    "plt.title('Hierarchical Clustering Dendrogram', fontsize=18)\n",
    "\n",
    "plt.xlabel('sample index', fontsize=16)\n",
    "\n",
    "plt.ylabel('distance', fontsize=16)\n",
    "cluster.hierarchy.dendrogram(Z, leaf_font_size=12, leaf_rotation=90.) \n"
   ]
  },
  {
   "cell_type": "code",
   "execution_count": 20,
   "metadata": {},
   "outputs": [
    {
     "data": {
      "text/plain": [
       "AgglomerativeClustering(affinity='euclidean', compute_full_tree='auto',\n",
       "                        connectivity=None, distance_threshold=None,\n",
       "                        linkage='ward', memory=None, n_clusters=4)"
      ]
     },
     "execution_count": 20,
     "metadata": {},
     "output_type": "execute_result"
    }
   ],
   "source": [
    "# etape partitionner par rapport au nombre = 3 ou 4\n",
    "# On peut ensuite réaliser le clustering à l'aide de scikit-learn\n",
    "hac_cent = AgglomerativeClustering(n_clusters = 4, affinity = 'euclidean', linkage = 'ward')\n",
    "hac_cent.fit(centroides)"
   ]
  },
  {
   "cell_type": "code",
   "execution_count": 21,
   "metadata": {},
   "outputs": [],
   "source": [
    "# On récupère le cluster assigné lors du K-means puis lors du CAH pour avoir un cluster final pour chaque observation\n",
    "kmeans_cent_df = pd.DataFrame(k_means_cent.labels_, columns = ['K-means_cent']).reset_index()\n",
    "hac_cent_df = pd.DataFrame(hac_cent.labels_, columns = ['Typologie']).reset_index()\n",
    "cluster_cent = pd.merge(kmeans_cent_df, hac_cent_df, left_on=['K-means_cent'], right_on=['index'], how='left')\n",
    "cluster_cent = cluster_cent.drop(['K-means_cent','index_y'], axis =1)"
   ]
  },
  {
   "cell_type": "code",
   "execution_count": 22,
   "metadata": {},
   "outputs": [
    {
     "name": "stdout",
     "output_type": "stream",
     "text": [
      "0    259\n",
      "1    135\n",
      "2     61\n",
      "3     50\n",
      "Name: Typologie, dtype: int64\n",
      "0    0.512871\n",
      "1    0.267327\n",
      "2    0.120792\n",
      "3    0.099010\n",
      "Name: Typologie, dtype: float64\n"
     ]
    }
   ],
   "source": [
    "print(cluster_cent.Typologie.value_counts())\n",
    "print(cluster_cent.Typologie.value_counts().apply(lambda x:x/len(cluster_cent.Typologie)))\n"
   ]
  },
  {
   "cell_type": "code",
   "execution_count": 23,
   "metadata": {},
   "outputs": [],
   "source": [
    "typologie = pd.merge(left=housing, right=cluster_cent, how='inner',\n",
    "\t\t   left_index=True, right_index=True)"
   ]
  },
  {
   "cell_type": "code",
   "execution_count": 24,
   "metadata": {},
   "outputs": [],
   "source": [
    "barycentres=typologie.groupby(['Typologie'])[[\"CRIM\",\"ZN\",\"INDUS\",\"CHAS\",\"NOX\",\"RM\",\"AGE\",\"DIS\",\"RAD\",\"TAX\", \"PTRATIO\",\"BlackPop\",\"LSTAT\",\"MEDV\"]].mean()\n"
   ]
  },
  {
   "cell_type": "code",
   "execution_count": 25,
   "metadata": {},
   "outputs": [
    {
     "name": "stdout",
     "output_type": "stream",
     "text": [
      "                CRIM         ZN      INDUS      CHAS       NOX        RM  \\\n",
      "Typologie                                                                  \n",
      "0           0.283904   6.976834   7.373591  0.081081  0.500485  6.392803   \n",
      "1          12.505168   0.000000  18.111704  0.066667  0.672289  6.019067   \n",
      "2           0.055524  64.344262   3.202459  0.016393  0.415675  6.747754   \n",
      "3           1.266416   0.000000  21.654200  0.080000  0.687940  5.870540   \n",
      "\n",
      "                 AGE       DIS        RAD         TAX    PTRATIO    BlackPop  \\\n",
      "Typologie                                                                      \n",
      "0          62.212741  4.201540   4.640927  298.625483  18.105792  387.855097   \n",
      "1          89.780000  2.061987  23.570370  662.296296  20.163704  285.222296   \n",
      "2          26.596721  7.470464   3.836066  310.098361  16.904918  388.116393   \n",
      "3          95.558000  1.878722   4.260000  412.040000  17.610000  348.911600   \n",
      "\n",
      "               LSTAT       MEDV  \n",
      "Typologie                        \n",
      "0          10.319768  24.981853  \n",
      "1          18.597111  16.352593  \n",
      "2           5.870164  29.172131  \n",
      "3          17.119200  18.404000  \n"
     ]
    }
   ],
   "source": [
    "print(barycentres)"
   ]
  },
  {
   "cell_type": "code",
   "execution_count": 22,
   "metadata": {},
   "outputs": [
    {
     "data": {
      "text/html": [
       "<div>\n",
       "<style scoped>\n",
       "    .dataframe tbody tr th:only-of-type {\n",
       "        vertical-align: middle;\n",
       "    }\n",
       "\n",
       "    .dataframe tbody tr th {\n",
       "        vertical-align: top;\n",
       "    }\n",
       "\n",
       "    .dataframe thead th {\n",
       "        text-align: right;\n",
       "    }\n",
       "</style>\n",
       "<table border=\"1\" class=\"dataframe\">\n",
       "  <thead>\n",
       "    <tr style=\"text-align: right;\">\n",
       "      <th>Valeur_Immo</th>\n",
       "      <th>1.&lt;15k$</th>\n",
       "      <th>2.15k-25k$</th>\n",
       "      <th>3.&gt;25k$</th>\n",
       "    </tr>\n",
       "    <tr>\n",
       "      <th>Typologie</th>\n",
       "      <th></th>\n",
       "      <th></th>\n",
       "      <th></th>\n",
       "    </tr>\n",
       "  </thead>\n",
       "  <tbody>\n",
       "    <tr>\n",
       "      <th>0</th>\n",
       "      <td>0.048035</td>\n",
       "      <td>0.681223</td>\n",
       "      <td>0.270742</td>\n",
       "    </tr>\n",
       "    <tr>\n",
       "      <th>1</th>\n",
       "      <td>0.540741</td>\n",
       "      <td>0.377778</td>\n",
       "      <td>0.081481</td>\n",
       "    </tr>\n",
       "    <tr>\n",
       "      <th>2</th>\n",
       "      <td>0.000000</td>\n",
       "      <td>0.384615</td>\n",
       "      <td>0.615385</td>\n",
       "    </tr>\n",
       "    <tr>\n",
       "      <th>3</th>\n",
       "      <td>0.200000</td>\n",
       "      <td>0.740000</td>\n",
       "      <td>0.060000</td>\n",
       "    </tr>\n",
       "  </tbody>\n",
       "</table>\n",
       "</div>"
      ],
      "text/plain": [
       "Valeur_Immo   1.<15k$  2.15k-25k$   3.>25k$\n",
       "Typologie                                  \n",
       "0            0.048035    0.681223  0.270742\n",
       "1            0.540741    0.377778  0.081481\n",
       "2            0.000000    0.384615  0.615385\n",
       "3            0.200000    0.740000  0.060000"
      ]
     },
     "execution_count": 22,
     "metadata": {},
     "output_type": "execute_result"
    }
   ],
   "source": [
    "#Pour chaque cluster, on calcule la moyenne des variables quantitatives\n",
    "# et la proportion des variables qualitatives. On peut ainsi voir en quels domaines les clusters se différencient. Ci-dessous le portrait robot de la classification mixte :\n",
    "\n",
    "# Variables quanti : moyenne de la variable\n",
    "# le index =false permet que le resultat reprenne bien les var en group by\n",
    "stats=typologie.groupby(['Typologie'])[[\"CRIM\",\"ZN\",\"INDUS\",\"CHAS\",\"NOX\",\"RM\",\"AGE\",\"DIS\",\"RAD\",\"TAX\", \"PTRATIO\",\"BlackPop\",\"LSTAT\",\"MEDV\"]].mean()\n",
    "\n",
    "# Variables quali : proportion de la variable dans chaque catégorie\n",
    "pd.crosstab(typologie['Typologie'], typologie['CHAS'], normalize=True)\n",
    "pd.crosstab(typologie['Typologie'], typologie['Valeur_Immo'], normalize='index')\n"
   ]
  },
  {
   "cell_type": "code",
   "execution_count": 26,
   "metadata": {},
   "outputs": [
    {
     "data": {
      "text/plain": [
       "['/home/jupyter/EF-form-py-ML/notebooks',\n",
       " '/opt/conda/lib/python37.zip',\n",
       " '/opt/conda/lib/python3.7',\n",
       " '/opt/conda/lib/python3.7/lib-dynload',\n",
       " '',\n",
       " '/opt/conda/lib/python3.7/site-packages',\n",
       " '/opt/conda/lib/python3.7/site-packages/IPython/extensions',\n",
       " '/home/jupyter/.ipython',\n",
       " 'C:\\\\Users\\\\dgr\\\\OneDrive - Publicis Groupe\\\\Documents\\\\Formations\\\\SCU Python\\\\NEW\\\\modules']"
      ]
     },
     "execution_count": 26,
     "metadata": {},
     "output_type": "execute_result"
    }
   ],
   "source": [
    "# UTILISER UNE FONCTION DE PORTRAITS ROBOTS\n",
    "import sys\n",
    "sys.path.append(\"C:\\\\Users\\\\dgr\\\\OneDrive - Publicis Groupe\\\\Documents\\\\Formations\\\\SCU Python\\\\NEW\\\\modules\")\n",
    "sys.path\n"
   ]
  },
  {
   "cell_type": "code",
   "execution_count": 24,
   "metadata": {},
   "outputs": [],
   "source": [
    "from portraits_robots_quanti import portraits_robot_quanti"
   ]
  },
  {
   "cell_type": "code",
   "execution_count": 25,
   "metadata": {},
   "outputs": [],
   "source": [
    "from pouvoir_discriminant import pouvoir_discriminant"
   ]
  },
  {
   "cell_type": "code",
   "execution_count": 26,
   "metadata": {},
   "outputs": [],
   "source": [
    "stats=portraits_robot_quanti(typologie, 'Typologie', [\"CRIM\",\"ZN\",\"INDUS\",\"CHAS\",\"NOX\",\"RM\",\"AGE\",\"DIS\",\"RAD\",\"TAX\", \"PTRATIO\",\"BlackPop\",\"LSTAT\",\"MEDV\"])"
   ]
  },
  {
   "cell_type": "code",
   "execution_count": 27,
   "metadata": {},
   "outputs": [
    {
     "data": {
      "text/html": [
       "<div>\n",
       "<style scoped>\n",
       "    .dataframe tbody tr th:only-of-type {\n",
       "        vertical-align: middle;\n",
       "    }\n",
       "\n",
       "    .dataframe tbody tr th {\n",
       "        vertical-align: top;\n",
       "    }\n",
       "\n",
       "    .dataframe thead th {\n",
       "        text-align: right;\n",
       "    }\n",
       "</style>\n",
       "<table border=\"1\" class=\"dataframe\">\n",
       "  <thead>\n",
       "    <tr style=\"text-align: right;\">\n",
       "      <th></th>\n",
       "      <th>index</th>\n",
       "      <th>VARIABLE</th>\n",
       "      <th>p-value_0</th>\n",
       "      <th>p-value_1</th>\n",
       "      <th>p-value_2</th>\n",
       "      <th>p-value_3</th>\n",
       "      <th>y_0</th>\n",
       "      <th>y_1</th>\n",
       "      <th>y_2</th>\n",
       "      <th>y_3</th>\n",
       "      <th>y_All</th>\n",
       "    </tr>\n",
       "  </thead>\n",
       "  <tbody>\n",
       "    <tr>\n",
       "      <th>0</th>\n",
       "      <td>NaN</td>\n",
       "      <td>Effectif</td>\n",
       "      <td>NaN</td>\n",
       "      <td>NaN</td>\n",
       "      <td>NaN</td>\n",
       "      <td>NaN</td>\n",
       "      <td>229.000000</td>\n",
       "      <td>135.000000</td>\n",
       "      <td>91.000000</td>\n",
       "      <td>50.000000</td>\n",
       "      <td>505.000000</td>\n",
       "    </tr>\n",
       "    <tr>\n",
       "      <th>1</th>\n",
       "      <td>6.0</td>\n",
       "      <td>AGE</td>\n",
       "      <td>0.0119987</td>\n",
       "      <td>1.77783e-27</td>\n",
       "      <td>2.71509e-56</td>\n",
       "      <td>5.11718e-13</td>\n",
       "      <td>65.129258</td>\n",
       "      <td>89.896296</td>\n",
       "      <td>30.998901</td>\n",
       "      <td>95.244000</td>\n",
       "      <td>68.581584</td>\n",
       "    </tr>\n",
       "    <tr>\n",
       "      <th>2</th>\n",
       "      <td>11.0</td>\n",
       "      <td>BlackPop</td>\n",
       "      <td>1.63092e-12</td>\n",
       "      <td>8.85317e-28</td>\n",
       "      <td>0.000157946</td>\n",
       "      <td>0.296985</td>\n",
       "      <td>387.399432</td>\n",
       "      <td>287.118889</td>\n",
       "      <td>389.176923</td>\n",
       "      <td>343.790800</td>\n",
       "      <td>356.594376</td>\n",
       "    </tr>\n",
       "    <tr>\n",
       "      <th>3</th>\n",
       "      <td>3.0</td>\n",
       "      <td>CHAS</td>\n",
       "      <td>0.963957</td>\n",
       "      <td>0.592125</td>\n",
       "      <td>0.888998</td>\n",
       "      <td>0.368971</td>\n",
       "      <td>0.069869</td>\n",
       "      <td>0.059259</td>\n",
       "      <td>0.065934</td>\n",
       "      <td>0.100000</td>\n",
       "      <td>0.069307</td>\n",
       "    </tr>\n",
       "    <tr>\n",
       "      <th>4</th>\n",
       "      <td>0.0</td>\n",
       "      <td>CRIM</td>\n",
       "      <td>4.52373e-16</td>\n",
       "      <td>1.82547e-55</td>\n",
       "      <td>1.17669e-05</td>\n",
       "      <td>0.0476852</td>\n",
       "      <td>0.308476</td>\n",
       "      <td>12.480341</td>\n",
       "      <td>0.068979</td>\n",
       "      <td>1.333449</td>\n",
       "      <td>3.620667</td>\n",
       "    </tr>\n",
       "    <tr>\n",
       "      <th>5</th>\n",
       "      <td>7.0</td>\n",
       "      <td>DIS</td>\n",
       "      <td>0.014434</td>\n",
       "      <td>7.41455e-33</td>\n",
       "      <td>6.033e-66</td>\n",
       "      <td>4.41206e-12</td>\n",
       "      <td>4.045979</td>\n",
       "      <td>2.062061</td>\n",
       "      <td>6.784265</td>\n",
       "      <td>1.878524</td>\n",
       "      <td>3.794459</td>\n",
       "    </tr>\n",
       "    <tr>\n",
       "      <th>6</th>\n",
       "      <td>2.0</td>\n",
       "      <td>INDUS</td>\n",
       "      <td>4.55421e-27</td>\n",
       "      <td>1.00411e-54</td>\n",
       "      <td>2.83632e-35</td>\n",
       "      <td>2.41708e-33</td>\n",
       "      <td>7.739301</td>\n",
       "      <td>18.172148</td>\n",
       "      <td>3.657253</td>\n",
       "      <td>21.491000</td>\n",
       "      <td>11.154257</td>\n",
       "    </tr>\n",
       "    <tr>\n",
       "      <th>7</th>\n",
       "      <td>12.0</td>\n",
       "      <td>LSTAT</td>\n",
       "      <td>1.53873e-07</td>\n",
       "      <td>1.93166e-34</td>\n",
       "      <td>2.70177e-25</td>\n",
       "      <td>6.94661e-06</td>\n",
       "      <td>10.859869</td>\n",
       "      <td>18.663407</td>\n",
       "      <td>5.977912</td>\n",
       "      <td>16.940200</td>\n",
       "      <td>12.668257</td>\n",
       "    </tr>\n",
       "    <tr>\n",
       "      <th>8</th>\n",
       "      <td>13.0</td>\n",
       "      <td>MEDV</td>\n",
       "      <td>0.000136782</td>\n",
       "      <td>6.95742e-22</td>\n",
       "      <td>2.91475e-17</td>\n",
       "      <td>0.00132215</td>\n",
       "      <td>24.235371</td>\n",
       "      <td>16.288889</td>\n",
       "      <td>29.669231</td>\n",
       "      <td>18.576000</td>\n",
       "      <td>22.529901</td>\n",
       "    </tr>\n",
       "    <tr>\n",
       "      <th>9</th>\n",
       "      <td>4.0</td>\n",
       "      <td>NOX</td>\n",
       "      <td>9.41727e-18</td>\n",
       "      <td>2.92391e-51</td>\n",
       "      <td>6.78726e-37</td>\n",
       "      <td>2.03938e-20</td>\n",
       "      <td>0.507763</td>\n",
       "      <td>0.670348</td>\n",
       "      <td>0.425318</td>\n",
       "      <td>0.693180</td>\n",
       "      <td>0.554728</td>\n",
       "    </tr>\n",
       "    <tr>\n",
       "      <th>10</th>\n",
       "      <td>10.0</td>\n",
       "      <td>PTRATIO</td>\n",
       "      <td>0.0250624</td>\n",
       "      <td>1.93089e-31</td>\n",
       "      <td>2.86518e-13</td>\n",
       "      <td>0.000901922</td>\n",
       "      <td>18.225328</td>\n",
       "      <td>20.203704</td>\n",
       "      <td>17.000000</td>\n",
       "      <td>17.502000</td>\n",
       "      <td>18.461782</td>\n",
       "    </tr>\n",
       "    <tr>\n",
       "      <th>11</th>\n",
       "      <td>8.0</td>\n",
       "      <td>RAD</td>\n",
       "      <td>3.78911e-36</td>\n",
       "      <td>3.61851e-318</td>\n",
       "      <td>2.8006e-11</td>\n",
       "      <td>5.05052e-06</td>\n",
       "      <td>4.611354</td>\n",
       "      <td>23.562963</td>\n",
       "      <td>4.175824</td>\n",
       "      <td>4.280000</td>\n",
       "      <td>9.566337</td>\n",
       "    </tr>\n",
       "    <tr>\n",
       "      <th>12</th>\n",
       "      <td>5.0</td>\n",
       "      <td>RM</td>\n",
       "      <td>0.174502</td>\n",
       "      <td>1.2524e-07</td>\n",
       "      <td>9.25552e-15</td>\n",
       "      <td>2.07985e-05</td>\n",
       "      <td>6.330734</td>\n",
       "      <td>6.013600</td>\n",
       "      <td>6.786934</td>\n",
       "      <td>5.885300</td>\n",
       "      <td>6.284059</td>\n",
       "    </tr>\n",
       "    <tr>\n",
       "      <th>13</th>\n",
       "      <td>9.0</td>\n",
       "      <td>TAX</td>\n",
       "      <td>6.45556e-47</td>\n",
       "      <td>1.30925e-204</td>\n",
       "      <td>4.91754e-12</td>\n",
       "      <td>0.909412</td>\n",
       "      <td>301.013100</td>\n",
       "      <td>664.577778</td>\n",
       "      <td>300.307692</td>\n",
       "      <td>405.880000</td>\n",
       "      <td>408.459406</td>\n",
       "    </tr>\n",
       "    <tr>\n",
       "      <th>14</th>\n",
       "      <td>1.0</td>\n",
       "      <td>ZN</td>\n",
       "      <td>1.73132e-10</td>\n",
       "      <td>1.58515e-11</td>\n",
       "      <td>5.56646e-127</td>\n",
       "      <td>0.000271933</td>\n",
       "      <td>4.205240</td>\n",
       "      <td>0.000000</td>\n",
       "      <td>52.406593</td>\n",
       "      <td>0.000000</td>\n",
       "      <td>11.350495</td>\n",
       "    </tr>\n",
       "  </tbody>\n",
       "</table>\n",
       "</div>"
      ],
      "text/plain": [
       "    index  VARIABLE    p-value_0     p-value_1     p-value_2    p-value_3  \\\n",
       "0     NaN  Effectif          NaN           NaN           NaN          NaN   \n",
       "1     6.0       AGE    0.0119987   1.77783e-27   2.71509e-56  5.11718e-13   \n",
       "2    11.0  BlackPop  1.63092e-12   8.85317e-28   0.000157946     0.296985   \n",
       "3     3.0      CHAS     0.963957      0.592125      0.888998     0.368971   \n",
       "4     0.0      CRIM  4.52373e-16   1.82547e-55   1.17669e-05    0.0476852   \n",
       "5     7.0       DIS     0.014434   7.41455e-33     6.033e-66  4.41206e-12   \n",
       "6     2.0     INDUS  4.55421e-27   1.00411e-54   2.83632e-35  2.41708e-33   \n",
       "7    12.0     LSTAT  1.53873e-07   1.93166e-34   2.70177e-25  6.94661e-06   \n",
       "8    13.0      MEDV  0.000136782   6.95742e-22   2.91475e-17   0.00132215   \n",
       "9     4.0       NOX  9.41727e-18   2.92391e-51   6.78726e-37  2.03938e-20   \n",
       "10   10.0   PTRATIO    0.0250624   1.93089e-31   2.86518e-13  0.000901922   \n",
       "11    8.0       RAD  3.78911e-36  3.61851e-318    2.8006e-11  5.05052e-06   \n",
       "12    5.0        RM     0.174502    1.2524e-07   9.25552e-15  2.07985e-05   \n",
       "13    9.0       TAX  6.45556e-47  1.30925e-204   4.91754e-12     0.909412   \n",
       "14    1.0        ZN  1.73132e-10   1.58515e-11  5.56646e-127  0.000271933   \n",
       "\n",
       "           y_0         y_1         y_2         y_3       y_All  \n",
       "0   229.000000  135.000000   91.000000   50.000000  505.000000  \n",
       "1    65.129258   89.896296   30.998901   95.244000   68.581584  \n",
       "2   387.399432  287.118889  389.176923  343.790800  356.594376  \n",
       "3     0.069869    0.059259    0.065934    0.100000    0.069307  \n",
       "4     0.308476   12.480341    0.068979    1.333449    3.620667  \n",
       "5     4.045979    2.062061    6.784265    1.878524    3.794459  \n",
       "6     7.739301   18.172148    3.657253   21.491000   11.154257  \n",
       "7    10.859869   18.663407    5.977912   16.940200   12.668257  \n",
       "8    24.235371   16.288889   29.669231   18.576000   22.529901  \n",
       "9     0.507763    0.670348    0.425318    0.693180    0.554728  \n",
       "10   18.225328   20.203704   17.000000   17.502000   18.461782  \n",
       "11    4.611354   23.562963    4.175824    4.280000    9.566337  \n",
       "12    6.330734    6.013600    6.786934    5.885300    6.284059  \n",
       "13  301.013100  664.577778  300.307692  405.880000  408.459406  \n",
       "14    4.205240    0.000000   52.406593    0.000000   11.350495  "
      ]
     },
     "execution_count": 27,
     "metadata": {},
     "output_type": "execute_result"
    }
   ],
   "source": [
    "# Pour chaque variable on a la moyenne de la variable par classe de la typologie et la pvalue associée\n",
    "stats"
   ]
  },
  {
   "cell_type": "code",
   "execution_count": 41,
   "metadata": {},
   "outputs": [
    {
     "data": {
      "text/plain": [
       "Index(['VARIABLE', 'p-value_0', 'p-value_1', 'p-value_2', 'p-value_3', 'y_0',\n",
       "       'y_1', 'y_2', 'y_3', 'y_All'],\n",
       "      dtype='object')"
      ]
     },
     "execution_count": 41,
     "metadata": {},
     "output_type": "execute_result"
    }
   ],
   "source": [
    "stats.columns"
   ]
  },
  {
   "cell_type": "code",
   "execution_count": 30,
   "metadata": {},
   "outputs": [],
   "source": [
    "# Fonction qui calcule pour chaque variable numérique si la typologie explique bien leur variance\n",
    "pouvoirDiscrimant=pouvoir_discriminant(typologie, 'Typologie', [\"CRIM\",\"ZN\",\"INDUS\",\"NOX\",\"RM\",\"AGE\",\"DIS\",\"RAD\",\"TAX\", \"PTRATIO\",\"BlackPop\",\"LSTAT\",\"MEDV\"])\n"
   ]
  },
  {
   "cell_type": "code",
   "execution_count": 31,
   "metadata": {},
   "outputs": [
    {
     "data": {
      "text/html": [
       "<div>\n",
       "<style scoped>\n",
       "    .dataframe tbody tr th:only-of-type {\n",
       "        vertical-align: middle;\n",
       "    }\n",
       "\n",
       "    .dataframe tbody tr th {\n",
       "        vertical-align: top;\n",
       "    }\n",
       "\n",
       "    .dataframe thead th {\n",
       "        text-align: right;\n",
       "    }\n",
       "</style>\n",
       "<table border=\"1\" class=\"dataframe\">\n",
       "  <thead>\n",
       "    <tr style=\"text-align: right;\">\n",
       "      <th></th>\n",
       "      <th>Variable</th>\n",
       "      <th>VB</th>\n",
       "      <th>VW</th>\n",
       "      <th>VT</th>\n",
       "      <th>Calinski</th>\n",
       "      <th>TxVarWithin</th>\n",
       "      <th>TxVarBetween</th>\n",
       "    </tr>\n",
       "  </thead>\n",
       "  <tbody>\n",
       "    <tr>\n",
       "      <th>8</th>\n",
       "      <td>RAD</td>\n",
       "      <td>3.611114e+04</td>\n",
       "      <td>2.102892e+03</td>\n",
       "      <td>3.821403e+04</td>\n",
       "      <td>2867.745627</td>\n",
       "      <td>5.50</td>\n",
       "      <td>94.50</td>\n",
       "    </tr>\n",
       "    <tr>\n",
       "      <th>9</th>\n",
       "      <td>TAX</td>\n",
       "      <td>1.256402e+07</td>\n",
       "      <td>1.767759e+06</td>\n",
       "      <td>1.433178e+07</td>\n",
       "      <td>1186.922166</td>\n",
       "      <td>12.33</td>\n",
       "      <td>87.67</td>\n",
       "    </tr>\n",
       "    <tr>\n",
       "      <th>2</th>\n",
       "      <td>INDUS</td>\n",
       "      <td>1.977651e+04</td>\n",
       "      <td>3.912965e+03</td>\n",
       "      <td>2.368948e+04</td>\n",
       "      <td>844.034511</td>\n",
       "      <td>16.52</td>\n",
       "      <td>83.48</td>\n",
       "    </tr>\n",
       "    <tr>\n",
       "      <th>4</th>\n",
       "      <td>NOX</td>\n",
       "      <td>4.792213e+00</td>\n",
       "      <td>1.988463e+00</td>\n",
       "      <td>6.780677e+00</td>\n",
       "      <td>402.471420</td>\n",
       "      <td>29.33</td>\n",
       "      <td>70.67</td>\n",
       "    </tr>\n",
       "    <tr>\n",
       "      <th>1</th>\n",
       "      <td>ZN</td>\n",
       "      <td>1.889157e+05</td>\n",
       "      <td>8.572831e+04</td>\n",
       "      <td>2.746440e+05</td>\n",
       "      <td>368.010452</td>\n",
       "      <td>31.21</td>\n",
       "      <td>68.79</td>\n",
       "    </tr>\n",
       "    <tr>\n",
       "      <th>7</th>\n",
       "      <td>DIS</td>\n",
       "      <td>1.416633e+03</td>\n",
       "      <td>8.224572e+02</td>\n",
       "      <td>2.239090e+03</td>\n",
       "      <td>287.647523</td>\n",
       "      <td>36.73</td>\n",
       "      <td>63.27</td>\n",
       "    </tr>\n",
       "    <tr>\n",
       "      <th>6</th>\n",
       "      <td>AGE</td>\n",
       "      <td>2.281400e+05</td>\n",
       "      <td>1.719895e+05</td>\n",
       "      <td>4.001296e+05</td>\n",
       "      <td>221.521543</td>\n",
       "      <td>42.98</td>\n",
       "      <td>57.02</td>\n",
       "    </tr>\n",
       "    <tr>\n",
       "      <th>12</th>\n",
       "      <td>LSTAT</td>\n",
       "      <td>1.058674e+04</td>\n",
       "      <td>1.510662e+04</td>\n",
       "      <td>2.569336e+04</td>\n",
       "      <td>117.033782</td>\n",
       "      <td>58.80</td>\n",
       "      <td>41.20</td>\n",
       "    </tr>\n",
       "    <tr>\n",
       "      <th>0</th>\n",
       "      <td>CRIM</td>\n",
       "      <td>1.451842e+04</td>\n",
       "      <td>2.283176e+04</td>\n",
       "      <td>3.735018e+04</td>\n",
       "      <td>106.193127</td>\n",
       "      <td>61.13</td>\n",
       "      <td>38.87</td>\n",
       "    </tr>\n",
       "    <tr>\n",
       "      <th>10</th>\n",
       "      <td>PTRATIO</td>\n",
       "      <td>6.629413e+02</td>\n",
       "      <td>1.694011e+03</td>\n",
       "      <td>2.356952e+03</td>\n",
       "      <td>65.354476</td>\n",
       "      <td>71.87</td>\n",
       "      <td>28.13</td>\n",
       "    </tr>\n",
       "    <tr>\n",
       "      <th>13</th>\n",
       "      <td>MEDV</td>\n",
       "      <td>1.134430e+04</td>\n",
       "      <td>3.136984e+04</td>\n",
       "      <td>4.271414e+04</td>\n",
       "      <td>60.392320</td>\n",
       "      <td>73.44</td>\n",
       "      <td>26.56</td>\n",
       "    </tr>\n",
       "    <tr>\n",
       "      <th>11</th>\n",
       "      <td>BlackPop</td>\n",
       "      <td>9.737380e+05</td>\n",
       "      <td>3.233691e+06</td>\n",
       "      <td>4.207429e+06</td>\n",
       "      <td>50.287507</td>\n",
       "      <td>76.86</td>\n",
       "      <td>23.14</td>\n",
       "    </tr>\n",
       "    <tr>\n",
       "      <th>5</th>\n",
       "      <td>RM</td>\n",
       "      <td>4.133669e+01</td>\n",
       "      <td>2.078826e+02</td>\n",
       "      <td>2.492193e+02</td>\n",
       "      <td>33.207335</td>\n",
       "      <td>83.41</td>\n",
       "      <td>16.59</td>\n",
       "    </tr>\n",
       "    <tr>\n",
       "      <th>3</th>\n",
       "      <td>CHAS</td>\n",
       "      <td>6.183983e-02</td>\n",
       "      <td>3.251242e+01</td>\n",
       "      <td>3.257426e+01</td>\n",
       "      <td>0.317640</td>\n",
       "      <td>99.81</td>\n",
       "      <td>0.19</td>\n",
       "    </tr>\n",
       "  </tbody>\n",
       "</table>\n",
       "</div>"
      ],
      "text/plain": [
       "    Variable            VB            VW            VT     Calinski  \\\n",
       "8        RAD  3.611114e+04  2.102892e+03  3.821403e+04  2867.745627   \n",
       "9        TAX  1.256402e+07  1.767759e+06  1.433178e+07  1186.922166   \n",
       "2      INDUS  1.977651e+04  3.912965e+03  2.368948e+04   844.034511   \n",
       "4        NOX  4.792213e+00  1.988463e+00  6.780677e+00   402.471420   \n",
       "1         ZN  1.889157e+05  8.572831e+04  2.746440e+05   368.010452   \n",
       "7        DIS  1.416633e+03  8.224572e+02  2.239090e+03   287.647523   \n",
       "6        AGE  2.281400e+05  1.719895e+05  4.001296e+05   221.521543   \n",
       "12     LSTAT  1.058674e+04  1.510662e+04  2.569336e+04   117.033782   \n",
       "0       CRIM  1.451842e+04  2.283176e+04  3.735018e+04   106.193127   \n",
       "10   PTRATIO  6.629413e+02  1.694011e+03  2.356952e+03    65.354476   \n",
       "13      MEDV  1.134430e+04  3.136984e+04  4.271414e+04    60.392320   \n",
       "11  BlackPop  9.737380e+05  3.233691e+06  4.207429e+06    50.287507   \n",
       "5         RM  4.133669e+01  2.078826e+02  2.492193e+02    33.207335   \n",
       "3       CHAS  6.183983e-02  3.251242e+01  3.257426e+01     0.317640   \n",
       "\n",
       "    TxVarWithin  TxVarBetween  \n",
       "8          5.50         94.50  \n",
       "9         12.33         87.67  \n",
       "2         16.52         83.48  \n",
       "4         29.33         70.67  \n",
       "1         31.21         68.79  \n",
       "7         36.73         63.27  \n",
       "6         42.98         57.02  \n",
       "12        58.80         41.20  \n",
       "0         61.13         38.87  \n",
       "10        71.87         28.13  \n",
       "13        73.44         26.56  \n",
       "11        76.86         23.14  \n",
       "5         83.41         16.59  \n",
       "3         99.81          0.19  "
      ]
     },
     "execution_count": 31,
     "metadata": {},
     "output_type": "execute_result"
    }
   ],
   "source": [
    "pouvoirDiscrimant"
   ]
  },
  {
   "cell_type": "code",
   "execution_count": null,
   "metadata": {},
   "outputs": [],
   "source": [
    "# la classe  : ventre mou (40% dela base)\n",
    "# la classe  : villes proche de l'hypercentre\n",
    "# la classe  : banlieue plus pauvres mais proches bassins demplo \n",
    "# la classe  : banlieues rÃ©sidentielles"
   ]
  },
  {
   "cell_type": "markdown",
   "metadata": {},
   "source": [
    "## Réaffection\n",
    "\n",
    "\n",
    "#Dans cette section, il s’agit de proposer des techniques d’affectation à une segmentation pré-existante et dont nous possédons un échantillon : nous avons des observations sur des individus dont nous connaissons le segment. On est ici dans un cadre de classification supervisée.\n",
    "#On commence par séparer notre base en deux : une partie pour apprendre le lien entre les variables explicatives et la cible (la classe d’appartenance du client : ici la classification mixte), et une autre sur laquelle on évalue la qualité de la méthode d’affectation - principe de ne pas être juge et partie.\n",
    "#On choisit la taille respective des bases - ici 75% pour l’apprentissage - , puis on tire 75% des lignes au hasard que l’on affecte à la base train, le reste étant affecté à test.\n"
   ]
  },
  {
   "cell_type": "code",
   "execution_count": 27,
   "metadata": {},
   "outputs": [],
   "source": [
    "rateEch = 0.75\n",
    "from sklearn.model_selection import train_test_split \n",
    "X_train, X_test, y_train, y_test = train_test_split(typologie[[\"CRIM\",\"ZN\",\"INDUS\",\"CHAS\",\"NOX\",\"RM\",\"AGE\",\"DIS\",\"RAD\",\"TAX\", \"PTRATIO\",\"BlackPop\",\"LSTAT\"]],typologie.Typologie,train_size = np.round(len(typologie) * rateEch).astype(int), random_state = 2016)"
   ]
  },
  {
   "cell_type": "code",
   "execution_count": 28,
   "metadata": {},
   "outputs": [
    {
     "data": {
      "text/plain": [
       "KNeighborsClassifier(algorithm='auto', leaf_size=30, metric='minkowski',\n",
       "                     metric_params=None, n_jobs=None, n_neighbors=8, p=2,\n",
       "                     weights='uniform')"
      ]
     },
     "execution_count": 28,
     "metadata": {},
     "output_type": "execute_result"
    }
   ],
   "source": [
    "#Plus proches voisins\n",
    "\n",
    "#On cherche les plus proches voisins de chaque individu et on lui affecte la classe majoritaire parmi ses voisins. \n",
    "#Le paramètre de la méthode est le nombre K de voisins - ici K = 8.\n",
    "from sklearn.neighbors import KNeighborsClassifier\n",
    "\n",
    "knn = KNeighborsClassifier(n_neighbors = 8)\n",
    "knn.fit(X_train,y_train)"
   ]
  },
  {
   "cell_type": "code",
   "execution_count": 29,
   "metadata": {},
   "outputs": [],
   "source": [
    "# ech test\n",
    "y_pred_test = knn.predict(X_test)"
   ]
  },
  {
   "cell_type": "code",
   "execution_count": 30,
   "metadata": {},
   "outputs": [
    {
     "name": "stdout",
     "output_type": "stream",
     "text": [
      "Typologie         0    1         2      3\n",
      "row_0                                    \n",
      "0          0.984127  0.0  0.015873  0.000\n",
      "1          0.000000  1.0  0.000000  0.000\n",
      "2          0.125000  0.0  0.875000  0.000\n",
      "3          0.125000  0.0  0.000000  0.875\n",
      "Typologie         0    1         2    3\n",
      "row_0                                  \n",
      "0          0.953846  0.0  0.066667  0.0\n",
      "1          0.000000  1.0  0.000000  0.0\n",
      "2          0.030769  0.0  0.933333  0.0\n",
      "3          0.015385  0.0  0.000000  1.0\n"
     ]
    }
   ],
   "source": [
    "\n",
    "#La qualité de la méthode se lit sur la matrice de confusion. Cette méthode est utilisée sur les variables quantitatives.\n",
    "print(pd.crosstab(y_pred_test, y_test,normalize='index'))\n",
    "print(pd.crosstab(y_pred_test, y_test,normalize='columns'))"
   ]
  },
  {
   "cell_type": "code",
   "execution_count": 32,
   "metadata": {},
   "outputs": [
    {
     "name": "stdout",
     "output_type": "stream",
     "text": [
      "[[62  0  2  1]\n",
      " [ 0 39  0  0]\n",
      " [ 1  0 14  0]\n",
      " [ 0  0  0  7]]\n",
      "[array([0.95384615, 0.        , 0.03076923, 0.01538462]), array([0., 1., 0., 0.]), array([0.06666667, 0.        , 0.93333333, 0.        ]), array([0., 0., 0., 1.])]\n"
     ]
    }
   ],
   "source": [
    "from sklearn.metrics import confusion_matrix,accuracy_score\n",
    "accuracy_score(y_test,y_pred_test)\n",
    "\n",
    "# 91% de bien classés sur lech test\n",
    "print(confusion_matrix(y_test,y_pred_test))\n",
    "print(list(map(lambda x:x/sum(x),confusion_matrix(y_test,y_pred_test))))\n",
    "\n"
   ]
  },
  {
   "cell_type": "code",
   "execution_count": 33,
   "metadata": {},
   "outputs": [],
   "source": [
    "stat=pd.DataFrame(list(map(lambda x:x/sum(x),confusion_matrix(y_test,y_pred_test))))\n",
    "\n",
    "# individu décrit sur ses variables originales\n",
    "housing_new= pd.read_csv('boston_new.csv',index_col=False,sep=',',\n",
    "names=[\"CRIM\",\"ZN\",\"INDUS\",\"CHAS\",\"NOX\",\"RM\",\"AGE\",\"DIS\",\"RAD\",\"TAX\", \"PTRATIO\",\"BlackPop\",\"LSTAT\",\"MEDV\"])\n",
    "\n",
    "# prédiction : on compare l'individu à la base de connaissance\n",
    "predictions=knn.predict(housing_new[[\"CRIM\",\"ZN\",\"INDUS\",\"CHAS\",\"NOX\",\"RM\",\"AGE\",\"DIS\",\"RAD\",\"TAX\", \"PTRATIO\",\"BlackPop\",\"LSTAT\"]])\n"
   ]
  },
  {
   "cell_type": "code",
   "execution_count": 34,
   "metadata": {},
   "outputs": [
    {
     "data": {
      "text/plain": [
       "array([0])"
      ]
     },
     "execution_count": 34,
     "metadata": {},
     "output_type": "execute_result"
    }
   ],
   "source": [
    "predictions"
   ]
  },
  {
   "cell_type": "code",
   "execution_count": null,
   "metadata": {},
   "outputs": [],
   "source": [
    "### AFFECTATIONS AUX BARYCENTRES\n",
    "\n",
    "### un nouvel individu vous le projetez dans l'espace de ACP => CP1, CP2, CP3\n",
    "### chaque segment est représenté par un barycentre CP1, CP2, CP3\n",
    "### Il suffit de calculer la minj (dist(i,j)) = le segment gagnant le barycentre qui esst le plus proche de i\n",
    "\n",
    "### Input : garder le modele de l'ACP (vecteurs propres/singuliers), pas oublier de centrer /réduire avant d'appliquer l'ACP"
   ]
  }
 ],
 "metadata": {
  "environment": {
   "name": "tf2-gpu.2-1.m46",
   "type": "gcloud",
   "uri": "gcr.io/deeplearning-platform-release/tf2-gpu.2-1:m46"
  },
  "kernelspec": {
   "display_name": "Python 3",
   "language": "python",
   "name": "python3"
  },
  "language_info": {
   "codemirror_mode": {
    "name": "ipython",
    "version": 3
   },
   "file_extension": ".py",
   "mimetype": "text/x-python",
   "name": "python",
   "nbconvert_exporter": "python",
   "pygments_lexer": "ipython3",
   "version": "3.7.6"
  }
 },
 "nbformat": 4,
 "nbformat_minor": 4
}
