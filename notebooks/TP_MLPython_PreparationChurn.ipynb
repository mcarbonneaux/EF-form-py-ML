{
 "cells": [
  {
   "cell_type": "code",
   "execution_count": 4,
   "metadata": {},
   "outputs": [],
   "source": [
    "#############################################################################################\n",
    "# Librairies\n",
    "#############################################################################################\n",
    "\n",
    "import pandas as pd\n",
    "import numpy as np\n",
    "#import pylab as pl\n",
    "import sys\n",
    "sys.path.append(\"C:\\\\Users\\\\dgr\\\\OneDrive - Publicis Groupe\\\\Documents\\\\Formations\\\\SCU Python\\\\NEW\\\\modules\")\n",
    "sys.path\n",
    "#import module_lift as mdl\n",
    "import os\n",
    "repertoire = \"C:\\\\Users\\\\dgr\\\\OneDrive - Publicis Groupe\\\\Documents\\\\Formations\\\\SCU Python\\\\NEW\\\\data\"\n",
    "os.chdir(repertoire)"
   ]
  },
  {
   "cell_type": "markdown",
   "metadata": {},
   "source": [
    "## Data : score attrition Telco"
   ]
  },
  {
   "cell_type": "code",
   "execution_count": 5,
   "metadata": {},
   "outputs": [
    {
     "name": "stdout",
     "output_type": "stream",
     "text": [
      "<class 'pandas.core.frame.DataFrame'>\n",
      "RangeIndex: 3333 entries, 0 to 3332\n",
      "Data columns (total 21 columns):\n",
      " #   Column          Non-Null Count  Dtype  \n",
      "---  ------          --------------  -----  \n",
      " 0   State           3333 non-null   object \n",
      " 1   Account Length  3333 non-null   int64  \n",
      " 2   Area Code       3333 non-null   int64  \n",
      " 3   Phone           3333 non-null   object \n",
      " 4   Int'l Plan      3333 non-null   object \n",
      " 5   VMail Plan      3333 non-null   object \n",
      " 6   VMail Message   3333 non-null   int64  \n",
      " 7   Day Mins        3333 non-null   float64\n",
      " 8   Day Calls       3333 non-null   int64  \n",
      " 9   Day Charge      3333 non-null   float64\n",
      " 10  Eve Mins        3333 non-null   float64\n",
      " 11  Eve Calls       3333 non-null   int64  \n",
      " 12  Eve Charge      3333 non-null   float64\n",
      " 13  Night Mins      3333 non-null   float64\n",
      " 14  Night Calls     3333 non-null   int64  \n",
      " 15  Night Charge    3333 non-null   float64\n",
      " 16  Intl Mins       3333 non-null   float64\n",
      " 17  Intl Calls      3333 non-null   int64  \n",
      " 18  Intl Charge     3333 non-null   float64\n",
      " 19  CustServ Calls  3333 non-null   int64  \n",
      " 20  Churn?          3333 non-null   object \n",
      "dtypes: float64(8), int64(8), object(5)\n",
      "memory usage: 546.9+ KB\n",
      "Column names:\n",
      "['State', 'Account Length', 'Area Code', 'Phone', \"Int'l Plan\", 'VMail Plan', 'VMail Message', 'Day Mins', 'Day Calls', 'Day Charge', 'Eve Mins', 'Eve Calls', 'Eve Charge', 'Night Mins', 'Night Calls', 'Night Charge', 'Intl Mins', 'Intl Calls', 'Intl Charge', 'CustServ Calls', 'Churn?']\n"
     ]
    }
   ],
   "source": [
    "_churn_df = pd.read_csv('churn.csv')\n",
    "_churn_df.dtypes\n",
    "# nb de lignes 3333\n",
    "_churn_df.shape[0]\n",
    "# nb de vars 21\n",
    "_churn_df.shape[1]\n",
    "_churn_df.info()\n",
    "_churn_df.columns\n",
    "churn_df=_churn_df\n",
    "churn_df['Area Code']=churn_df['Area Code'].astype(str)\n",
    "stats = churn_df.describe(include='all')\n",
    "# On récupère les colonnes et on les stocke dans une liste\n",
    "col_names = churn_df.columns.tolist()\n",
    "print( \"Column names:\")\n",
    "print(col_names)"
   ]
  },
  {
   "cell_type": "code",
   "execution_count": 6,
   "metadata": {},
   "outputs": [
    {
     "name": "stdout",
     "output_type": "stream",
     "text": [
      "0.14491449144914492\n"
     ]
    }
   ],
   "source": [
    "# Création d'un vecteur y contenant la variable cible binarisée\n",
    "y = np.array((churn_df['Churn?'] == 'True.'))\n",
    "# ou\n",
    "#y = np.where(churn_df['Churn?'] == 'True.',1,0)\n",
    "print(y.mean())\n",
    "# 14.5% de churners\n"
   ]
  },
  {
   "cell_type": "code",
   "execution_count": 7,
   "metadata": {},
   "outputs": [
    {
     "data": {
      "text/html": [
       "<div>\n",
       "<style scoped>\n",
       "    .dataframe tbody tr th:only-of-type {\n",
       "        vertical-align: middle;\n",
       "    }\n",
       "\n",
       "    .dataframe tbody tr th {\n",
       "        vertical-align: top;\n",
       "    }\n",
       "\n",
       "    .dataframe thead th {\n",
       "        text-align: right;\n",
       "    }\n",
       "</style>\n",
       "<table border=\"1\" class=\"dataframe\">\n",
       "  <thead>\n",
       "    <tr style=\"text-align: right;\">\n",
       "      <th>col_0</th>\n",
       "      <th>count</th>\n",
       "    </tr>\n",
       "    <tr>\n",
       "      <th>row_0</th>\n",
       "      <th></th>\n",
       "    </tr>\n",
       "  </thead>\n",
       "  <tbody>\n",
       "    <tr>\n",
       "      <th>False</th>\n",
       "      <td>2850</td>\n",
       "    </tr>\n",
       "    <tr>\n",
       "      <th>True</th>\n",
       "      <td>483</td>\n",
       "    </tr>\n",
       "  </tbody>\n",
       "</table>\n",
       "</div>"
      ],
      "text/plain": [
       "col_0  count\n",
       "row_0       \n",
       "False   2850\n",
       "True     483"
      ]
     },
     "execution_count": 7,
     "metadata": {},
     "output_type": "execute_result"
    }
   ],
   "source": [
    "pd.crosstab(y, columns = 'count')\n"
   ]
  },
  {
   "cell_type": "code",
   "execution_count": 8,
   "metadata": {},
   "outputs": [
    {
     "name": "stdout",
     "output_type": "stream",
     "text": [
      "col_0     count\n",
      "row_0          \n",
      "False  0.855086\n",
      "True   0.144914\n",
      "col_0         False     True \n",
      "Area Code                    \n",
      "408        0.854415  0.145585\n",
      "415        0.857402  0.142598\n",
      "510        0.851190  0.148810\n"
     ]
    }
   ],
   "source": [
    "#\tEn %\n",
    "print(pd.crosstab(y, columns = 'count', normalize=True))\n",
    "# col area\n",
    "print(pd.crosstab(churn_df['Area Code'],y, normalize='index'))\n",
    "#print(pd.crosstab(churn_df['Area Code'],y).apply(lambda r: r/r.sum(), axis=1))\n",
    "# flat mais pour la pédagogie on va quand même l'encoder"
   ]
  },
  {
   "cell_type": "code",
   "execution_count": 9,
   "metadata": {},
   "outputs": [
    {
     "name": "stdout",
     "output_type": "stream",
     "text": [
      "col_0          False     True \n",
      "Int'l Plan                    \n",
      "no          0.885050  0.114950\n",
      "yes         0.575851  0.424149\n",
      "col_0          False     True \n",
      "VMail Plan                    \n",
      "no          0.832849  0.167151\n",
      "yes         0.913232  0.086768\n"
     ]
    }
   ],
   "source": [
    "\n",
    "# par contre les deux var qui indiquent si le client paie pour un service international ou VM sont très discriminantes\n",
    "print(pd.crosstab(churn_df[\"Int'l Plan\"],y, normalize='index'))\n",
    "print(pd.crosstab(churn_df[\"VMail Plan\"],y, normalize='index'))"
   ]
  },
  {
   "cell_type": "code",
   "execution_count": 10,
   "metadata": {},
   "outputs": [],
   "source": [
    " #  les dummies\n",
    "pd.get_dummies(churn_df['Area Code'],prefix='area_', drop_first=True)\n",
    "# jointure selon l'index des lignes (par défaut )\n",
    "churn_df = pd.concat([churn_df,pd.get_dummies(churn_df['Area Code'],prefix='area_', drop_first=True)],axis=1)\n",
    "#  drop l'original\n",
    "churn_df.drop(['Area Code'],axis=1, inplace=True)"
   ]
  },
  {
   "cell_type": "code",
   "execution_count": 11,
   "metadata": {},
   "outputs": [],
   "source": [
    "del _churn_df , repertoire\n",
    "#from sklearn.preprocessing import OneHotEncoder\n",
    "#onehot_encoder = OneHotEncoder(sparse=False)\n",
    "#area_2d = np.array(churn_df['Area Code']).reshape(len(churn_df['Area Code']), 1)\n",
    "#area = onehot_encoder.fit_transform(area_2d)"
   ]
  },
  {
   "cell_type": "code",
   "execution_count": 12,
   "metadata": {},
   "outputs": [
    {
     "name": "stdout",
     "output_type": "stream",
     "text": [
      "col_0     False     True \n",
      "State                    \n",
      "AK     0.942308  0.057692\n",
      "AL     0.900000  0.100000\n",
      "AR     0.800000  0.200000\n",
      "AZ     0.937500  0.062500\n",
      "CA     0.735294  0.264706\n",
      "CO     0.863636  0.136364\n",
      "CT     0.837838  0.162162\n",
      "DC     0.907407  0.092593\n",
      "DE     0.852459  0.147541\n",
      "FL     0.873016  0.126984\n",
      "GA     0.851852  0.148148\n",
      "HI     0.943396  0.056604\n",
      "IA     0.931818  0.068182\n",
      "ID     0.876712  0.123288\n",
      "IL     0.913793  0.086207\n",
      "IN     0.873239  0.126761\n",
      "KS     0.814286  0.185714\n",
      "KY     0.864407  0.135593\n",
      "LA     0.921569  0.078431\n",
      "MA     0.830769  0.169231\n",
      "MD     0.757143  0.242857\n",
      "ME     0.790323  0.209677\n",
      "MI     0.780822  0.219178\n",
      "MN     0.821429  0.178571\n",
      "MO     0.888889  0.111111\n",
      "MS     0.784615  0.215385\n",
      "MT     0.794118  0.205882\n",
      "NC     0.838235  0.161765\n",
      "ND     0.903226  0.096774\n",
      "NE     0.918033  0.081967\n",
      "NH     0.839286  0.160714\n",
      "NJ     0.735294  0.264706\n",
      "NM     0.903226  0.096774\n",
      "NV     0.787879  0.212121\n",
      "NY     0.819277  0.180723\n",
      "OH     0.871795  0.128205\n",
      "OK     0.852459  0.147541\n",
      "OR     0.858974  0.141026\n",
      "PA     0.822222  0.177778\n",
      "RI     0.907692  0.092308\n",
      "SC     0.766667  0.233333\n",
      "SD     0.866667  0.133333\n",
      "TN     0.905660  0.094340\n",
      "TX     0.750000  0.250000\n",
      "UT     0.861111  0.138889\n",
      "VA     0.935065  0.064935\n",
      "VT     0.890411  0.109589\n",
      "WA     0.787879  0.212121\n",
      "WI     0.910256  0.089744\n",
      "WV     0.905660  0.094340\n",
      "WY     0.883117  0.116883\n"
     ]
    }
   ],
   "source": [
    "\n",
    "\n",
    "# étude du state\n",
    "#print(pd.crosstab(churn_df['State'],y))\n",
    "print(pd.crosstab(churn_df['State'],y,normalize='index'))\n",
    "\n",
    "#print(pd.crosstab(churn_df['State'],y).apply(lambda r: r/r.sum(), axis=1))\n"
   ]
  },
  {
   "cell_type": "code",
   "execution_count": 13,
   "metadata": {},
   "outputs": [
    {
     "data": {
      "text/plain": [
       "51"
      ]
     },
     "execution_count": 13,
     "metadata": {},
     "output_type": "execute_result"
    }
   ],
   "source": [
    "len(churn_df['State'].unique())\n",
    "# 51 valeurs\n",
    "# soit on garde et on crée des dummy\n",
    "# soit on fait une stratégie qui consiste à remplacer la modalité par le taux de 1\n",
    "# par contre il faut le faire sur l'ech dapp sinon on triche\n"
   ]
  },
  {
   "cell_type": "markdown",
   "metadata": {},
   "source": [
    "## Feature engineering sur la variable STATE"
   ]
  },
  {
   "cell_type": "code",
   "execution_count": 15,
   "metadata": {},
   "outputs": [],
   "source": [
    "\n",
    "# split Apprentissage Test\n",
    "from sklearn.model_selection import train_test_split \n",
    "state_train, state_test, y_train, y_test = train_test_split(churn_df['State'],y, test_size=0.4)"
   ]
  },
  {
   "cell_type": "code",
   "execution_count": 16,
   "metadata": {},
   "outputs": [],
   "source": [
    "taux_reponse_state_train=pd.crosstab(state_train,y_train).apply(lambda r: r/r.sum(), axis=1)[1]\n",
    "taux_reponse_state_test=pd.crosstab(state_test,y_test).apply(lambda r: r/r.sum(), axis=1)[1]\n",
    "del state_test,y_test,  taux_reponse_state_test\n",
    "del state_train"
   ]
  },
  {
   "cell_type": "code",
   "execution_count": 17,
   "metadata": {},
   "outputs": [],
   "source": [
    "# on remplace le state par le taux de reponse associé\n",
    "list(taux_reponse_state_train)\n",
    "# replace une liste par une liste\n",
    "churn_df['State'].replace(list(taux_reponse_state_train.index), list(taux_reponse_state_train), inplace=True)\n",
    "churn_df.rename(columns={\"State\": \"churnMoy_state\"},inplace=True)"
   ]
  },
  {
   "cell_type": "code",
   "execution_count": 18,
   "metadata": {},
   "outputs": [],
   "source": [
    "\n",
    "\n",
    "# X\n",
    "to_drop=['Phone','Churn?']\n",
    "churn_X = churn_df.drop(to_drop,axis=1)\n",
    "churn_X.describe()\n",
    "# 'yes'/'no' has to be converted to boolean values\n",
    "# NumPy converts these from boolean to 1. and 0. later\n",
    "yes_no_cols = [\"Int'l Plan\",\"VMail Plan\"]\n",
    "churn_X[yes_no_cols] = churn_X[yes_no_cols] == 'yes'\n"
   ]
  },
  {
   "cell_type": "code",
   "execution_count": 19,
   "metadata": {},
   "outputs": [],
   "source": [
    "# supprime les objets intermédiaires\n",
    "del to_drop,yes_no_cols"
   ]
  },
  {
   "cell_type": "code",
   "execution_count": 20,
   "metadata": {},
   "outputs": [
    {
     "data": {
      "text/plain": [
       "churnMoy_state    float64\n",
       "Account Length      int64\n",
       "Int'l Plan           bool\n",
       "VMail Plan           bool\n",
       "VMail Message       int64\n",
       "Day Mins          float64\n",
       "Day Calls           int64\n",
       "Day Charge        float64\n",
       "Eve Mins          float64\n",
       "Eve Calls           int64\n",
       "Eve Charge        float64\n",
       "Night Mins        float64\n",
       "Night Calls         int64\n",
       "Night Charge      float64\n",
       "Intl Mins         float64\n",
       "Intl Calls          int64\n",
       "Intl Charge       float64\n",
       "CustServ Calls      int64\n",
       "area__415           uint8\n",
       "area__510           uint8\n",
       "dtype: object"
      ]
     },
     "execution_count": 20,
     "metadata": {},
     "output_type": "execute_result"
    }
   ],
   "source": [
    "\n",
    "\n",
    "\n",
    "# Stocke les noms des X \n",
    "features = list(churn_X.columns)\n",
    "churn_X.dtypes"
   ]
  },
  {
   "cell_type": "code",
   "execution_count": 21,
   "metadata": {},
   "outputs": [],
   "source": [
    "# Normalisation \n",
    "from sklearn.preprocessing import StandardScaler\n",
    "\n",
    "# centrer réduire (données doivent être float et pas int)\n",
    "norm=StandardScaler().fit(churn_X.astype(float))\n",
    "\n",
    "# on applique le centrage réduction\n",
    "X = norm.transform(churn_X.astype(float))\n",
    "\n",
    "# on aurait pu écrire : X=StandardScaler().fit_transform(churn_X.astype(float))"
   ]
  },
  {
   "cell_type": "code",
   "execution_count": 22,
   "metadata": {},
   "outputs": [
    {
     "name": "stdout",
     "output_type": "stream",
     "text": [
      "Feature space holds 3333 observations and 20 features\n",
      "Unique target labels: [False  True]\n"
     ]
    }
   ],
   "source": [
    "# X en dataframe\n",
    "X = pd.DataFrame(X)\n",
    "# on récupère les noms de col\n",
    "X.columns = churn_X.columns\n",
    "X.dtypes\n",
    "print (\"Feature space holds %d observations and %d features\" % X.shape)\n",
    "print ( \"Unique target labels:\", np.unique(y))\n",
    "\n",
    "del taux_reponse_state_train,churn_X,y_train"
   ]
  },
  {
   "cell_type": "markdown",
   "metadata": {},
   "source": [
    "## Partition Apprentissage Test"
   ]
  },
  {
   "cell_type": "code",
   "execution_count": 24,
   "metadata": {},
   "outputs": [],
   "source": [
    "\n",
    "# split Apprentissage Test\n",
    "from sklearn.model_selection import train_test_split \n",
    "X_train, X_test, y_train, y_test = train_test_split(X,y, test_size=0.4,random_state=123)\n"
   ]
  },
  {
   "cell_type": "markdown",
   "metadata": {},
   "source": [
    "## Analyse distribution des variables"
   ]
  },
  {
   "cell_type": "code",
   "execution_count": 26,
   "metadata": {},
   "outputs": [
    {
     "data": {
      "text/html": [
       "<div>\n",
       "<style scoped>\n",
       "    .dataframe tbody tr th:only-of-type {\n",
       "        vertical-align: middle;\n",
       "    }\n",
       "\n",
       "    .dataframe tbody tr th {\n",
       "        vertical-align: top;\n",
       "    }\n",
       "\n",
       "    .dataframe thead th {\n",
       "        text-align: right;\n",
       "    }\n",
       "</style>\n",
       "<table border=\"1\" class=\"dataframe\">\n",
       "  <thead>\n",
       "    <tr style=\"text-align: right;\">\n",
       "      <th></th>\n",
       "      <th>churnMoy_state</th>\n",
       "      <th>Account Length</th>\n",
       "      <th>Int'l Plan</th>\n",
       "      <th>VMail Plan</th>\n",
       "      <th>VMail Message</th>\n",
       "      <th>Day Mins</th>\n",
       "      <th>Day Calls</th>\n",
       "      <th>Day Charge</th>\n",
       "      <th>Eve Mins</th>\n",
       "      <th>Eve Calls</th>\n",
       "      <th>Eve Charge</th>\n",
       "      <th>Night Mins</th>\n",
       "      <th>Night Calls</th>\n",
       "      <th>Night Charge</th>\n",
       "      <th>Intl Mins</th>\n",
       "      <th>Intl Calls</th>\n",
       "      <th>Intl Charge</th>\n",
       "      <th>CustServ Calls</th>\n",
       "      <th>area__415</th>\n",
       "      <th>area__510</th>\n",
       "    </tr>\n",
       "  </thead>\n",
       "  <tbody>\n",
       "    <tr>\n",
       "      <th>count</th>\n",
       "      <td>3.333000e+03</td>\n",
       "      <td>3.333000e+03</td>\n",
       "      <td>3.333000e+03</td>\n",
       "      <td>3.333000e+03</td>\n",
       "      <td>3.333000e+03</td>\n",
       "      <td>3.333000e+03</td>\n",
       "      <td>3.333000e+03</td>\n",
       "      <td>3.333000e+03</td>\n",
       "      <td>3.333000e+03</td>\n",
       "      <td>3.333000e+03</td>\n",
       "      <td>3.333000e+03</td>\n",
       "      <td>3.333000e+03</td>\n",
       "      <td>3.333000e+03</td>\n",
       "      <td>3.333000e+03</td>\n",
       "      <td>3.333000e+03</td>\n",
       "      <td>3.333000e+03</td>\n",
       "      <td>3.333000e+03</td>\n",
       "      <td>3.333000e+03</td>\n",
       "      <td>3.333000e+03</td>\n",
       "      <td>3.333000e+03</td>\n",
       "    </tr>\n",
       "    <tr>\n",
       "      <th>mean</th>\n",
       "      <td>3.694415e-16</td>\n",
       "      <td>1.713134e-16</td>\n",
       "      <td>-1.021951e-16</td>\n",
       "      <td>6.921823e-17</td>\n",
       "      <td>3.832651e-16</td>\n",
       "      <td>7.081711e-16</td>\n",
       "      <td>-2.150828e-16</td>\n",
       "      <td>-3.226409e-16</td>\n",
       "      <td>-1.067919e-16</td>\n",
       "      <td>3.527531e-16</td>\n",
       "      <td>1.266447e-16</td>\n",
       "      <td>6.602046e-17</td>\n",
       "      <td>-7.041739e-17</td>\n",
       "      <td>-3.134473e-17</td>\n",
       "      <td>-3.274375e-16</td>\n",
       "      <td>-1.264615e-16</td>\n",
       "      <td>2.785384e-16</td>\n",
       "      <td>3.275708e-16</td>\n",
       "      <td>8.076348e-16</td>\n",
       "      <td>3.511209e-16</td>\n",
       "    </tr>\n",
       "    <tr>\n",
       "      <th>std</th>\n",
       "      <td>1.000150e+00</td>\n",
       "      <td>1.000150e+00</td>\n",
       "      <td>1.000150e+00</td>\n",
       "      <td>1.000150e+00</td>\n",
       "      <td>1.000150e+00</td>\n",
       "      <td>1.000150e+00</td>\n",
       "      <td>1.000150e+00</td>\n",
       "      <td>1.000150e+00</td>\n",
       "      <td>1.000150e+00</td>\n",
       "      <td>1.000150e+00</td>\n",
       "      <td>1.000150e+00</td>\n",
       "      <td>1.000150e+00</td>\n",
       "      <td>1.000150e+00</td>\n",
       "      <td>1.000150e+00</td>\n",
       "      <td>1.000150e+00</td>\n",
       "      <td>1.000150e+00</td>\n",
       "      <td>1.000150e+00</td>\n",
       "      <td>1.000150e+00</td>\n",
       "      <td>1.000150e+00</td>\n",
       "      <td>1.000150e+00</td>\n",
       "    </tr>\n",
       "    <tr>\n",
       "      <th>min</th>\n",
       "      <td>-1.882355e+00</td>\n",
       "      <td>-2.513172e+00</td>\n",
       "      <td>-3.275805e-01</td>\n",
       "      <td>-6.183963e-01</td>\n",
       "      <td>-5.917599e-01</td>\n",
       "      <td>-3.301096e+00</td>\n",
       "      <td>-5.005247e+00</td>\n",
       "      <td>-3.301162e+00</td>\n",
       "      <td>-3.963622e+00</td>\n",
       "      <td>-5.025911e+00</td>\n",
       "      <td>-3.963679e+00</td>\n",
       "      <td>-3.513648e+00</td>\n",
       "      <td>-3.429870e+00</td>\n",
       "      <td>-3.515366e+00</td>\n",
       "      <td>-3.667413e+00</td>\n",
       "      <td>-1.820289e+00</td>\n",
       "      <td>-3.668210e+00</td>\n",
       "      <td>-1.188218e+00</td>\n",
       "      <td>-9.931230e-01</td>\n",
       "      <td>-5.804683e-01</td>\n",
       "    </tr>\n",
       "    <tr>\n",
       "      <th>25%</th>\n",
       "      <td>-6.730589e-01</td>\n",
       "      <td>-6.797448e-01</td>\n",
       "      <td>-3.275805e-01</td>\n",
       "      <td>-6.183963e-01</td>\n",
       "      <td>-5.917599e-01</td>\n",
       "      <td>-6.624241e-01</td>\n",
       "      <td>-6.695701e-01</td>\n",
       "      <td>-6.623760e-01</td>\n",
       "      <td>-6.780300e-01</td>\n",
       "      <td>-6.583610e-01</td>\n",
       "      <td>-6.783123e-01</td>\n",
       "      <td>-6.698545e-01</td>\n",
       "      <td>-6.699340e-01</td>\n",
       "      <td>-6.676792e-01</td>\n",
       "      <td>-6.223690e-01</td>\n",
       "      <td>-6.011951e-01</td>\n",
       "      <td>-6.164341e-01</td>\n",
       "      <td>-4.279320e-01</td>\n",
       "      <td>-9.931230e-01</td>\n",
       "      <td>-5.804683e-01</td>\n",
       "    </tr>\n",
       "    <tr>\n",
       "      <th>50%</th>\n",
       "      <td>-2.627621e-01</td>\n",
       "      <td>-1.627644e-03</td>\n",
       "      <td>-3.275805e-01</td>\n",
       "      <td>-6.183963e-01</td>\n",
       "      <td>-5.917599e-01</td>\n",
       "      <td>-6.887677e-03</td>\n",
       "      <td>2.812491e-02</td>\n",
       "      <td>-6.730063e-03</td>\n",
       "      <td>8.276141e-03</td>\n",
       "      <td>-5.738630e-03</td>\n",
       "      <td>8.459274e-03</td>\n",
       "      <td>6.485803e-03</td>\n",
       "      <td>-5.505089e-03</td>\n",
       "      <td>4.691242e-03</td>\n",
       "      <td>2.246393e-02</td>\n",
       "      <td>-1.948306e-01</td>\n",
       "      <td>2.045823e-02</td>\n",
       "      <td>-4.279320e-01</td>\n",
       "      <td>-9.931230e-01</td>\n",
       "      <td>-5.804683e-01</td>\n",
       "    </tr>\n",
       "    <tr>\n",
       "      <th>75%</th>\n",
       "      <td>6.237517e-01</td>\n",
       "      <td>6.513740e-01</td>\n",
       "      <td>-3.275805e-01</td>\n",
       "      <td>1.617086e+00</td>\n",
       "      <td>8.695542e-01</td>\n",
       "      <td>6.725198e-01</td>\n",
       "      <td>6.759846e-01</td>\n",
       "      <td>6.726790e-01</td>\n",
       "      <td>6.768330e-01</td>\n",
       "      <td>6.970854e-01</td>\n",
       "      <td>6.766695e-01</td>\n",
       "      <td>6.808485e-01</td>\n",
       "      <td>6.589239e-01</td>\n",
       "      <td>6.814562e-01</td>\n",
       "      <td>6.672969e-01</td>\n",
       "      <td>6.178983e-01</td>\n",
       "      <td>6.706192e-01</td>\n",
       "      <td>3.323545e-01</td>\n",
       "      <td>1.006925e+00</td>\n",
       "      <td>1.722747e+00</td>\n",
       "    </tr>\n",
       "    <tr>\n",
       "      <th>max</th>\n",
       "      <td>3.064764e+00</td>\n",
       "      <td>3.564766e+00</td>\n",
       "      <td>3.052685e+00</td>\n",
       "      <td>1.617086e+00</td>\n",
       "      <td>3.134591e+00</td>\n",
       "      <td>3.140422e+00</td>\n",
       "      <td>3.217588e+00</td>\n",
       "      <td>3.140803e+00</td>\n",
       "      <td>3.209066e+00</td>\n",
       "      <td>3.508382e+00</td>\n",
       "      <td>3.207980e+00</td>\n",
       "      <td>3.839081e+00</td>\n",
       "      <td>3.827739e+00</td>\n",
       "      <td>3.836763e+00</td>\n",
       "      <td>3.497397e+00</td>\n",
       "      <td>6.307001e+00</td>\n",
       "      <td>3.496829e+00</td>\n",
       "      <td>5.654360e+00</td>\n",
       "      <td>1.006925e+00</td>\n",
       "      <td>1.722747e+00</td>\n",
       "    </tr>\n",
       "  </tbody>\n",
       "</table>\n",
       "</div>"
      ],
      "text/plain": [
       "       churnMoy_state  Account Length    Int'l Plan    VMail Plan  \\\n",
       "count    3.333000e+03    3.333000e+03  3.333000e+03  3.333000e+03   \n",
       "mean     3.694415e-16    1.713134e-16 -1.021951e-16  6.921823e-17   \n",
       "std      1.000150e+00    1.000150e+00  1.000150e+00  1.000150e+00   \n",
       "min     -1.882355e+00   -2.513172e+00 -3.275805e-01 -6.183963e-01   \n",
       "25%     -6.730589e-01   -6.797448e-01 -3.275805e-01 -6.183963e-01   \n",
       "50%     -2.627621e-01   -1.627644e-03 -3.275805e-01 -6.183963e-01   \n",
       "75%      6.237517e-01    6.513740e-01 -3.275805e-01  1.617086e+00   \n",
       "max      3.064764e+00    3.564766e+00  3.052685e+00  1.617086e+00   \n",
       "\n",
       "       VMail Message      Day Mins     Day Calls    Day Charge      Eve Mins  \\\n",
       "count   3.333000e+03  3.333000e+03  3.333000e+03  3.333000e+03  3.333000e+03   \n",
       "mean    3.832651e-16  7.081711e-16 -2.150828e-16 -3.226409e-16 -1.067919e-16   \n",
       "std     1.000150e+00  1.000150e+00  1.000150e+00  1.000150e+00  1.000150e+00   \n",
       "min    -5.917599e-01 -3.301096e+00 -5.005247e+00 -3.301162e+00 -3.963622e+00   \n",
       "25%    -5.917599e-01 -6.624241e-01 -6.695701e-01 -6.623760e-01 -6.780300e-01   \n",
       "50%    -5.917599e-01 -6.887677e-03  2.812491e-02 -6.730063e-03  8.276141e-03   \n",
       "75%     8.695542e-01  6.725198e-01  6.759846e-01  6.726790e-01  6.768330e-01   \n",
       "max     3.134591e+00  3.140422e+00  3.217588e+00  3.140803e+00  3.209066e+00   \n",
       "\n",
       "          Eve Calls    Eve Charge    Night Mins   Night Calls  Night Charge  \\\n",
       "count  3.333000e+03  3.333000e+03  3.333000e+03  3.333000e+03  3.333000e+03   \n",
       "mean   3.527531e-16  1.266447e-16  6.602046e-17 -7.041739e-17 -3.134473e-17   \n",
       "std    1.000150e+00  1.000150e+00  1.000150e+00  1.000150e+00  1.000150e+00   \n",
       "min   -5.025911e+00 -3.963679e+00 -3.513648e+00 -3.429870e+00 -3.515366e+00   \n",
       "25%   -6.583610e-01 -6.783123e-01 -6.698545e-01 -6.699340e-01 -6.676792e-01   \n",
       "50%   -5.738630e-03  8.459274e-03  6.485803e-03 -5.505089e-03  4.691242e-03   \n",
       "75%    6.970854e-01  6.766695e-01  6.808485e-01  6.589239e-01  6.814562e-01   \n",
       "max    3.508382e+00  3.207980e+00  3.839081e+00  3.827739e+00  3.836763e+00   \n",
       "\n",
       "          Intl Mins    Intl Calls   Intl Charge  CustServ Calls     area__415  \\\n",
       "count  3.333000e+03  3.333000e+03  3.333000e+03    3.333000e+03  3.333000e+03   \n",
       "mean  -3.274375e-16 -1.264615e-16  2.785384e-16    3.275708e-16  8.076348e-16   \n",
       "std    1.000150e+00  1.000150e+00  1.000150e+00    1.000150e+00  1.000150e+00   \n",
       "min   -3.667413e+00 -1.820289e+00 -3.668210e+00   -1.188218e+00 -9.931230e-01   \n",
       "25%   -6.223690e-01 -6.011951e-01 -6.164341e-01   -4.279320e-01 -9.931230e-01   \n",
       "50%    2.246393e-02 -1.948306e-01  2.045823e-02   -4.279320e-01 -9.931230e-01   \n",
       "75%    6.672969e-01  6.178983e-01  6.706192e-01    3.323545e-01  1.006925e+00   \n",
       "max    3.497397e+00  6.307001e+00  3.496829e+00    5.654360e+00  1.006925e+00   \n",
       "\n",
       "          area__510  \n",
       "count  3.333000e+03  \n",
       "mean   3.511209e-16  \n",
       "std    1.000150e+00  \n",
       "min   -5.804683e-01  \n",
       "25%   -5.804683e-01  \n",
       "50%   -5.804683e-01  \n",
       "75%    1.722747e+00  \n",
       "max    1.722747e+00  "
      ]
     },
     "execution_count": 26,
     "metadata": {},
     "output_type": "execute_result"
    }
   ],
   "source": [
    "\n",
    "# 14.4% de churners\n",
    "y.mean()\n",
    "X.describe()"
   ]
  },
  {
   "cell_type": "code",
   "execution_count": 27,
   "metadata": {},
   "outputs": [],
   "source": [
    "\n",
    "\n",
    "#concatenation X et y pour utiliser la fonction boxplot\n",
    "Xy = pd.concat([X,pd.DataFrame(y)], axis = 1)\n",
    "# noms des variables \n",
    "Xy.columns=features+['Churn?']\n"
   ]
  },
  {
   "cell_type": "code",
   "execution_count": 28,
   "metadata": {},
   "outputs": [],
   "source": [
    "import pickle\n",
    "file=open(\"churn_prepared.pydata\",\"wb\")\n",
    "pickle.dump(Xy,file)\n",
    "file.close()"
   ]
  },
  {
   "cell_type": "code",
   "execution_count": null,
   "metadata": {},
   "outputs": [],
   "source": [
    "#box plot\n",
    "#Xy.boxplot(column = ['Account Length'], by = 'Churn?')\n",
    "Xy.boxplot(column = features[0:6], by = 'Churn?')\n",
    "Xy.boxplot(column = features[6:12], by = 'Churn?')\n",
    "Xy.boxplot(column = features[12:], by = 'Churn?')"
   ]
  },
  {
   "cell_type": "code",
   "execution_count": 30,
   "metadata": {},
   "outputs": [
    {
     "name": "stdout",
     "output_type": "stream",
     "text": [
      "col_0       False  True \n",
      "Int'l Plan              \n",
      "-0.327580    2664    346\n",
      " 3.052685     186    137\n",
      "col_0          False     True \n",
      "Int'l Plan                    \n",
      "-0.327580   0.885050  0.114950\n",
      " 3.052685   0.575851  0.424149\n",
      "col_0       False  True \n",
      "VMail Plan              \n",
      "-0.618396    2008    403\n",
      " 1.617086     842     80\n",
      "col_0          False     True \n",
      "VMail Plan                    \n",
      "-0.618396   0.832849  0.167151\n",
      " 1.617086   0.913232  0.086768\n",
      "col_0      False  True \n",
      "area__415              \n",
      "-0.993123   1431    247\n",
      " 1.006925   1419    236\n",
      "col_0         False     True \n",
      "area__415                    \n",
      "-0.993123  0.852801  0.147199\n",
      " 1.006925  0.857402  0.142598\n",
      "col_0      False  True \n",
      "area__510              \n",
      "-0.580468   2135    358\n",
      " 1.722747    715    125\n",
      "col_0         False     True \n",
      "area__510                    \n",
      "-0.580468  0.856398  0.143602\n",
      " 1.722747  0.851190  0.148810\n"
     ]
    }
   ],
   "source": [
    "# tri croisé des var quali\n",
    "\n",
    "for i in (\"Int'l Plan\",\"VMail Plan\",\"area__415\",\"area__510\"):\n",
    "     print(pd.crosstab(X[\"\"+str(i)],y))\n",
    "     print(pd.crosstab(X[\"\"+str(i)],y).apply(lambda r: r/r.sum(), axis=1))"
   ]
  }
 ],
 "metadata": {
  "kernelspec": {
   "display_name": "Python 3",
   "language": "python",
   "name": "python3"
  },
  "language_info": {
   "codemirror_mode": {
    "name": "ipython",
    "version": 3
   },
   "file_extension": ".py",
   "mimetype": "text/x-python",
   "name": "python",
   "nbconvert_exporter": "python",
   "pygments_lexer": "ipython3",
   "version": "3.7.3"
  }
 },
 "nbformat": 4,
 "nbformat_minor": 2
}
