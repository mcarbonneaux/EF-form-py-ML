{
 "cells": [
  {
   "cell_type": "markdown",
   "metadata": {},
   "source": [
    "## Intro"
   ]
  },
  {
   "cell_type": "code",
   "execution_count": 1,
   "metadata": {},
   "outputs": [],
   "source": [
    "import spacy\n",
    "nlp = spacy.load('fr_core_news_sm')"
   ]
  },
  {
   "cell_type": "code",
   "execution_count": 2,
   "metadata": {},
   "outputs": [],
   "source": [
    "doc = nlp(\"En ce début 2020, les notaires d’Ile-de-France pointent un marché parisien atypique \\\n",
    "          avec des volumes de vente qui diminuent depuis deux ans. \\\n",
    "          Avec moins de 35 200 ventes d’appartements, la capitale est en effet le seul secteur \\\n",
    "          où le nombre de transactions est en baisse sur un an.\")"
   ]
  },
  {
   "cell_type": "code",
   "execution_count": 3,
   "metadata": {},
   "outputs": [
    {
     "name": "stdout",
     "output_type": "stream",
     "text": [
      "En\n"
     ]
    }
   ],
   "source": [
    "print(doc[0].text)"
   ]
  },
  {
   "cell_type": "code",
   "execution_count": 4,
   "metadata": {},
   "outputs": [
    {
     "name": "stdout",
     "output_type": "stream",
     "text": [
      "les notaires\n"
     ]
    }
   ],
   "source": [
    "print(doc[5:7].text)"
   ]
  },
  {
   "cell_type": "code",
   "execution_count": 5,
   "metadata": {},
   "outputs": [
    {
     "name": "stdout",
     "output_type": "stream",
     "text": [
      "un marché parisien atypique           \n"
     ]
    }
   ],
   "source": [
    "noun_chunks = list(doc.noun_chunks)\n",
    "print(noun_chunks[2].text)"
   ]
  },
  {
   "cell_type": "code",
   "execution_count": 6,
   "metadata": {},
   "outputs": [
    {
     "name": "stdout",
     "output_type": "stream",
     "text": [
      "La\n",
      "semaine\n",
      "prochaine\n",
      "je\n",
      "serai\n",
      "à\n",
      "Dublin\n"
     ]
    }
   ],
   "source": [
    "doc = nlp(\"La semaine prochaine je serai à Dublin\")\n",
    "\n",
    "for token in doc:\n",
    "    print(token.text)"
   ]
  },
  {
   "cell_type": "code",
   "execution_count": 7,
   "metadata": {},
   "outputs": [
    {
     "name": "stdout",
     "output_type": "stream",
     "text": [
      "La DET det\n",
      "semaine NOUN nsubj\n",
      "prochaine ADJ amod\n",
      "je PRON nsubj\n",
      "serai VERB ROOT\n",
      "à ADP case\n",
      "Dublin PROPN obl\n"
     ]
    }
   ],
   "source": [
    "for token in doc:\n",
    "    print(token.text, token.pos_, token.dep_)"
   ]
  },
  {
   "cell_type": "code",
   "execution_count": 8,
   "metadata": {},
   "outputs": [
    {
     "name": "stdout",
     "output_type": "stream",
     "text": [
      "La\t0\tle\tFalse\tFalse\tXx\tDET\tDET__Definite=Def|Gender=Fem|Number=Sing|PronType=Art\n",
      "semaine\t3\tsemaine\tFalse\tFalse\txxxx\tNOUN\tNOUN__Gender=Fem|Number=Sing\n",
      "prochaine\t11\tprochain\tFalse\tFalse\txxxx\tADJ\tADJ__Gender=Fem|Number=Sing\n",
      "je\t21\tje\tFalse\tFalse\txx\tPRON\tPRON__Number=Sing|Person=1\n",
      "serai\t24\têtre\tFalse\tFalse\txxxx\tVERB\tVERB__Mood=Ind|Number=Sing|Person=1|Tense=Fut|VerbForm=Fin\n",
      "à\t30\tà\tFalse\tFalse\tx\tADP\tADP___\n",
      "Dublin\t32\tDublin\tFalse\tFalse\tXxxxx\tPROPN\tPROPN__Gender=Masc|Number=Sing\n"
     ]
    }
   ],
   "source": [
    "for token in doc:\n",
    "    print(\"{0}\\t{1}\\t{2}\\t{3}\\t{4}\\t{5}\\t{6}\\t{7}\".format(\n",
    "        token.text,\n",
    "        token.idx,\n",
    "        token.lemma_,\n",
    "        token.is_punct,\n",
    "        token.is_space,\n",
    "        token.shape_,\n",
    "        token.pos_,\n",
    "        token.tag_\n",
    "    ))"
   ]
  },
  {
   "cell_type": "code",
   "execution_count": 9,
   "metadata": {},
   "outputs": [
    {
     "data": {
      "text/html": [
       "<svg xmlns=\"http://www.w3.org/2000/svg\" xmlns:xlink=\"http://www.w3.org/1999/xlink\" xml:lang=\"fr\" id=\"e02e7b2c49cb4897b5b992a0a34b3eb6-0\" class=\"displacy\" width=\"1100\" height=\"362.0\" direction=\"ltr\" style=\"max-width: none; height: 362.0px; color: white; background: grey; font-family: Trebuchet MS; direction: ltr\">\n",
       "<text class=\"displacy-token\" fill=\"currentColor\" text-anchor=\"middle\" y=\"272.0\">\n",
       "    <tspan class=\"displacy-word\" fill=\"currentColor\" x=\"50\">La</tspan>\n",
       "    <tspan class=\"displacy-tag\" dy=\"2em\" fill=\"currentColor\" x=\"50\">DET</tspan>\n",
       "</text>\n",
       "\n",
       "<text class=\"displacy-token\" fill=\"currentColor\" text-anchor=\"middle\" y=\"272.0\">\n",
       "    <tspan class=\"displacy-word\" fill=\"currentColor\" x=\"200\">semaine</tspan>\n",
       "    <tspan class=\"displacy-tag\" dy=\"2em\" fill=\"currentColor\" x=\"200\">NOUN</tspan>\n",
       "</text>\n",
       "\n",
       "<text class=\"displacy-token\" fill=\"currentColor\" text-anchor=\"middle\" y=\"272.0\">\n",
       "    <tspan class=\"displacy-word\" fill=\"currentColor\" x=\"350\">prochaine</tspan>\n",
       "    <tspan class=\"displacy-tag\" dy=\"2em\" fill=\"currentColor\" x=\"350\">ADJ</tspan>\n",
       "</text>\n",
       "\n",
       "<text class=\"displacy-token\" fill=\"currentColor\" text-anchor=\"middle\" y=\"272.0\">\n",
       "    <tspan class=\"displacy-word\" fill=\"currentColor\" x=\"500\">je</tspan>\n",
       "    <tspan class=\"displacy-tag\" dy=\"2em\" fill=\"currentColor\" x=\"500\">PRON</tspan>\n",
       "</text>\n",
       "\n",
       "<text class=\"displacy-token\" fill=\"currentColor\" text-anchor=\"middle\" y=\"272.0\">\n",
       "    <tspan class=\"displacy-word\" fill=\"currentColor\" x=\"650\">serai</tspan>\n",
       "    <tspan class=\"displacy-tag\" dy=\"2em\" fill=\"currentColor\" x=\"650\">VERB</tspan>\n",
       "</text>\n",
       "\n",
       "<text class=\"displacy-token\" fill=\"currentColor\" text-anchor=\"middle\" y=\"272.0\">\n",
       "    <tspan class=\"displacy-word\" fill=\"currentColor\" x=\"800\">à</tspan>\n",
       "    <tspan class=\"displacy-tag\" dy=\"2em\" fill=\"currentColor\" x=\"800\">ADP</tspan>\n",
       "</text>\n",
       "\n",
       "<text class=\"displacy-token\" fill=\"currentColor\" text-anchor=\"middle\" y=\"272.0\">\n",
       "    <tspan class=\"displacy-word\" fill=\"currentColor\" x=\"950\">Dublin</tspan>\n",
       "    <tspan class=\"displacy-tag\" dy=\"2em\" fill=\"currentColor\" x=\"950\">PROPN</tspan>\n",
       "</text>\n",
       "\n",
       "<g class=\"displacy-arrow\">\n",
       "    <path class=\"displacy-arc\" id=\"arrow-e02e7b2c49cb4897b5b992a0a34b3eb6-0-0\" stroke-width=\"2px\" d=\"M62,227.0 62,202.0 194.0,202.0 194.0,227.0\" fill=\"none\" stroke=\"currentColor\"/>\n",
       "    <text dy=\"1.25em\" style=\"font-size: 0.8em; letter-spacing: 1px\">\n",
       "        <textPath xlink:href=\"#arrow-e02e7b2c49cb4897b5b992a0a34b3eb6-0-0\" class=\"displacy-label\" startOffset=\"50%\" side=\"left\" fill=\"currentColor\" text-anchor=\"middle\">det</textPath>\n",
       "    </text>\n",
       "    <path class=\"displacy-arrowhead\" d=\"M62,229.0 L58,221.0 66,221.0\" fill=\"currentColor\"/>\n",
       "</g>\n",
       "\n",
       "<g class=\"displacy-arrow\">\n",
       "    <path class=\"displacy-arc\" id=\"arrow-e02e7b2c49cb4897b5b992a0a34b3eb6-0-1\" stroke-width=\"2px\" d=\"M212,227.0 212,152.0 650.0,152.0 650.0,227.0\" fill=\"none\" stroke=\"currentColor\"/>\n",
       "    <text dy=\"1.25em\" style=\"font-size: 0.8em; letter-spacing: 1px\">\n",
       "        <textPath xlink:href=\"#arrow-e02e7b2c49cb4897b5b992a0a34b3eb6-0-1\" class=\"displacy-label\" startOffset=\"50%\" side=\"left\" fill=\"currentColor\" text-anchor=\"middle\">nsubj</textPath>\n",
       "    </text>\n",
       "    <path class=\"displacy-arrowhead\" d=\"M212,229.0 L208,221.0 216,221.0\" fill=\"currentColor\"/>\n",
       "</g>\n",
       "\n",
       "<g class=\"displacy-arrow\">\n",
       "    <path class=\"displacy-arc\" id=\"arrow-e02e7b2c49cb4897b5b992a0a34b3eb6-0-2\" stroke-width=\"2px\" d=\"M212,227.0 212,202.0 344.0,202.0 344.0,227.0\" fill=\"none\" stroke=\"currentColor\"/>\n",
       "    <text dy=\"1.25em\" style=\"font-size: 0.8em; letter-spacing: 1px\">\n",
       "        <textPath xlink:href=\"#arrow-e02e7b2c49cb4897b5b992a0a34b3eb6-0-2\" class=\"displacy-label\" startOffset=\"50%\" side=\"left\" fill=\"currentColor\" text-anchor=\"middle\">amod</textPath>\n",
       "    </text>\n",
       "    <path class=\"displacy-arrowhead\" d=\"M344.0,229.0 L348.0,221.0 340.0,221.0\" fill=\"currentColor\"/>\n",
       "</g>\n",
       "\n",
       "<g class=\"displacy-arrow\">\n",
       "    <path class=\"displacy-arc\" id=\"arrow-e02e7b2c49cb4897b5b992a0a34b3eb6-0-3\" stroke-width=\"2px\" d=\"M512,227.0 512,202.0 644.0,202.0 644.0,227.0\" fill=\"none\" stroke=\"currentColor\"/>\n",
       "    <text dy=\"1.25em\" style=\"font-size: 0.8em; letter-spacing: 1px\">\n",
       "        <textPath xlink:href=\"#arrow-e02e7b2c49cb4897b5b992a0a34b3eb6-0-3\" class=\"displacy-label\" startOffset=\"50%\" side=\"left\" fill=\"currentColor\" text-anchor=\"middle\">nsubj</textPath>\n",
       "    </text>\n",
       "    <path class=\"displacy-arrowhead\" d=\"M512,229.0 L508,221.0 516,221.0\" fill=\"currentColor\"/>\n",
       "</g>\n",
       "\n",
       "<g class=\"displacy-arrow\">\n",
       "    <path class=\"displacy-arc\" id=\"arrow-e02e7b2c49cb4897b5b992a0a34b3eb6-0-4\" stroke-width=\"2px\" d=\"M812,227.0 812,202.0 944.0,202.0 944.0,227.0\" fill=\"none\" stroke=\"currentColor\"/>\n",
       "    <text dy=\"1.25em\" style=\"font-size: 0.8em; letter-spacing: 1px\">\n",
       "        <textPath xlink:href=\"#arrow-e02e7b2c49cb4897b5b992a0a34b3eb6-0-4\" class=\"displacy-label\" startOffset=\"50%\" side=\"left\" fill=\"currentColor\" text-anchor=\"middle\">case</textPath>\n",
       "    </text>\n",
       "    <path class=\"displacy-arrowhead\" d=\"M812,229.0 L808,221.0 816,221.0\" fill=\"currentColor\"/>\n",
       "</g>\n",
       "\n",
       "<g class=\"displacy-arrow\">\n",
       "    <path class=\"displacy-arc\" id=\"arrow-e02e7b2c49cb4897b5b992a0a34b3eb6-0-5\" stroke-width=\"2px\" d=\"M662,227.0 662,177.0 947.0,177.0 947.0,227.0\" fill=\"none\" stroke=\"currentColor\"/>\n",
       "    <text dy=\"1.25em\" style=\"font-size: 0.8em; letter-spacing: 1px\">\n",
       "        <textPath xlink:href=\"#arrow-e02e7b2c49cb4897b5b992a0a34b3eb6-0-5\" class=\"displacy-label\" startOffset=\"50%\" side=\"left\" fill=\"currentColor\" text-anchor=\"middle\">obl</textPath>\n",
       "    </text>\n",
       "    <path class=\"displacy-arrowhead\" d=\"M947.0,229.0 L951.0,221.0 943.0,221.0\" fill=\"currentColor\"/>\n",
       "</g>\n",
       "</svg>"
      ],
      "text/plain": [
       "<IPython.core.display.HTML object>"
      ]
     },
     "metadata": {},
     "output_type": "display_data"
    }
   ],
   "source": [
    "options = {'compact': True, 'bg': 'grey',\n",
    "           'color': 'white', 'font': 'Trebuchet MS'}\n",
    "spacy.displacy.render(doc, jupyter=True, style='dep', options=options)"
   ]
  },
  {
   "cell_type": "code",
   "execution_count": 10,
   "metadata": {},
   "outputs": [
    {
     "name": "stdout",
     "output_type": "stream",
     "text": [
      "s’ PER\n",
      "Brexit LOC\n",
      "Bruxelles LOC\n",
      "Theresa May PER\n",
      "Royaume-Uni LOC\n",
      "Union européenne ORG\n",
      "Theresa May LOC\n",
      "Bruxelles LOC\n",
      "Etat LOC\n",
      "Union européenne ORG\n",
      "Mme May PER\n",
      "Européens LOC\n",
      "Brexit LOC\n",
      "UE ORG\n",
      "Etat LOC\n",
      "Angela Merkel PER\n",
      "Bundestag ORG\n"
     ]
    }
   ],
   "source": [
    "doc = nlp('''Un peu, mais pas trop. Les dirigeants européens s’apprêtent à rejeter le report de trois mois du Brexit \n",
    "que vient leur présenter, lors d’un sommet à Bruxelles jeudi 21 mars, la première ministre britannique Theresa May. \n",
    "Ils jugent en effet que la sortie du Royaume-Uni de l’Union européenne peut être retardée, \n",
    "mais pas au-delà des élections européennes de mai.\n",
    "Theresa May est arrivée en début d’après-midi à Bruxelles pour rencontrer les chefs d’Etat et de gouvernement \n",
    "des 27 autres pays de l’Union européenne, lassés des atermoiements britanniques et décidés à poser leurs conditions \n",
    "à un court décalage du divorce.\n",
    "Une prolongation jusqu’au 22 mai en vue\n",
    "Mme May devait exposer en personne aux Européens ce qu’elle leur a écrit la veille : \n",
    "la demande d’un décalage du Brexit – initialement prévu le 29 mars – jusqu’au 30 juin, \n",
    "pour avoir le temps de convaincre les parlementaires britanniques d’accepter, puis de ratifier, \n",
    "le traité de divorce conclu avec l’UE… traité qu’ils ont déjà rejeté par deux fois.\n",
    "Mais, lors d’une réunion informelle mercredi soir, les ambassadeurs des 27 ont déjà donné leur position. \n",
    "« La question de la date sera une décision des chefs d’Etat », à prendre à l’unanimité, a insisté une source européenne, \n",
    "selon qui l’idée est, pour l’heure, de refuser la date du 30 juin et de se diriger vers une prolongation plus courte.\n",
    "prévenu la chancelière allemande, Angela Merkel, jeudi matin, devant le Bundestag.''')\n",
    "for ent in doc.ents:\n",
    "    print(ent.text, ent.label_)"
   ]
  },
  {
   "cell_type": "code",
   "execution_count": 11,
   "metadata": {},
   "outputs": [
    {
     "data": {
      "text/html": [
       "<div class=\"entities\" style=\"line-height: 2.5; direction: ltr\">J'ai acheté 100 actions ce matin car le \n",
       "<mark class=\"entity\" style=\"background: #7aecec; padding: 0.45em 0.6em; margin: 0 0.25em; line-height: 1; border-radius: 0.35em; box-decoration-break: clone; -webkit-box-decoration-break: clone\">\n",
       "    CAC40\n",
       "    <span style=\"font-size: 0.8em; font-weight: bold; line-height: 1; border-radius: 0.35em; text-transform: uppercase; vertical-align: middle; margin-left: 0.5rem\">ORG</span>\n",
       "</mark>\n",
       " a gagné 30% en 2 jours d'après \n",
       "<mark class=\"entity\" style=\"background: #ddd; padding: 0.45em 0.6em; margin: 0 0.25em; line-height: 1; border-radius: 0.35em; box-decoration-break: clone; -webkit-box-decoration-break: clone\">\n",
       "    Les Echos\n",
       "    <span style=\"font-size: 0.8em; font-weight: bold; line-height: 1; border-radius: 0.35em; text-transform: uppercase; vertical-align: middle; margin-left: 0.5rem\">MISC</span>\n",
       "</mark>\n",
       "</div>"
      ],
      "text/plain": [
       "<IPython.core.display.HTML object>"
      ]
     },
     "metadata": {},
     "output_type": "display_data"
    }
   ],
   "source": [
    "doc = nlp(\"J'ai acheté 100 actions ce matin car le CAC40 a gagné 30% en 2 jours d'après Les Echos\")\n",
    "spacy.displacy.render(doc, style='ent', jupyter=True)"
   ]
  },
  {
   "cell_type": "markdown",
   "metadata": {},
   "source": [
    "## Analyse de similarité\n"
   ]
  },
  {
   "cell_type": "code",
   "execution_count": 12,
   "metadata": {},
   "outputs": [],
   "source": [
    "import io\n",
    "import os\n",
    "\n",
    "os.chdir(\"D:/00_EPSILON/06_Formation/Python/NLP/data\")"
   ]
  },
  {
   "cell_type": "code",
   "execution_count": 13,
   "metadata": {},
   "outputs": [],
   "source": [
    "f = io.open(\"hamlet.txt\", mode=\"r\", encoding=\"utf-8\")\n",
    "hamlet = f.read()\n",
    "f = io.open(\"richard3.txt\", mode=\"r\", encoding=\"utf-8\")\n",
    "richard3 = f.read()\n",
    "f = io.open(\"PYTHON_3_TEXT_PROCESSING_WITH_NLTK_3_COOKBOOK.txt\", mode=\"r\", encoding=\"utf-8\")\n",
    "python_cookbook = f.read()"
   ]
  },
  {
   "cell_type": "code",
   "execution_count": 14,
   "metadata": {},
   "outputs": [
    {
     "name": "stdout",
     "output_type": "stream",
     "text": [
      "﻿The Project Gutenberg EBook of Hamlet, by William Shakespeare\n",
      "\n",
      "This eBook is for the use of anyone anywhere at no cost and with\n",
      "almost no restrictions whatsoever.  You may copy it, give it away or\n",
      "re-use it under the terms of the Project Gutenberg License included\n",
      "with this eBook or online at www.gutenberg.net\n",
      "\n",
      "\n",
      "Title: Hamlet\n",
      "\n",
      "Author: William Shakespeare\n",
      "\n",
      "Editor: Charles Kean\n",
      "\n",
      "Release Date: January 10, 2009 [EBook #27761]\n",
      "\n",
      "Language: English\n",
      "\n",
      "Character set encoding: UTF-8\n",
      "\n",
      "*** START OF THIS PROJECT GUTENBERG EBOOK HAMLET ***\n",
      "\n",
      "\n",
      "\n",
      "\n",
      "Produced by David Starner, Curtis Weyant and the Online\n",
      "Distributed Proofreading Team at http://www.pgdp.net\n",
      "\n",
      "\n",
      "\n",
      "\n",
      "\n",
      "\n",
      "\n",
      "\n",
      "\n",
      "    Transcriber's Note:\n",
      "    This is a heavily edited version of _Hamlet_. It was used\n",
      "    for Charles Kean's 1859 stage production. Phrases printed\n",
      "    in italics in the book are indicated in this electronic\n",
      "    version by _ (underscore). Footnotes originally appeared\n",
      "    at the bottom of each page. For this electronic version\n",
      "    the footnotes are collected at the end of each act. In\n",
      "    Act I, Scene 5, the word Uumix'd has been changed to\n",
      "    Unmix'd. A closing bracket ] was added to Act IV footnote\n",
      "    37 after _Naked on your kingdom_,. A closing bracket ]\n",
      "    was added to Act IV footnote 50 after _Venom'd stuck_,.\n",
      "    The word o'er-crows appears in Act V, Scene 3; in\n",
      "    footnote V.81, o'ercrows appears without a hyphen. Both\n",
      "    are as they appear in the book.\n",
      "\n",
      "\n",
      "\n",
      "\n",
      "            SHAKESPEARE'S TRAGEDY\n",
      "\n",
      "                     OF\n",
      "\n",
      "                   HAMLET,\n",
      "             PRINCE OF DENMARK.\n",
      "\n",
      "     ARRANGED FOR REPRESENTATION AT THE\n",
      "          Royal Princess's Theatre\n",
      "\n",
      "                    WITH\n",
      "             EXPLANATORY NOTES,\n",
      "\n",
      "                     BY\n",
      "            CHARLES KEAN, F.S.A.\n",
      "\n",
      "               AS PERFORMED ON\n",
      "          MONDAY, JANUARY 10, 1859.\n",
      "\n",
      "\n",
      "\n",
      "\n",
      "                  LONDON:\n",
      "\n",
      "   BRADBURY AND EVANS, 11, BOUVERIE STREET.\n",
      "                   1859.\n",
      "\n",
      "\n",
      "\n",
      "\n",
      "                  LONDON:\n",
      "  BRADBURY AND EVANS, PRINTERS, WHITEFRIARS.\n",
      "\n",
      "\n",
      "\n",
      "\n",
      "Dramatis Personæ\n",
      "\n",
      "\n",
      "  CLAUDIUS (_King of Denmark_)          Mr. RYDER.\n",
      "\n",
      "  HAMLET (_son to the former and_\n",
      "    _nephew to the present King_).      Mr. CHARLES KEAN.\n",
      "\n",
      "  POLONIUS (_Lord Chamberlain_)         Mr. MEADOWS.\n",
      "\n",
      "  HORATIO (_friend To Hamlet_)          Mr. GRAHAM.\n",
      "\n",
      "  LAERTES (_son To Polonius_)           Mr. J. F. CATHCART.\n",
      "\n",
      "  ROSENCRANTZ     }                  {  Mr. BRAZIER.\n",
      "  GUILDENSTERN    } (_Courtiers_)    {  Mr. G. EVERETT.\n",
      "  OSRICK          }                  {  Mr. DAVID FISHER.\n",
      "\n",
      "  PRIEST                                Mr. TERRY.\n",
      "\n",
      "  MARCELLUS                             Mr. PAULO.\n",
      "\n",
      "  BERNARDO                              Mr. DALY.\n",
      "\n",
      "  FRANCISCO                             Mr. COLLETT.\n",
      "\n",
      "  GHOST OF HAMLET'S FATHER              Mr. WALTER LACY.\n",
      "\n",
      "  FIRST GRAVEDIGGER                     Mr. FRANK MATTHEWS.\n",
      "\n",
      "  SECOND GRAVEDIGGER                    Mr. H. SAKER.\n",
      "\n",
      "  FIRST PLAYER                          Mr. F. COOKE.\n",
      "\n",
      "  SECOND PLAYER                         Mr. ROLLESTON.\n",
      "\n",
      "  GERTRUDE (_Queen of Denmark, and_\n",
      "    _mother of Hamlet_)                 Mrs. CHARLES KEAN.\n",
      "\n",
      "  OPHELIA (_daughter of Polonius_)      Miss HEATH.\n",
      "\n",
      "  ACTRESS                               Miss DALY.\n",
      "\n",
      "\n",
      "\n",
      "\n",
      "STAGE DIRECTIONS.\n",
      "\n",
      "\n",
      "R. H. means Right Hand; L. H. Left Hand; U. E. Upper Entrance; R. H.\n",
      "C. Enters through the Centre from the Right Hand; L. H. C. Enters\n",
      "through the Centre from the Left Hand.\n",
      "\n",
      "\n",
      "RELATIVE POSITIONS OF THE PERFORMERS WHEN ON THE STAGE.\n",
      "\n",
      "R. means on the Right side of the Stage; L. on the Left side of the\n",
      "Stage; C. Centre of the Stage; R. C. Right Centre of the Stage; L. C.\n",
      "Left Centre of the Stage.\n",
      "\n",
      "The reader is supposed _to be on the Stage_, facing the audience.\n",
      "\n",
      "\n",
      "\n",
      "\n",
      "PREFACE.\n",
      "\n",
      "\n",
      "The play of _Hamlet_ is above all others the most stupendous monument\n",
      "of Shakespeare's genius, standing as a beacon to command the wonder\n",
      "and admiration of the world, and as a memorial to future generations,\n",
      "that the mind of its author was moved by little less than inspiration.\n",
      "_Lear_, with its sublime picture of human misery;--_Othello_, with its\n",
      "harrowing overthrow of a nature great and amiable;--_Macbeth_, with\n",
      "its fearful murder of a monarch, whose \"virtues plead like angels\n",
      "trumpet-tongued against the deep damnation of his taking\n",
      "off,\"--severally exhibit, in the most pre-eminent degree, all those\n",
      "mighty elements which constitute the perfection of tragic art--the\n",
      "grand, the pitiful, and the terrible. _Hamlet_ is a history of mind--a\n",
      "tragedy of thought. It contains the deepest philosophy, and most\n",
      "profound wisdom; yet speaks the language of the heart, touching the\n",
      "secret spring of every sense and feeling. Here we have no ideal\n",
      "exaltation of character, but life with its blended faults and\n",
      "virtues,--a gentle nature unstrung by passing events, and thus\n",
      "rendered \"out of tune and harsh.\"\n",
      "\n",
      "The original story of Hamlet is to be found in the Latin pages of the\n",
      "Danish historian, Saxo Grammaticus, who died in the year 1208.\n",
      "Towards the end of the sixteenth century, the French author, Francis\n",
      "de Belleforest, introduced the fable into a collection of novels,\n",
      "which were translated into English, and printed in a small quarto\n",
      "black letter volume, under the title of the \"Historie of Hamblett,\"\n",
      "from which source Shakespeare constructed the present tragedy.\n",
      "\n",
      "Saxo has placed his history about 200 years before Christianity, when\n",
      "barbarians, clothed in skins, peopled the shores of the Baltic. The\n",
      "poet, however, has so far modernised the subject as to make Hamlet a\n",
      "Christian, and England tributary to the \"sovereign majesty of\n",
      "Denmark.\" A date can therefore be easily fixed, and the costume of\n",
      "the tenth and eleventh centuries may be selected for the purpose.\n",
      "There are but few authentic records in existence, but these few\n",
      "afford reason to believe that very slight difference existed between\n",
      "the dress of the Dane and that of the Anglo-Saxon of the same period.\n",
      "\n",
      "Since its first representation, upwards of two centuries and a half\n",
      "ago, no play has been acted so frequently, or commanded such\n",
      "universal admiration. It draws within the sphere of its attraction\n",
      "both the scholastic and the unlearned. It finds a response in every\n",
      "breast, however high or however humble. By its colossal aid it exalts\n",
      "the drama of England above that of every nation, past or present. It\n",
      "is, indeed, the most marvellous creation of human intellect.\n",
      "\n",
      "CHARLES KEAN.\n",
      "\n",
      "\n",
      "\n",
      "\n",
      "HAMLET,\n",
      "\n",
      "PRINCE OF DENMARK.\n",
      "\n",
      "\n",
      "\n",
      "\n",
      "ACT I.\n",
      "\n",
      "SCENE I.--ELSINORE. A PLATFORM BEFORE THE CASTLE. NIGHT.\n",
      "\n",
      "  FRANCISCO _on his post. Enter to him_ BERNARDO (L.H.)\n",
      "\n",
      "  _Ber._ Who's there?\n",
      "\n",
      "  _Fran._ (R.) Nay, answer me:[1] stand, and unfold[2] yourself.\n",
      "\n",
      "  _Ber._ Long live the king![3]\n",
      "\n",
      "  _Fran._                   Bernardo?\n",
      "\n",
      "  _Ber._                             He.\n",
      "\n",
      "  _Fran._ You come most carefully upon your hour.\n",
      "\n",
      "  _Ber._ 'Tis now struck twelve; get thee to bed, Francisco.\n",
      "\n",
      "  _Fran._ For this relief much thanks:\n",
      "\n",
      "    [_Crosses to_ L.]\n",
      "\n",
      "                                      'tis bitter cold,\n",
      "  And I am sick at heart.\n",
      "\n",
      "  _Ber._ Have you had quiet guard?\n",
      "\n",
      "  _Fran._                         Not a mouse stirring.\n",
      "\n",
      "  _Ber._ Well, good night.\n",
      "  If you do meet Horatio and Marcellus,\n",
      "  The rivals of my watch,[4] bid them make haste.\n",
      "\n",
      "  _Fran._ I think I hear them.--Stand, ho! Who's there?\n",
      "\n",
      "  _Hor._ Friends to this ground.\n",
      "\n",
      "  _Mar._                        And liegemen to the Dane.[5]\n",
      "\n",
      "    _Enter_ HORATIO _and_ MARCELLUS (L.H.)\n",
      "\n",
      "  _Fran._ Give you good night.\n",
      "\n",
      "  _Mar._                      O, farewell, honest soldier:\n",
      "  Who hath reliev'd you?\n",
      "\n",
      "  _Fran._ Bernardo hath my place.\n",
      "  Give you good night.\n",
      "\n",
      "    [_Exit_ FRANCISCO, L.H.]\n",
      "\n",
      "  _Mar._         Holloa! Bernardo!\n",
      "\n",
      "  _Ber._                          Say,\n",
      "  What, is Horatio there?\n",
      "\n",
      "  _Hor._ (_Crosses to_ C.) A piece of him.[6]\n",
      "\n",
      "  _Ber._ (R.) Welcome, Horatio: welcome, good Marcellus.\n",
      "\n",
      "  _Hor._ What, has this thing appear'd again to-night?\n",
      "\n",
      "  _Ber._ I have seen nothing.\n",
      "\n",
      "  _Mar._ (L.) Horatio says, 'tis but our fantasy,\n",
      "  And will not let belief take hold of him,\n",
      "  Touching this dreaded sight, twice seen of us:\n",
      "  Therefore I have entreated him, along\n",
      "  With us, to watch the minutes of this night;[7]\n",
      "  That, if again this apparition come,\n",
      "  He may approve our eyes,[8] and speak to it.\n",
      "\n",
      "  _Hor._ Tush! tush! 'twill not appear.\n",
      "\n",
      "  _Ber._ Come, let us once again assail your ears,\n",
      "  That are so fortified against our story,\n",
      "  What we two nights have seen.[9]\n",
      "\n",
      "  _Hor._ Well, let us hear Bernardo speak of this.\n",
      "\n",
      "  _Ber._ Last night of all,\n",
      "  When yon same star that's westward from the pole\n",
      "  Had made his course to illume that part of heaven\n",
      "  Where now it burns, Marcellus, and myself,\n",
      "  The bell then beating one--\n",
      "\n",
      "  _Mar._ Peace, break thee off; look, where it comes\n",
      "  again!\n",
      "\n",
      "    _Enter_ Ghost (L.H.)\n",
      "\n",
      "  _Ber._ In the same figure, like the king that's dead.\n",
      "\n",
      "  _Hor._ Most like:--it harrows me with fear and wonder.[10]\n",
      "\n",
      "  _Ber._ It would be spoke to.\n",
      "\n",
      "  _Mar._ Speak to it, Horatio.\n",
      "\n",
      "  _Hor._ What art thou, that usurp'st this time of night,[11]\n",
      "  Together with that fair and warlike form\n",
      "  In which the majesty of buried Denmark\n",
      "  Did sometimes march? By heaven I charge thee, speak!\n",
      "\n",
      "  _Mar._ It is offended.\n",
      "\n",
      "      [Ghost _crosses to_ R.]\n",
      "\n",
      "  _Ber._                See! it stalks away!\n",
      "\n",
      "  _Hor._ Stay!--speak!--speak, I charge thee, speak!\n",
      "\n",
      "                          [_Exit_ Ghost, R.H.]\n",
      "\n",
      "  _Mar._ 'Tis gone, and will not answer.\n",
      "\n",
      "  _Ber._ How now, Horatio! You tremble, and look pale:\n",
      "  Is not this something more than fantasy?\n",
      "  What think you of it?\n",
      "\n",
      "  _Hor._ Before heaven, I might not this believe,\n",
      "  Without the sensible and true avouch[12]\n",
      "  Of mine own eyes.\n",
      "\n",
      "  _Mar._           Is it not like the king?\n",
      "\n",
      "  _Hor._ As thou art to thyself:\n",
      "  Such was the very armour he had on,\n",
      "  When he the ambitious Norway combated.\n",
      "\n",
      "  _Mar._ Thus, twice before, and jump at this dead hour,[13]\n",
      "  With martial stalk hath he gone by our watch.\n",
      "\n",
      "  _Hor._ In what particular thought to work,[14] I know not;\n",
      "  But in the gross and scope[15] of mine opinion,\n",
      "  This bodes some strange eruption to our "
     ]
    },
    {
     "data": {
      "text/html": [
       "<b>limit_output extension: Maximum message size of 10000 exceeded with 221767 characters</b>"
      ]
     },
     "metadata": {},
     "output_type": "display_data"
    }
   ],
   "source": [
    "print(hamlet)"
   ]
  },
  {
   "cell_type": "code",
   "execution_count": 15,
   "metadata": {},
   "outputs": [],
   "source": [
    "nlp = spacy.load('en_core_web_lg')\n",
    "target = nlp(hamlet)\n",
    " \n",
    "doc1 = nlp(richard3)\n",
    "doc2 = nlp(python_cookbook)"
   ]
  },
  {
   "cell_type": "code",
   "execution_count": 16,
   "metadata": {},
   "outputs": [
    {
     "name": "stdout",
     "output_type": "stream",
     "text": [
      "0.9598175768354685\n",
      "0.9390362513549025\n"
     ]
    }
   ],
   "source": [
    "print(target.similarity(doc1))\n",
    "print(target.similarity(doc2))"
   ]
  },
  {
   "cell_type": "markdown",
   "metadata": {},
   "source": [
    "## Analyse de sentiments"
   ]
  },
  {
   "cell_type": "code",
   "execution_count": 18,
   "metadata": {},
   "outputs": [],
   "source": [
    "import spacy\n",
    "from spacy.tokens import Doc\n",
    "\n",
    "\n",
    "import vaderSentiment\n",
    "from vaderSentiment.vaderSentiment import SentimentIntensityAnalyzer\n",
    " \n",
    "analyzer = SentimentIntensityAnalyzer()\n",
    "def polarity_scores(doc):\n",
    "    return analyzer.polarity_scores(doc.text)\n",
    " \n",
    "Doc.set_extension('polarity_scores', getter=polarity_scores, force=True)\n",
    "\n",
    "nlp = spacy.load('en_core_web_lg')"
   ]
  },
  {
   "cell_type": "code",
   "execution_count": 19,
   "metadata": {},
   "outputs": [
    {
     "name": "stdout",
     "output_type": "stream",
     "text": [
      "{'neg': 0.0, 'pos': 0.565, 'compound': 0.5994, 'neu': 0.435}\n"
     ]
    }
   ],
   "source": [
    "doc = nlp(\"I loved that movie\")\n",
    "print(doc._.polarity_scores)"
   ]
  },
  {
   "cell_type": "code",
   "execution_count": 20,
   "metadata": {},
   "outputs": [
    {
     "name": "stdout",
     "output_type": "stream",
     "text": [
      "{'neg': 0.583, 'pos': 0.0, 'compound': -0.6369, 'neu': 0.417}\n"
     ]
    }
   ],
   "source": [
    "doc = nlp(\"I hated that movie\")\n",
    "print(doc._.polarity_scores)"
   ]
  },
  {
   "cell_type": "code",
   "execution_count": 21,
   "metadata": {},
   "outputs": [],
   "source": [
    "exemples = [('I love this sandwich.', 'pos'),          \n",
    "         ('this is an amazing place!', 'pos'),\n",
    "         ('I feel very good about these beers.', 'pos'),\n",
    "         ('this is my best work.', 'pos'),\n",
    "         (\"what an awesome view\", 'pos'),\n",
    "         ('I do not like this restaurant', 'neg'),\n",
    "         ('I am tired of this stuff.', 'neg'),\n",
    "         (\"I can't deal with this\", 'neg'),\n",
    "         ('he is my sworn enemy!', 'neg'),          \n",
    "         ('my boss is horrible.', 'neg'), \n",
    "        ('the beer was good.', 'pos'),     \n",
    "         ('I do not enjoy my job', 'neg'),\n",
    "         (\"I ain't feelin dandy today.\", 'neg'),\n",
    "         (\"I feel amazing!\", 'pos'),\n",
    "         ('Gary is a good friend of mine.', 'pos'),\n",
    "         (\"I can't believe I'm doing this.\", 'neg')]"
   ]
  },
  {
   "cell_type": "code",
   "execution_count": 22,
   "metadata": {},
   "outputs": [
    {
     "name": "stdout",
     "output_type": "stream",
     "text": [
      "I love this sandwich. {'neg': 0.0, 'pos': 0.583, 'compound': 0.6369, 'neu': 0.417} pos\n",
      "I do not like this restaurant {'neg': 0.297, 'pos': 0.0, 'compound': -0.2755, 'neu': 0.703} neg\n"
     ]
    }
   ],
   "source": [
    "doc = nlp(exemples[0][0])\n",
    "print(doc,doc._.polarity_scores,exemples[0][1])\n",
    "\n",
    "doc = nlp(exemples[5][0])\n",
    "print(doc,doc._.polarity_scores,exemples[5][1])"
   ]
  }
 ],
 "metadata": {
  "kernelspec": {
   "display_name": "Python 3",
   "language": "python",
   "name": "python3"
  },
  "language_info": {
   "codemirror_mode": {
    "name": "ipython",
    "version": 3
   },
   "file_extension": ".py",
   "mimetype": "text/x-python",
   "name": "python",
   "nbconvert_exporter": "python",
   "pygments_lexer": "ipython3",
   "version": "3.5.6"
  },
  "toc": {
   "base_numbering": 1,
   "nav_menu": {},
   "number_sections": true,
   "sideBar": true,
   "skip_h1_title": false,
   "title_cell": "Table of Contents",
   "title_sidebar": "Contents",
   "toc_cell": false,
   "toc_position": {},
   "toc_section_display": true,
   "toc_window_display": false
  },
  "varInspector": {
   "cols": {
    "lenName": 16,
    "lenType": 16,
    "lenVar": 40
   },
   "kernels_config": {
    "python": {
     "delete_cmd_postfix": "",
     "delete_cmd_prefix": "del ",
     "library": "var_list.py",
     "varRefreshCmd": "print(var_dic_list())"
    },
    "r": {
     "delete_cmd_postfix": ") ",
     "delete_cmd_prefix": "rm(",
     "library": "var_list.r",
     "varRefreshCmd": "cat(var_dic_list()) "
    }
   },
   "types_to_exclude": [
    "module",
    "function",
    "builtin_function_or_method",
    "instance",
    "_Feature"
   ],
   "window_display": false
  }
 },
 "nbformat": 4,
 "nbformat_minor": 2
}
